{
 "cells": [
  {
   "cell_type": "markdown",
   "metadata": {},
   "source": [
    "# Análisis exploratorio de datos"
   ]
  },
  {
   "cell_type": "markdown",
   "metadata": {},
   "source": [
    "#### Harlin Acero Acero\n",
    "#### Jeyson Acero Acero\n",
    "#### Minería de Datos - Laboratorio 1"
   ]
  },
  {
   "cell_type": "code",
   "execution_count": 3,
   "metadata": {},
   "outputs": [],
   "source": [
    "import pandas as pd\n",
    "import numpy as np\n",
    "import matplotlib.pyplot as plt\n",
    "import scipy.stats as sp\n"
   ]
  },
  {
   "cell_type": "markdown",
   "metadata": {},
   "source": [
    "#### Importar un archivo de datos"
   ]
  },
  {
   "cell_type": "code",
   "execution_count": 56,
   "metadata": {},
   "outputs": [
    {
     "data": {
      "text/html": [
       "<div>\n",
       "<style scoped>\n",
       "    .dataframe tbody tr th:only-of-type {\n",
       "        vertical-align: middle;\n",
       "    }\n",
       "\n",
       "    .dataframe tbody tr th {\n",
       "        vertical-align: top;\n",
       "    }\n",
       "\n",
       "    .dataframe thead th {\n",
       "        text-align: right;\n",
       "    }\n",
       "</style>\n",
       "<table border=\"1\" class=\"dataframe\">\n",
       "  <thead>\n",
       "    <tr style=\"text-align: right;\">\n",
       "      <th></th>\n",
       "      <th>ID Caso</th>\n",
       "      <th>Clase Vino</th>\n",
       "      <th>Alcohol</th>\n",
       "      <th>Acido Malico</th>\n",
       "      <th>Cenizas</th>\n",
       "      <th>Alcalinidad Cenizas</th>\n",
       "      <th>Magnesio</th>\n",
       "      <th>Fenoles Totales</th>\n",
       "      <th>Flavanoides</th>\n",
       "      <th>Fenoles No Flavanoides</th>\n",
       "      <th>Protoantocianinas</th>\n",
       "      <th>Intensidad Color</th>\n",
       "      <th>Matiz</th>\n",
       "      <th>OD280_OD315 de lso vinos diluidos</th>\n",
       "      <th>Prolina</th>\n",
       "    </tr>\n",
       "  </thead>\n",
       "  <tbody>\n",
       "    <tr>\n",
       "      <th>0</th>\n",
       "      <td>1</td>\n",
       "      <td>1</td>\n",
       "      <td>14.23</td>\n",
       "      <td>1.71</td>\n",
       "      <td>2.43</td>\n",
       "      <td>15.6</td>\n",
       "      <td>127</td>\n",
       "      <td>2.80</td>\n",
       "      <td>3.06</td>\n",
       "      <td>0.28</td>\n",
       "      <td>2.29</td>\n",
       "      <td>5.64</td>\n",
       "      <td>1.04</td>\n",
       "      <td>3.92</td>\n",
       "      <td>1065</td>\n",
       "    </tr>\n",
       "    <tr>\n",
       "      <th>1</th>\n",
       "      <td>2</td>\n",
       "      <td>1</td>\n",
       "      <td>13.20</td>\n",
       "      <td>1.78</td>\n",
       "      <td>2.14</td>\n",
       "      <td>11.2</td>\n",
       "      <td>100</td>\n",
       "      <td>2.65</td>\n",
       "      <td>2.76</td>\n",
       "      <td>0.26</td>\n",
       "      <td>1.28</td>\n",
       "      <td>4.38</td>\n",
       "      <td>1.05</td>\n",
       "      <td>3.40</td>\n",
       "      <td>1050</td>\n",
       "    </tr>\n",
       "    <tr>\n",
       "      <th>2</th>\n",
       "      <td>3</td>\n",
       "      <td>1</td>\n",
       "      <td>13.16</td>\n",
       "      <td>2.36</td>\n",
       "      <td>2.67</td>\n",
       "      <td>18.6</td>\n",
       "      <td>101</td>\n",
       "      <td>2.80</td>\n",
       "      <td>3.24</td>\n",
       "      <td>0.30</td>\n",
       "      <td>2.81</td>\n",
       "      <td>5.68</td>\n",
       "      <td>1.03</td>\n",
       "      <td>3.17</td>\n",
       "      <td>1185</td>\n",
       "    </tr>\n",
       "    <tr>\n",
       "      <th>3</th>\n",
       "      <td>4</td>\n",
       "      <td>1</td>\n",
       "      <td>14.37</td>\n",
       "      <td>1.95</td>\n",
       "      <td>2.50</td>\n",
       "      <td>16.8</td>\n",
       "      <td>113</td>\n",
       "      <td>3.85</td>\n",
       "      <td>3.49</td>\n",
       "      <td>0.24</td>\n",
       "      <td>2.18</td>\n",
       "      <td>7.80</td>\n",
       "      <td>0.86</td>\n",
       "      <td>3.45</td>\n",
       "      <td>1480</td>\n",
       "    </tr>\n",
       "    <tr>\n",
       "      <th>4</th>\n",
       "      <td>5</td>\n",
       "      <td>1</td>\n",
       "      <td>13.24</td>\n",
       "      <td>2.59</td>\n",
       "      <td>2.87</td>\n",
       "      <td>21.0</td>\n",
       "      <td>118</td>\n",
       "      <td>2.80</td>\n",
       "      <td>2.69</td>\n",
       "      <td>0.39</td>\n",
       "      <td>1.82</td>\n",
       "      <td>4.32</td>\n",
       "      <td>1.04</td>\n",
       "      <td>2.93</td>\n",
       "      <td>735</td>\n",
       "    </tr>\n",
       "  </tbody>\n",
       "</table>\n",
       "</div>"
      ],
      "text/plain": [
       "   ID Caso  Clase Vino  Alcohol  Acido Malico  Cenizas  Alcalinidad Cenizas  \\\n",
       "0        1           1    14.23          1.71     2.43                 15.6   \n",
       "1        2           1    13.20          1.78     2.14                 11.2   \n",
       "2        3           1    13.16          2.36     2.67                 18.6   \n",
       "3        4           1    14.37          1.95     2.50                 16.8   \n",
       "4        5           1    13.24          2.59     2.87                 21.0   \n",
       "\n",
       "   Magnesio  Fenoles Totales  Flavanoides  Fenoles No Flavanoides  \\\n",
       "0       127             2.80         3.06                    0.28   \n",
       "1       100             2.65         2.76                    0.26   \n",
       "2       101             2.80         3.24                    0.30   \n",
       "3       113             3.85         3.49                    0.24   \n",
       "4       118             2.80         2.69                    0.39   \n",
       "\n",
       "   Protoantocianinas  Intensidad Color  Matiz  \\\n",
       "0               2.29              5.64   1.04   \n",
       "1               1.28              4.38   1.05   \n",
       "2               2.81              5.68   1.03   \n",
       "3               2.18              7.80   0.86   \n",
       "4               1.82              4.32   1.04   \n",
       "\n",
       "   OD280_OD315 de lso vinos diluidos  Prolina  \n",
       "0                               3.92     1065  \n",
       "1                               3.40     1050  \n",
       "2                               3.17     1185  \n",
       "3                               3.45     1480  \n",
       "4                               2.93      735  "
      ]
     },
     "execution_count": 56,
     "metadata": {},
     "output_type": "execute_result"
    }
   ],
   "source": [
    "\n",
    "df = pd.read_csv(\"./Clasificacion.txt\",sep=\"\\t\")\n",
    "df.head()"
   ]
  },
  {
   "cell_type": "markdown",
   "metadata": {},
   "source": [
    "### Calculo de estadísticas descriptivas\n",
    "Previo a conocer el contexto de los datos, de que variables se componen la data y que representan, el siguiente paso sugerido es calcular las estadísticas descriptivas del conjunto de las variables que componen los datos para revisar su frecuencia, distribución completitud y hacerse una idea de ellos.\n"
   ]
  },
  {
   "cell_type": "code",
   "execution_count": 57,
   "metadata": {},
   "outputs": [
    {
     "name": "stdout",
     "output_type": "stream",
     "text": [
      "El máximo es:3.23\n",
      "El mínimo es:1.36\n",
      "La media es:2.37\n",
      "La desviación estandar es:0.27\n",
      "La varianza es:0.08\n"
     ]
    }
   ],
   "source": [
    "# Cálculo de estadísticas descriptivas\n",
    "print ('El máximo es:' + str(df.Cenizas.max()))\n",
    "print ('El mínimo es:' + str(df.Cenizas.min()))\n",
    "print ('La media es:' + str(round(df.Cenizas.mean(),2)))\n",
    "print ('La desviación estandar es:' + str(round(df.Cenizas.std(),2)))\n",
    "print ('La varianza es:' + str(round(df.Cenizas.var(),2)))"
   ]
  },
  {
   "cell_type": "code",
   "execution_count": 58,
   "metadata": {},
   "outputs": [
    {
     "data": {
      "text/plain": [
       "ID Caso                               90.000000\n",
       "Clase Vino                             1.944134\n",
       "Alcohol                               13.006927\n",
       "Acido Malico                           2.346201\n",
       "Cenizas                                2.368603\n",
       "Alcalinidad Cenizas                   19.522905\n",
       "Magnesio                              99.720670\n",
       "Fenoles Totales                        2.293743\n",
       "Flavanoides                            2.022179\n",
       "Fenoles No Flavanoides                 0.362961\n",
       "Protoantocianinas                      1.589553\n",
       "Intensidad Color                       5.081229\n",
       "Matiz                                  0.955508\n",
       "OD280_OD315 de lso vinos diluidos      2.606034\n",
       "Prolina                              745.849162\n",
       "dtype: float64"
      ]
     },
     "execution_count": 58,
     "metadata": {},
     "output_type": "execute_result"
    }
   ],
   "source": [
    "#Obtenemos el promedio de cada columna del dataset\n",
    "df.mean()"
   ]
  },
  {
   "cell_type": "code",
   "execution_count": 59,
   "metadata": {},
   "outputs": [
    {
     "data": {
      "text/html": [
       "<div>\n",
       "<style scoped>\n",
       "    .dataframe tbody tr th:only-of-type {\n",
       "        vertical-align: middle;\n",
       "    }\n",
       "\n",
       "    .dataframe tbody tr th {\n",
       "        vertical-align: top;\n",
       "    }\n",
       "\n",
       "    .dataframe thead th {\n",
       "        text-align: right;\n",
       "    }\n",
       "</style>\n",
       "<table border=\"1\" class=\"dataframe\">\n",
       "  <thead>\n",
       "    <tr style=\"text-align: right;\">\n",
       "      <th></th>\n",
       "      <th>ID Caso</th>\n",
       "      <th>Clase Vino</th>\n",
       "      <th>Alcohol</th>\n",
       "      <th>Acido Malico</th>\n",
       "      <th>Cenizas</th>\n",
       "      <th>Alcalinidad Cenizas</th>\n",
       "      <th>Magnesio</th>\n",
       "      <th>Fenoles Totales</th>\n",
       "      <th>Flavanoides</th>\n",
       "      <th>Fenoles No Flavanoides</th>\n",
       "      <th>Protoantocianinas</th>\n",
       "      <th>Intensidad Color</th>\n",
       "      <th>Matiz</th>\n",
       "      <th>OD280_OD315 de lso vinos diluidos</th>\n",
       "      <th>Prolina</th>\n",
       "    </tr>\n",
       "  </thead>\n",
       "  <tbody>\n",
       "    <tr>\n",
       "      <th>count</th>\n",
       "      <td>179.000000</td>\n",
       "      <td>179.000000</td>\n",
       "      <td>179.000000</td>\n",
       "      <td>179.000000</td>\n",
       "      <td>179.000000</td>\n",
       "      <td>179.000000</td>\n",
       "      <td>179.000000</td>\n",
       "      <td>179.000000</td>\n",
       "      <td>179.000000</td>\n",
       "      <td>179.000000</td>\n",
       "      <td>179.000000</td>\n",
       "      <td>179.000000</td>\n",
       "      <td>179.000000</td>\n",
       "      <td>179.000000</td>\n",
       "      <td>179.000000</td>\n",
       "    </tr>\n",
       "    <tr>\n",
       "      <th>mean</th>\n",
       "      <td>90.000000</td>\n",
       "      <td>1.944134</td>\n",
       "      <td>13.006927</td>\n",
       "      <td>2.346201</td>\n",
       "      <td>2.368603</td>\n",
       "      <td>19.522905</td>\n",
       "      <td>99.720670</td>\n",
       "      <td>2.293743</td>\n",
       "      <td>2.022179</td>\n",
       "      <td>0.362961</td>\n",
       "      <td>1.589553</td>\n",
       "      <td>5.081229</td>\n",
       "      <td>0.955508</td>\n",
       "      <td>2.606034</td>\n",
       "      <td>745.849162</td>\n",
       "    </tr>\n",
       "    <tr>\n",
       "      <th>std</th>\n",
       "      <td>51.816986</td>\n",
       "      <td>0.776919</td>\n",
       "      <td>0.813932</td>\n",
       "      <td>1.121776</td>\n",
       "      <td>0.274993</td>\n",
       "      <td>3.351116</td>\n",
       "      <td>14.245053</td>\n",
       "      <td>0.624359</td>\n",
       "      <td>1.000557</td>\n",
       "      <td>0.124984</td>\n",
       "      <td>0.571033</td>\n",
       "      <td>2.332401</td>\n",
       "      <td>0.229403</td>\n",
       "      <td>0.712020</td>\n",
       "      <td>314.332206</td>\n",
       "    </tr>\n",
       "    <tr>\n",
       "      <th>min</th>\n",
       "      <td>1.000000</td>\n",
       "      <td>1.000000</td>\n",
       "      <td>11.030000</td>\n",
       "      <td>0.740000</td>\n",
       "      <td>1.360000</td>\n",
       "      <td>10.600000</td>\n",
       "      <td>70.000000</td>\n",
       "      <td>0.980000</td>\n",
       "      <td>0.340000</td>\n",
       "      <td>0.130000</td>\n",
       "      <td>0.410000</td>\n",
       "      <td>1.280000</td>\n",
       "      <td>0.480000</td>\n",
       "      <td>1.270000</td>\n",
       "      <td>278.000000</td>\n",
       "    </tr>\n",
       "    <tr>\n",
       "      <th>25%</th>\n",
       "      <td>45.500000</td>\n",
       "      <td>1.000000</td>\n",
       "      <td>12.365000</td>\n",
       "      <td>1.605000</td>\n",
       "      <td>2.210000</td>\n",
       "      <td>17.200000</td>\n",
       "      <td>88.000000</td>\n",
       "      <td>1.745000</td>\n",
       "      <td>1.150000</td>\n",
       "      <td>0.270000</td>\n",
       "      <td>1.250000</td>\n",
       "      <td>3.230000</td>\n",
       "      <td>0.780000</td>\n",
       "      <td>1.925000</td>\n",
       "      <td>501.000000</td>\n",
       "    </tr>\n",
       "    <tr>\n",
       "      <th>50%</th>\n",
       "      <td>90.000000</td>\n",
       "      <td>2.000000</td>\n",
       "      <td>13.050000</td>\n",
       "      <td>1.870000</td>\n",
       "      <td>2.360000</td>\n",
       "      <td>19.500000</td>\n",
       "      <td>98.000000</td>\n",
       "      <td>2.350000</td>\n",
       "      <td>2.130000</td>\n",
       "      <td>0.340000</td>\n",
       "      <td>1.550000</td>\n",
       "      <td>4.700000</td>\n",
       "      <td>0.960000</td>\n",
       "      <td>2.780000</td>\n",
       "      <td>672.000000</td>\n",
       "    </tr>\n",
       "    <tr>\n",
       "      <th>75%</th>\n",
       "      <td>134.500000</td>\n",
       "      <td>3.000000</td>\n",
       "      <td>13.685000</td>\n",
       "      <td>3.110000</td>\n",
       "      <td>2.560000</td>\n",
       "      <td>21.500000</td>\n",
       "      <td>107.000000</td>\n",
       "      <td>2.800000</td>\n",
       "      <td>2.870000</td>\n",
       "      <td>0.445000</td>\n",
       "      <td>1.950000</td>\n",
       "      <td>6.225000</td>\n",
       "      <td>1.120000</td>\n",
       "      <td>3.170000</td>\n",
       "      <td>985.000000</td>\n",
       "    </tr>\n",
       "    <tr>\n",
       "      <th>max</th>\n",
       "      <td>179.000000</td>\n",
       "      <td>3.000000</td>\n",
       "      <td>14.830000</td>\n",
       "      <td>5.800000</td>\n",
       "      <td>3.230000</td>\n",
       "      <td>30.000000</td>\n",
       "      <td>162.000000</td>\n",
       "      <td>3.880000</td>\n",
       "      <td>5.080000</td>\n",
       "      <td>0.660000</td>\n",
       "      <td>3.580000</td>\n",
       "      <td>13.000000</td>\n",
       "      <td>1.710000</td>\n",
       "      <td>4.000000</td>\n",
       "      <td>1680.000000</td>\n",
       "    </tr>\n",
       "  </tbody>\n",
       "</table>\n",
       "</div>"
      ],
      "text/plain": [
       "          ID Caso  Clase Vino     Alcohol  Acido Malico     Cenizas  \\\n",
       "count  179.000000  179.000000  179.000000    179.000000  179.000000   \n",
       "mean    90.000000    1.944134   13.006927      2.346201    2.368603   \n",
       "std     51.816986    0.776919    0.813932      1.121776    0.274993   \n",
       "min      1.000000    1.000000   11.030000      0.740000    1.360000   \n",
       "25%     45.500000    1.000000   12.365000      1.605000    2.210000   \n",
       "50%     90.000000    2.000000   13.050000      1.870000    2.360000   \n",
       "75%    134.500000    3.000000   13.685000      3.110000    2.560000   \n",
       "max    179.000000    3.000000   14.830000      5.800000    3.230000   \n",
       "\n",
       "       Alcalinidad Cenizas    Magnesio  Fenoles Totales  Flavanoides  \\\n",
       "count           179.000000  179.000000       179.000000   179.000000   \n",
       "mean             19.522905   99.720670         2.293743     2.022179   \n",
       "std               3.351116   14.245053         0.624359     1.000557   \n",
       "min              10.600000   70.000000         0.980000     0.340000   \n",
       "25%              17.200000   88.000000         1.745000     1.150000   \n",
       "50%              19.500000   98.000000         2.350000     2.130000   \n",
       "75%              21.500000  107.000000         2.800000     2.870000   \n",
       "max              30.000000  162.000000         3.880000     5.080000   \n",
       "\n",
       "       Fenoles No Flavanoides  Protoantocianinas  Intensidad Color  \\\n",
       "count              179.000000         179.000000        179.000000   \n",
       "mean                 0.362961           1.589553          5.081229   \n",
       "std                  0.124984           0.571033          2.332401   \n",
       "min                  0.130000           0.410000          1.280000   \n",
       "25%                  0.270000           1.250000          3.230000   \n",
       "50%                  0.340000           1.550000          4.700000   \n",
       "75%                  0.445000           1.950000          6.225000   \n",
       "max                  0.660000           3.580000         13.000000   \n",
       "\n",
       "            Matiz  OD280_OD315 de lso vinos diluidos      Prolina  \n",
       "count  179.000000                         179.000000   179.000000  \n",
       "mean     0.955508                           2.606034   745.849162  \n",
       "std      0.229403                           0.712020   314.332206  \n",
       "min      0.480000                           1.270000   278.000000  \n",
       "25%      0.780000                           1.925000   501.000000  \n",
       "50%      0.960000                           2.780000   672.000000  \n",
       "75%      1.120000                           3.170000   985.000000  \n",
       "max      1.710000                           4.000000  1680.000000  "
      ]
     },
     "execution_count": 59,
     "metadata": {},
     "output_type": "execute_result"
    }
   ],
   "source": [
    "# Obitene los estadísticos de todas las columnas\n",
    "df.describe()"
   ]
  },
  {
   "cell_type": "code",
   "execution_count": 10,
   "metadata": {},
   "outputs": [
    {
     "data": {
      "text/plain": [
       "count    179.000000\n",
       "mean       1.944134\n",
       "std        0.776919\n",
       "min        1.000000\n",
       "25%        1.000000\n",
       "50%        2.000000\n",
       "75%        3.000000\n",
       "max        3.000000\n",
       "Name: Clase Vino, dtype: float64"
      ]
     },
     "execution_count": 10,
     "metadata": {},
     "output_type": "execute_result"
    }
   ],
   "source": [
    "# Obtenemos el estadístico de la columna seleccionada\n",
    "df[\"Clase Vino\"].describe()"
   ]
  },
  {
   "cell_type": "code",
   "execution_count": 11,
   "metadata": {},
   "outputs": [
    {
     "name": "stdout",
     "output_type": "stream",
     "text": [
      "<class 'pandas.core.frame.DataFrame'>\n",
      "RangeIndex: 179 entries, 0 to 178\n",
      "Data columns (total 15 columns):\n",
      "ID Caso                              179 non-null int64\n",
      "Clase Vino                           179 non-null int64\n",
      "Alcohol                              179 non-null float64\n",
      "Acido Malico                         179 non-null float64\n",
      "Cenizas                              179 non-null float64\n",
      "Alcalinidad Cenizas                  179 non-null float64\n",
      "Magnesio                             179 non-null int64\n",
      "Fenoles Totales                      179 non-null float64\n",
      "Flavanoides                          179 non-null float64\n",
      "Fenoles No Flavanoides               179 non-null float64\n",
      "Protoantocianinas                    179 non-null float64\n",
      "Intensidad Color                     179 non-null float64\n",
      "Matiz                                179 non-null float64\n",
      "OD280_OD315 de lso vinos diluidos    179 non-null float64\n",
      "Prolina                              179 non-null int64\n",
      "dtypes: float64(11), int64(4)\n",
      "memory usage: 21.1 KB\n"
     ]
    }
   ],
   "source": [
    "#Obtiene el tipo de dato, y la cantidad de registros de cada columna\n",
    "df.info()"
   ]
  },
  {
   "cell_type": "code",
   "execution_count": 8,
   "metadata": {},
   "outputs": [
    {
     "data": {
      "text/html": [
       "<div>\n",
       "<style scoped>\n",
       "    .dataframe tbody tr th:only-of-type {\n",
       "        vertical-align: middle;\n",
       "    }\n",
       "\n",
       "    .dataframe tbody tr th {\n",
       "        vertical-align: top;\n",
       "    }\n",
       "\n",
       "    .dataframe thead th {\n",
       "        text-align: right;\n",
       "    }\n",
       "</style>\n",
       "<table border=\"1\" class=\"dataframe\">\n",
       "  <thead>\n",
       "    <tr style=\"text-align: right;\">\n",
       "      <th></th>\n",
       "      <th>ID Caso</th>\n",
       "      <th>Clase Vino</th>\n",
       "      <th>Alcohol</th>\n",
       "      <th>Acido Malico</th>\n",
       "      <th>Cenizas</th>\n",
       "      <th>Alcalinidad Cenizas</th>\n",
       "      <th>Magnesio</th>\n",
       "      <th>Fenoles Totales</th>\n",
       "      <th>Flavanoides</th>\n",
       "      <th>Fenoles No Flavanoides</th>\n",
       "      <th>Protoantocianinas</th>\n",
       "      <th>Intensidad Color</th>\n",
       "      <th>Matiz</th>\n",
       "      <th>OD280_OD315 de lso vinos diluidos</th>\n",
       "      <th>Prolina</th>\n",
       "    </tr>\n",
       "  </thead>\n",
       "  <tbody>\n",
       "    <tr>\n",
       "      <th>0</th>\n",
       "      <td>1</td>\n",
       "      <td>1</td>\n",
       "      <td>14.23</td>\n",
       "      <td>1.71</td>\n",
       "      <td>2.43</td>\n",
       "      <td>15.6</td>\n",
       "      <td>127</td>\n",
       "      <td>2.80</td>\n",
       "      <td>3.06</td>\n",
       "      <td>0.28</td>\n",
       "      <td>2.29</td>\n",
       "      <td>5.64</td>\n",
       "      <td>1.04</td>\n",
       "      <td>3.92</td>\n",
       "      <td>1065</td>\n",
       "    </tr>\n",
       "    <tr>\n",
       "      <th>1</th>\n",
       "      <td>2</td>\n",
       "      <td>1</td>\n",
       "      <td>13.20</td>\n",
       "      <td>1.78</td>\n",
       "      <td>2.14</td>\n",
       "      <td>11.2</td>\n",
       "      <td>100</td>\n",
       "      <td>2.65</td>\n",
       "      <td>2.76</td>\n",
       "      <td>0.26</td>\n",
       "      <td>1.28</td>\n",
       "      <td>4.38</td>\n",
       "      <td>1.05</td>\n",
       "      <td>3.40</td>\n",
       "      <td>1050</td>\n",
       "    </tr>\n",
       "  </tbody>\n",
       "</table>\n",
       "</div>"
      ],
      "text/plain": [
       "   ID Caso  Clase Vino  Alcohol  Acido Malico  Cenizas  Alcalinidad Cenizas  \\\n",
       "0        1           1    14.23          1.71     2.43                 15.6   \n",
       "1        2           1    13.20          1.78     2.14                 11.2   \n",
       "\n",
       "   Magnesio  Fenoles Totales  Flavanoides  Fenoles No Flavanoides  \\\n",
       "0       127             2.80         3.06                    0.28   \n",
       "1       100             2.65         2.76                    0.26   \n",
       "\n",
       "   Protoantocianinas  Intensidad Color  Matiz  \\\n",
       "0               2.29              5.64   1.04   \n",
       "1               1.28              4.38   1.05   \n",
       "\n",
       "   OD280_OD315 de lso vinos diluidos  Prolina  \n",
       "0                               3.92     1065  \n",
       "1                               3.40     1050  "
      ]
     },
     "execution_count": 8,
     "metadata": {},
     "output_type": "execute_result"
    }
   ],
   "source": [
    "# Obtemos los dos primeros registros del dataset\n",
    "df.head(2)"
   ]
  },
  {
   "cell_type": "code",
   "execution_count": 60,
   "metadata": {},
   "outputs": [
    {
     "data": {
      "text/plain": [
       "179"
      ]
     },
     "execution_count": 60,
     "metadata": {},
     "output_type": "execute_result"
    }
   ],
   "source": [
    "# Obtenemos el número total de registros en el dataset\n",
    "len(df)"
   ]
  },
  {
   "cell_type": "code",
   "execution_count": 12,
   "metadata": {},
   "outputs": [
    {
     "data": {
      "text/html": [
       "<div>\n",
       "<style scoped>\n",
       "    .dataframe tbody tr th:only-of-type {\n",
       "        vertical-align: middle;\n",
       "    }\n",
       "\n",
       "    .dataframe tbody tr th {\n",
       "        vertical-align: top;\n",
       "    }\n",
       "\n",
       "    .dataframe thead th {\n",
       "        text-align: right;\n",
       "    }\n",
       "</style>\n",
       "<table border=\"1\" class=\"dataframe\">\n",
       "  <thead>\n",
       "    <tr style=\"text-align: right;\">\n",
       "      <th></th>\n",
       "      <th>ID Caso</th>\n",
       "      <th>Clase Vino</th>\n",
       "      <th>Alcohol</th>\n",
       "      <th>Acido Malico</th>\n",
       "      <th>Cenizas</th>\n",
       "      <th>Alcalinidad Cenizas</th>\n",
       "      <th>Magnesio</th>\n",
       "      <th>Fenoles Totales</th>\n",
       "      <th>Flavanoides</th>\n",
       "      <th>Fenoles No Flavanoides</th>\n",
       "      <th>Protoantocianinas</th>\n",
       "      <th>Intensidad Color</th>\n",
       "      <th>Matiz</th>\n",
       "      <th>OD280_OD315 de lso vinos diluidos</th>\n",
       "      <th>Prolina</th>\n",
       "    </tr>\n",
       "  </thead>\n",
       "  <tbody>\n",
       "    <tr>\n",
       "      <th>174</th>\n",
       "      <td>175</td>\n",
       "      <td>3</td>\n",
       "      <td>13.40</td>\n",
       "      <td>3.91</td>\n",
       "      <td>2.48</td>\n",
       "      <td>23.0</td>\n",
       "      <td>102</td>\n",
       "      <td>1.80</td>\n",
       "      <td>0.75</td>\n",
       "      <td>0.43</td>\n",
       "      <td>1.41</td>\n",
       "      <td>7.3</td>\n",
       "      <td>0.70</td>\n",
       "      <td>1.56</td>\n",
       "      <td>750</td>\n",
       "    </tr>\n",
       "    <tr>\n",
       "      <th>175</th>\n",
       "      <td>176</td>\n",
       "      <td>3</td>\n",
       "      <td>13.27</td>\n",
       "      <td>4.28</td>\n",
       "      <td>2.26</td>\n",
       "      <td>20.0</td>\n",
       "      <td>120</td>\n",
       "      <td>1.59</td>\n",
       "      <td>0.69</td>\n",
       "      <td>0.43</td>\n",
       "      <td>1.35</td>\n",
       "      <td>10.2</td>\n",
       "      <td>0.59</td>\n",
       "      <td>1.56</td>\n",
       "      <td>835</td>\n",
       "    </tr>\n",
       "    <tr>\n",
       "      <th>176</th>\n",
       "      <td>177</td>\n",
       "      <td>3</td>\n",
       "      <td>13.17</td>\n",
       "      <td>2.59</td>\n",
       "      <td>2.37</td>\n",
       "      <td>20.0</td>\n",
       "      <td>120</td>\n",
       "      <td>1.65</td>\n",
       "      <td>0.68</td>\n",
       "      <td>0.53</td>\n",
       "      <td>1.46</td>\n",
       "      <td>9.3</td>\n",
       "      <td>0.60</td>\n",
       "      <td>1.62</td>\n",
       "      <td>840</td>\n",
       "    </tr>\n",
       "    <tr>\n",
       "      <th>177</th>\n",
       "      <td>178</td>\n",
       "      <td>3</td>\n",
       "      <td>14.13</td>\n",
       "      <td>4.10</td>\n",
       "      <td>2.74</td>\n",
       "      <td>24.5</td>\n",
       "      <td>96</td>\n",
       "      <td>2.05</td>\n",
       "      <td>0.76</td>\n",
       "      <td>0.56</td>\n",
       "      <td>1.35</td>\n",
       "      <td>9.2</td>\n",
       "      <td>0.61</td>\n",
       "      <td>1.60</td>\n",
       "      <td>560</td>\n",
       "    </tr>\n",
       "    <tr>\n",
       "      <th>178</th>\n",
       "      <td>179</td>\n",
       "      <td>3</td>\n",
       "      <td>14.13</td>\n",
       "      <td>4.10</td>\n",
       "      <td>2.74</td>\n",
       "      <td>24.5</td>\n",
       "      <td>96</td>\n",
       "      <td>2.05</td>\n",
       "      <td>0.76</td>\n",
       "      <td>0.56</td>\n",
       "      <td>1.35</td>\n",
       "      <td>9.2</td>\n",
       "      <td>0.61</td>\n",
       "      <td>1.60</td>\n",
       "      <td>560</td>\n",
       "    </tr>\n",
       "  </tbody>\n",
       "</table>\n",
       "</div>"
      ],
      "text/plain": [
       "     ID Caso  Clase Vino  Alcohol  Acido Malico  Cenizas  Alcalinidad Cenizas  \\\n",
       "174      175           3    13.40          3.91     2.48                 23.0   \n",
       "175      176           3    13.27          4.28     2.26                 20.0   \n",
       "176      177           3    13.17          2.59     2.37                 20.0   \n",
       "177      178           3    14.13          4.10     2.74                 24.5   \n",
       "178      179           3    14.13          4.10     2.74                 24.5   \n",
       "\n",
       "     Magnesio  Fenoles Totales  Flavanoides  Fenoles No Flavanoides  \\\n",
       "174       102             1.80         0.75                    0.43   \n",
       "175       120             1.59         0.69                    0.43   \n",
       "176       120             1.65         0.68                    0.53   \n",
       "177        96             2.05         0.76                    0.56   \n",
       "178        96             2.05         0.76                    0.56   \n",
       "\n",
       "     Protoantocianinas  Intensidad Color  Matiz  \\\n",
       "174               1.41               7.3   0.70   \n",
       "175               1.35              10.2   0.59   \n",
       "176               1.46               9.3   0.60   \n",
       "177               1.35               9.2   0.61   \n",
       "178               1.35               9.2   0.61   \n",
       "\n",
       "     OD280_OD315 de lso vinos diluidos  Prolina  \n",
       "174                               1.56      750  \n",
       "175                               1.56      835  \n",
       "176                               1.62      840  \n",
       "177                               1.60      560  \n",
       "178                               1.60      560  "
      ]
     },
     "execution_count": 12,
     "metadata": {},
     "output_type": "execute_result"
    }
   ],
   "source": [
    "#Obtenemos los últimos 5 registros del dataset\n",
    "df.tail(5)"
   ]
  },
  {
   "cell_type": "code",
   "execution_count": 12,
   "metadata": {},
   "outputs": [
    {
     "data": {
      "text/plain": [
       "Index(['ID Caso', 'Clase Vino', 'Alcohol', 'Acido Malico', 'Cenizas',\n",
       "       'Alcalinidad Cenizas', 'Magnesio', 'Fenoles Totales', 'Flavanoides',\n",
       "       'Fenoles No Flavanoides', 'Protoantocianinas', 'Intensidad Color',\n",
       "       'Matiz', 'OD280_OD315 de lso vinos diluidos', 'Prolina'],\n",
       "      dtype='object')"
      ]
     },
     "execution_count": 12,
     "metadata": {},
     "output_type": "execute_result"
    }
   ],
   "source": [
    "# Obtiene el Nombre de las columnas\n",
    "df.columns"
   ]
  },
  {
   "cell_type": "code",
   "execution_count": 13,
   "metadata": {
    "scrolled": true
   },
   "outputs": [
    {
     "data": {
      "text/plain": [
       "0      14.23\n",
       "1      13.20\n",
       "2      13.16\n",
       "3      14.37\n",
       "4      13.24\n",
       "5      14.20\n",
       "6      14.39\n",
       "7      14.06\n",
       "8      14.83\n",
       "9      13.86\n",
       "10     14.10\n",
       "11     14.12\n",
       "12     13.75\n",
       "13     14.75\n",
       "14     14.38\n",
       "15     13.63\n",
       "16     14.30\n",
       "17     13.83\n",
       "18     14.19\n",
       "19     13.64\n",
       "20     14.06\n",
       "21     12.93\n",
       "22     13.71\n",
       "23     12.85\n",
       "24     13.50\n",
       "25     13.05\n",
       "26     13.39\n",
       "27     13.30\n",
       "28     13.87\n",
       "29     14.02\n",
       "       ...  \n",
       "149    13.08\n",
       "150    13.50\n",
       "151    12.79\n",
       "152    13.11\n",
       "153    13.23\n",
       "154    12.58\n",
       "155    13.17\n",
       "156    13.84\n",
       "157    12.45\n",
       "158    14.34\n",
       "159    13.48\n",
       "160    12.36\n",
       "161    13.69\n",
       "162    12.85\n",
       "163    12.96\n",
       "164    13.78\n",
       "165    13.73\n",
       "166    13.45\n",
       "167    12.82\n",
       "168    13.58\n",
       "169    13.40\n",
       "170    12.20\n",
       "171    12.77\n",
       "172    14.16\n",
       "173    13.71\n",
       "174    13.40\n",
       "175    13.27\n",
       "176    13.17\n",
       "177    14.13\n",
       "178    14.13\n",
       "Name: Alcohol, Length: 179, dtype: float64"
      ]
     },
     "execution_count": 13,
     "metadata": {},
     "output_type": "execute_result"
    }
   ],
   "source": [
    "# Obtiene los datos de la columna seleccionada\n",
    "df[\"Alcohol\"]"
   ]
  },
  {
   "cell_type": "code",
   "execution_count": 14,
   "metadata": {},
   "outputs": [
    {
     "data": {
      "text/plain": [
       "0    14.23\n",
       "1    13.20\n",
       "2    13.16\n",
       "3    14.37\n",
       "4    13.24\n",
       "Name: Alcohol, dtype: float64"
      ]
     },
     "execution_count": 14,
     "metadata": {},
     "output_type": "execute_result"
    }
   ],
   "source": [
    "#Obtiene las 5 primeras filas de la columna seleccionada\n",
    "df[\"Alcohol\"][:5]"
   ]
  },
  {
   "cell_type": "code",
   "execution_count": 16,
   "metadata": {},
   "outputs": [
    {
     "data": {
      "text/plain": [
       "14.2"
      ]
     },
     "execution_count": 16,
     "metadata": {},
     "output_type": "execute_result"
    }
   ],
   "source": [
    "#Obtiene el dato de la columna de la fila # 5\n",
    "df[\"Alcohol\"][5]"
   ]
  },
  {
   "cell_type": "code",
   "execution_count": 17,
   "metadata": {},
   "outputs": [
    {
     "data": {
      "text/html": [
       "<div>\n",
       "<style scoped>\n",
       "    .dataframe tbody tr th:only-of-type {\n",
       "        vertical-align: middle;\n",
       "    }\n",
       "\n",
       "    .dataframe tbody tr th {\n",
       "        vertical-align: top;\n",
       "    }\n",
       "\n",
       "    .dataframe thead th {\n",
       "        text-align: right;\n",
       "    }\n",
       "</style>\n",
       "<table border=\"1\" class=\"dataframe\">\n",
       "  <thead>\n",
       "    <tr style=\"text-align: right;\">\n",
       "      <th></th>\n",
       "      <th>Prolina</th>\n",
       "      <th>Alcohol</th>\n",
       "    </tr>\n",
       "  </thead>\n",
       "  <tbody>\n",
       "    <tr>\n",
       "      <th>0</th>\n",
       "      <td>1065</td>\n",
       "      <td>14.23</td>\n",
       "    </tr>\n",
       "    <tr>\n",
       "      <th>1</th>\n",
       "      <td>1050</td>\n",
       "      <td>13.20</td>\n",
       "    </tr>\n",
       "    <tr>\n",
       "      <th>2</th>\n",
       "      <td>1185</td>\n",
       "      <td>13.16</td>\n",
       "    </tr>\n",
       "    <tr>\n",
       "      <th>3</th>\n",
       "      <td>1480</td>\n",
       "      <td>14.37</td>\n",
       "    </tr>\n",
       "    <tr>\n",
       "      <th>4</th>\n",
       "      <td>735</td>\n",
       "      <td>13.24</td>\n",
       "    </tr>\n",
       "  </tbody>\n",
       "</table>\n",
       "</div>"
      ],
      "text/plain": [
       "   Prolina  Alcohol\n",
       "0     1065    14.23\n",
       "1     1050    13.20\n",
       "2     1185    13.16\n",
       "3     1480    14.37\n",
       "4      735    13.24"
      ]
     },
     "execution_count": 17,
     "metadata": {},
     "output_type": "execute_result"
    }
   ],
   "source": [
    "#Obtiene los 5 primeras filas de las columnas indicadas\n",
    "df[[\"Prolina\", \"Alcohol\"]][:5]"
   ]
  },
  {
   "cell_type": "code",
   "execution_count": 19,
   "metadata": {},
   "outputs": [
    {
     "data": {
      "text/plain": [
       "2    71\n",
       "1    59\n",
       "3    49\n",
       "Name: Clase Vino, dtype: int64"
      ]
     },
     "execution_count": 19,
     "metadata": {},
     "output_type": "execute_result"
    }
   ],
   "source": [
    "#Cuenta el número de registros agrupados por la columna seleccionada\n",
    "df[\"Clase Vino\"].value_counts()"
   ]
  },
  {
   "cell_type": "code",
   "execution_count": 20,
   "metadata": {},
   "outputs": [
    {
     "data": {
      "text/plain": [
       "0.1955369254608783"
      ]
     },
     "execution_count": 20,
     "metadata": {},
     "output_type": "execute_result"
    }
   ],
   "source": [
    "#Para la matriz de correlaciones,o el porcentaje de relación entre las columnas seleccionadas con el algoritmo de perason:\n",
    "df.corr(method=\"pearson\")[\"Magnesio\"][\"Intensidad Color\"]"
   ]
  },
  {
   "cell_type": "code",
   "execution_count": 21,
   "metadata": {},
   "outputs": [
    {
     "data": {
      "text/html": [
       "<div>\n",
       "<style scoped>\n",
       "    .dataframe tbody tr th:only-of-type {\n",
       "        vertical-align: middle;\n",
       "    }\n",
       "\n",
       "    .dataframe tbody tr th {\n",
       "        vertical-align: top;\n",
       "    }\n",
       "\n",
       "    .dataframe thead th {\n",
       "        text-align: right;\n",
       "    }\n",
       "</style>\n",
       "<table border=\"1\" class=\"dataframe\">\n",
       "  <thead>\n",
       "    <tr style=\"text-align: right;\">\n",
       "      <th></th>\n",
       "      <th>Alcohol</th>\n",
       "      <th>Acido Malico</th>\n",
       "      <th>Cenizas</th>\n",
       "      <th>Alcalinidad Cenizas</th>\n",
       "      <th>Magnesio</th>\n",
       "      <th>Fenoles Totales</th>\n",
       "      <th>Flavanoides</th>\n",
       "      <th>Fenoles No Flavanoides</th>\n",
       "      <th>Protoantocianinas</th>\n",
       "      <th>Intensidad Color</th>\n",
       "      <th>Matiz</th>\n",
       "      <th>OD280_OD315 de lso vinos diluidos</th>\n",
       "      <th>Prolina</th>\n",
       "    </tr>\n",
       "  </thead>\n",
       "  <tbody>\n",
       "    <tr>\n",
       "      <th>Alcohol</th>\n",
       "      <td>1.000000</td>\n",
       "      <td>0.105425</td>\n",
       "      <td>0.219845</td>\n",
       "      <td>-0.295056</td>\n",
       "      <td>0.267250</td>\n",
       "      <td>0.284375</td>\n",
       "      <td>0.224643</td>\n",
       "      <td>-0.141707</td>\n",
       "      <td>0.132623</td>\n",
       "      <td>0.552375</td>\n",
       "      <td>-0.082642</td>\n",
       "      <td>0.060532</td>\n",
       "      <td>0.635007</td>\n",
       "    </tr>\n",
       "    <tr>\n",
       "      <th>Acido Malico</th>\n",
       "      <td>0.105425</td>\n",
       "      <td>1.000000</td>\n",
       "      <td>0.173996</td>\n",
       "      <td>0.297829</td>\n",
       "      <td>-0.056494</td>\n",
       "      <td>-0.336150</td>\n",
       "      <td>-0.417462</td>\n",
       "      <td>0.302822</td>\n",
       "      <td>-0.222813</td>\n",
       "      <td>0.260670</td>\n",
       "      <td>-0.567126</td>\n",
       "      <td>-0.376565</td>\n",
       "      <td>-0.195714</td>\n",
       "    </tr>\n",
       "    <tr>\n",
       "      <th>Cenizas</th>\n",
       "      <td>0.219845</td>\n",
       "      <td>0.173996</td>\n",
       "      <td>1.000000</td>\n",
       "      <td>0.449652</td>\n",
       "      <td>0.283058</td>\n",
       "      <td>0.125279</td>\n",
       "      <td>0.104342</td>\n",
       "      <td>0.195992</td>\n",
       "      <td>0.006396</td>\n",
       "      <td>0.268745</td>\n",
       "      <td>-0.085295</td>\n",
       "      <td>-0.006912</td>\n",
       "      <td>0.217740</td>\n",
       "    </tr>\n",
       "    <tr>\n",
       "      <th>Alcalinidad Cenizas</th>\n",
       "      <td>-0.295056</td>\n",
       "      <td>0.297829</td>\n",
       "      <td>0.449652</td>\n",
       "      <td>1.000000</td>\n",
       "      <td>-0.084988</td>\n",
       "      <td>-0.322244</td>\n",
       "      <td>-0.358185</td>\n",
       "      <td>0.370354</td>\n",
       "      <td>-0.199516</td>\n",
       "      <td>0.033267</td>\n",
       "      <td>-0.283130</td>\n",
       "      <td>-0.285339</td>\n",
       "      <td>-0.442371</td>\n",
       "    </tr>\n",
       "    <tr>\n",
       "      <th>Magnesio</th>\n",
       "      <td>0.267250</td>\n",
       "      <td>-0.056494</td>\n",
       "      <td>0.283058</td>\n",
       "      <td>-0.084988</td>\n",
       "      <td>1.000000</td>\n",
       "      <td>0.214844</td>\n",
       "      <td>0.196726</td>\n",
       "      <td>-0.256766</td>\n",
       "      <td>0.236897</td>\n",
       "      <td>0.195537</td>\n",
       "      <td>0.057254</td>\n",
       "      <td>0.067703</td>\n",
       "      <td>0.393759</td>\n",
       "    </tr>\n",
       "    <tr>\n",
       "      <th>Fenoles Totales</th>\n",
       "      <td>0.284375</td>\n",
       "      <td>-0.336150</td>\n",
       "      <td>0.125279</td>\n",
       "      <td>-0.322244</td>\n",
       "      <td>0.214844</td>\n",
       "      <td>1.000000</td>\n",
       "      <td>0.863080</td>\n",
       "      <td>-0.450050</td>\n",
       "      <td>0.612770</td>\n",
       "      <td>-0.058520</td>\n",
       "      <td>0.434030</td>\n",
       "      <td>0.698808</td>\n",
       "      <td>0.498712</td>\n",
       "    </tr>\n",
       "    <tr>\n",
       "      <th>Flavanoides</th>\n",
       "      <td>0.224643</td>\n",
       "      <td>-0.417462</td>\n",
       "      <td>0.104342</td>\n",
       "      <td>-0.358185</td>\n",
       "      <td>0.196726</td>\n",
       "      <td>0.863080</td>\n",
       "      <td>1.000000</td>\n",
       "      <td>-0.542939</td>\n",
       "      <td>0.652418</td>\n",
       "      <td>-0.182670</td>\n",
       "      <td>0.548286</td>\n",
       "      <td>0.789285</td>\n",
       "      <td>0.495694</td>\n",
       "    </tr>\n",
       "    <tr>\n",
       "      <th>Fenoles No Flavanoides</th>\n",
       "      <td>-0.141707</td>\n",
       "      <td>0.302822</td>\n",
       "      <td>0.195992</td>\n",
       "      <td>0.370354</td>\n",
       "      <td>-0.256766</td>\n",
       "      <td>-0.450050</td>\n",
       "      <td>-0.542939</td>\n",
       "      <td>1.000000</td>\n",
       "      <td>-0.366823</td>\n",
       "      <td>0.152584</td>\n",
       "      <td>-0.272527</td>\n",
       "      <td>-0.509482</td>\n",
       "      <td>-0.314152</td>\n",
       "    </tr>\n",
       "    <tr>\n",
       "      <th>Protoantocianinas</th>\n",
       "      <td>0.132623</td>\n",
       "      <td>-0.222813</td>\n",
       "      <td>0.006396</td>\n",
       "      <td>-0.199516</td>\n",
       "      <td>0.236897</td>\n",
       "      <td>0.612770</td>\n",
       "      <td>0.652418</td>\n",
       "      <td>-0.366823</td>\n",
       "      <td>1.000000</td>\n",
       "      <td>-0.029199</td>\n",
       "      <td>0.297068</td>\n",
       "      <td>0.519224</td>\n",
       "      <td>0.331327</td>\n",
       "    </tr>\n",
       "    <tr>\n",
       "      <th>Intensidad Color</th>\n",
       "      <td>0.552375</td>\n",
       "      <td>0.260670</td>\n",
       "      <td>0.268745</td>\n",
       "      <td>0.033267</td>\n",
       "      <td>0.195537</td>\n",
       "      <td>-0.058520</td>\n",
       "      <td>-0.182670</td>\n",
       "      <td>0.152584</td>\n",
       "      <td>-0.029199</td>\n",
       "      <td>1.000000</td>\n",
       "      <td>-0.528897</td>\n",
       "      <td>-0.436713</td>\n",
       "      <td>0.307095</td>\n",
       "    </tr>\n",
       "    <tr>\n",
       "      <th>Matiz</th>\n",
       "      <td>-0.082642</td>\n",
       "      <td>-0.567126</td>\n",
       "      <td>-0.085295</td>\n",
       "      <td>-0.283130</td>\n",
       "      <td>0.057254</td>\n",
       "      <td>0.434030</td>\n",
       "      <td>0.548286</td>\n",
       "      <td>-0.272527</td>\n",
       "      <td>0.297068</td>\n",
       "      <td>-0.528897</td>\n",
       "      <td>1.000000</td>\n",
       "      <td>0.570678</td>\n",
       "      <td>0.239464</td>\n",
       "    </tr>\n",
       "    <tr>\n",
       "      <th>OD280_OD315 de lso vinos diluidos</th>\n",
       "      <td>0.060532</td>\n",
       "      <td>-0.376565</td>\n",
       "      <td>-0.006912</td>\n",
       "      <td>-0.285339</td>\n",
       "      <td>0.067703</td>\n",
       "      <td>0.698808</td>\n",
       "      <td>0.789285</td>\n",
       "      <td>-0.509482</td>\n",
       "      <td>0.519224</td>\n",
       "      <td>-0.436713</td>\n",
       "      <td>0.570678</td>\n",
       "      <td>1.000000</td>\n",
       "      <td>0.315405</td>\n",
       "    </tr>\n",
       "    <tr>\n",
       "      <th>Prolina</th>\n",
       "      <td>0.635007</td>\n",
       "      <td>-0.195714</td>\n",
       "      <td>0.217740</td>\n",
       "      <td>-0.442371</td>\n",
       "      <td>0.393759</td>\n",
       "      <td>0.498712</td>\n",
       "      <td>0.495694</td>\n",
       "      <td>-0.314152</td>\n",
       "      <td>0.331327</td>\n",
       "      <td>0.307095</td>\n",
       "      <td>0.239464</td>\n",
       "      <td>0.315405</td>\n",
       "      <td>1.000000</td>\n",
       "    </tr>\n",
       "  </tbody>\n",
       "</table>\n",
       "</div>"
      ],
      "text/plain": [
       "                                    Alcohol  Acido Malico   Cenizas  \\\n",
       "Alcohol                            1.000000      0.105425  0.219845   \n",
       "Acido Malico                       0.105425      1.000000  0.173996   \n",
       "Cenizas                            0.219845      0.173996  1.000000   \n",
       "Alcalinidad Cenizas               -0.295056      0.297829  0.449652   \n",
       "Magnesio                           0.267250     -0.056494  0.283058   \n",
       "Fenoles Totales                    0.284375     -0.336150  0.125279   \n",
       "Flavanoides                        0.224643     -0.417462  0.104342   \n",
       "Fenoles No Flavanoides            -0.141707      0.302822  0.195992   \n",
       "Protoantocianinas                  0.132623     -0.222813  0.006396   \n",
       "Intensidad Color                   0.552375      0.260670  0.268745   \n",
       "Matiz                             -0.082642     -0.567126 -0.085295   \n",
       "OD280_OD315 de lso vinos diluidos  0.060532     -0.376565 -0.006912   \n",
       "Prolina                            0.635007     -0.195714  0.217740   \n",
       "\n",
       "                                   Alcalinidad Cenizas  Magnesio  \\\n",
       "Alcohol                                      -0.295056  0.267250   \n",
       "Acido Malico                                  0.297829 -0.056494   \n",
       "Cenizas                                       0.449652  0.283058   \n",
       "Alcalinidad Cenizas                           1.000000 -0.084988   \n",
       "Magnesio                                     -0.084988  1.000000   \n",
       "Fenoles Totales                              -0.322244  0.214844   \n",
       "Flavanoides                                  -0.358185  0.196726   \n",
       "Fenoles No Flavanoides                        0.370354 -0.256766   \n",
       "Protoantocianinas                            -0.199516  0.236897   \n",
       "Intensidad Color                              0.033267  0.195537   \n",
       "Matiz                                        -0.283130  0.057254   \n",
       "OD280_OD315 de lso vinos diluidos            -0.285339  0.067703   \n",
       "Prolina                                      -0.442371  0.393759   \n",
       "\n",
       "                                   Fenoles Totales  Flavanoides  \\\n",
       "Alcohol                                   0.284375     0.224643   \n",
       "Acido Malico                             -0.336150    -0.417462   \n",
       "Cenizas                                   0.125279     0.104342   \n",
       "Alcalinidad Cenizas                      -0.322244    -0.358185   \n",
       "Magnesio                                  0.214844     0.196726   \n",
       "Fenoles Totales                           1.000000     0.863080   \n",
       "Flavanoides                               0.863080     1.000000   \n",
       "Fenoles No Flavanoides                   -0.450050    -0.542939   \n",
       "Protoantocianinas                         0.612770     0.652418   \n",
       "Intensidad Color                         -0.058520    -0.182670   \n",
       "Matiz                                     0.434030     0.548286   \n",
       "OD280_OD315 de lso vinos diluidos         0.698808     0.789285   \n",
       "Prolina                                   0.498712     0.495694   \n",
       "\n",
       "                                   Fenoles No Flavanoides  Protoantocianinas  \\\n",
       "Alcohol                                         -0.141707           0.132623   \n",
       "Acido Malico                                     0.302822          -0.222813   \n",
       "Cenizas                                          0.195992           0.006396   \n",
       "Alcalinidad Cenizas                              0.370354          -0.199516   \n",
       "Magnesio                                        -0.256766           0.236897   \n",
       "Fenoles Totales                                 -0.450050           0.612770   \n",
       "Flavanoides                                     -0.542939           0.652418   \n",
       "Fenoles No Flavanoides                           1.000000          -0.366823   \n",
       "Protoantocianinas                               -0.366823           1.000000   \n",
       "Intensidad Color                                 0.152584          -0.029199   \n",
       "Matiz                                           -0.272527           0.297068   \n",
       "OD280_OD315 de lso vinos diluidos               -0.509482           0.519224   \n",
       "Prolina                                         -0.314152           0.331327   \n",
       "\n",
       "                                   Intensidad Color     Matiz  \\\n",
       "Alcohol                                    0.552375 -0.082642   \n",
       "Acido Malico                               0.260670 -0.567126   \n",
       "Cenizas                                    0.268745 -0.085295   \n",
       "Alcalinidad Cenizas                        0.033267 -0.283130   \n",
       "Magnesio                                   0.195537  0.057254   \n",
       "Fenoles Totales                           -0.058520  0.434030   \n",
       "Flavanoides                               -0.182670  0.548286   \n",
       "Fenoles No Flavanoides                     0.152584 -0.272527   \n",
       "Protoantocianinas                         -0.029199  0.297068   \n",
       "Intensidad Color                           1.000000 -0.528897   \n",
       "Matiz                                     -0.528897  1.000000   \n",
       "OD280_OD315 de lso vinos diluidos         -0.436713  0.570678   \n",
       "Prolina                                    0.307095  0.239464   \n",
       "\n",
       "                                   OD280_OD315 de lso vinos diluidos   Prolina  \n",
       "Alcohol                                                     0.060532  0.635007  \n",
       "Acido Malico                                               -0.376565 -0.195714  \n",
       "Cenizas                                                    -0.006912  0.217740  \n",
       "Alcalinidad Cenizas                                        -0.285339 -0.442371  \n",
       "Magnesio                                                    0.067703  0.393759  \n",
       "Fenoles Totales                                             0.698808  0.498712  \n",
       "Flavanoides                                                 0.789285  0.495694  \n",
       "Fenoles No Flavanoides                                     -0.509482 -0.314152  \n",
       "Protoantocianinas                                           0.519224  0.331327  \n",
       "Intensidad Color                                           -0.436713  0.307095  \n",
       "Matiz                                                       0.570678  0.239464  \n",
       "OD280_OD315 de lso vinos diluidos                           1.000000  0.315405  \n",
       "Prolina                                                     0.315405  1.000000  "
      ]
     },
     "execution_count": 21,
     "metadata": {},
     "output_type": "execute_result"
    }
   ],
   "source": [
    "# Obtiene las relaciones de cada variable del dataset con las demás, los porcentajes superiores a 0.7 son los más relacionados\n",
    "df.loc[:,\"Alcohol\":\"Prolina\"].corr()"
   ]
  },
  {
   "cell_type": "markdown",
   "metadata": {},
   "source": [
    "# Medidas agrupadas\n",
    "\n"
   ]
  },
  {
   "cell_type": "code",
   "execution_count": 20,
   "metadata": {},
   "outputs": [
    {
     "data": {
      "text/html": [
       "<div>\n",
       "<style scoped>\n",
       "    .dataframe tbody tr th:only-of-type {\n",
       "        vertical-align: middle;\n",
       "    }\n",
       "\n",
       "    .dataframe tbody tr th {\n",
       "        vertical-align: top;\n",
       "    }\n",
       "\n",
       "    .dataframe thead th {\n",
       "        text-align: right;\n",
       "    }\n",
       "</style>\n",
       "<table border=\"1\" class=\"dataframe\">\n",
       "  <thead>\n",
       "    <tr style=\"text-align: right;\">\n",
       "      <th></th>\n",
       "      <th>count</th>\n",
       "      <th>min</th>\n",
       "      <th>mean</th>\n",
       "      <th>max</th>\n",
       "    </tr>\n",
       "    <tr>\n",
       "      <th>Clase Vino</th>\n",
       "      <th></th>\n",
       "      <th></th>\n",
       "      <th></th>\n",
       "      <th></th>\n",
       "    </tr>\n",
       "  </thead>\n",
       "  <tbody>\n",
       "    <tr>\n",
       "      <th>1</th>\n",
       "      <td>59</td>\n",
       "      <td>11.2</td>\n",
       "      <td>17.037288</td>\n",
       "      <td>25.0</td>\n",
       "    </tr>\n",
       "    <tr>\n",
       "      <th>2</th>\n",
       "      <td>71</td>\n",
       "      <td>10.6</td>\n",
       "      <td>20.238028</td>\n",
       "      <td>30.0</td>\n",
       "    </tr>\n",
       "    <tr>\n",
       "      <th>3</th>\n",
       "      <td>49</td>\n",
       "      <td>17.5</td>\n",
       "      <td>21.479592</td>\n",
       "      <td>27.0</td>\n",
       "    </tr>\n",
       "  </tbody>\n",
       "</table>\n",
       "</div>"
      ],
      "text/plain": [
       "            count   min       mean   max\n",
       "Clase Vino                              \n",
       "1              59  11.2  17.037288  25.0\n",
       "2              71  10.6  20.238028  30.0\n",
       "3              49  17.5  21.479592  27.0"
      ]
     },
     "execution_count": 20,
     "metadata": {},
     "output_type": "execute_result"
    }
   ],
   "source": [
    "#Obtiene los estadísticos indicados en la columna seleccionada\n",
    "#a partir de la agrupación indicada\n",
    "df.groupby([\"Clase Vino\"])[\"Alcalinidad Cenizas\"].agg([\"count\",\"min\",\"mean\",\"max\"])"
   ]
  },
  {
   "cell_type": "code",
   "execution_count": 25,
   "metadata": {},
   "outputs": [
    {
     "data": {
      "text/html": [
       "<div>\n",
       "<style scoped>\n",
       "    .dataframe tbody tr th:only-of-type {\n",
       "        vertical-align: middle;\n",
       "    }\n",
       "\n",
       "    .dataframe tbody tr th {\n",
       "        vertical-align: top;\n",
       "    }\n",
       "\n",
       "    .dataframe thead th {\n",
       "        text-align: right;\n",
       "    }\n",
       "</style>\n",
       "<table border=\"1\" class=\"dataframe\">\n",
       "  <thead>\n",
       "    <tr style=\"text-align: right;\">\n",
       "      <th></th>\n",
       "      <th>Alcohol</th>\n",
       "      <th>Acido Malico</th>\n",
       "      <th>Cenizas</th>\n",
       "      <th>Alcalinidad Cenizas</th>\n",
       "      <th>Magnesio</th>\n",
       "      <th>Fenoles Totales</th>\n",
       "      <th>Flavanoides</th>\n",
       "      <th>Fenoles No Flavanoides</th>\n",
       "      <th>Protoantocianinas</th>\n",
       "      <th>Intensidad Color</th>\n",
       "      <th>Matiz</th>\n",
       "      <th>OD280_OD315 de lso vinos diluidos</th>\n",
       "      <th>Prolina</th>\n",
       "    </tr>\n",
       "    <tr>\n",
       "      <th>Clase Vino</th>\n",
       "      <th></th>\n",
       "      <th></th>\n",
       "      <th></th>\n",
       "      <th></th>\n",
       "      <th></th>\n",
       "      <th></th>\n",
       "      <th></th>\n",
       "      <th></th>\n",
       "      <th></th>\n",
       "      <th></th>\n",
       "      <th></th>\n",
       "      <th></th>\n",
       "      <th></th>\n",
       "    </tr>\n",
       "  </thead>\n",
       "  <tbody>\n",
       "    <tr>\n",
       "      <th>1</th>\n",
       "      <td>13.744746</td>\n",
       "      <td>2.010678</td>\n",
       "      <td>2.455593</td>\n",
       "      <td>17.037288</td>\n",
       "      <td>106.338983</td>\n",
       "      <td>2.840169</td>\n",
       "      <td>2.982373</td>\n",
       "      <td>0.290000</td>\n",
       "      <td>1.899322</td>\n",
       "      <td>5.528305</td>\n",
       "      <td>1.062034</td>\n",
       "      <td>3.157797</td>\n",
       "      <td>1115.711864</td>\n",
       "    </tr>\n",
       "    <tr>\n",
       "      <th>2</th>\n",
       "      <td>12.278732</td>\n",
       "      <td>1.932676</td>\n",
       "      <td>2.244789</td>\n",
       "      <td>20.238028</td>\n",
       "      <td>94.549296</td>\n",
       "      <td>2.258873</td>\n",
       "      <td>2.080845</td>\n",
       "      <td>0.363662</td>\n",
       "      <td>1.630282</td>\n",
       "      <td>3.086620</td>\n",
       "      <td>1.056282</td>\n",
       "      <td>2.785352</td>\n",
       "      <td>519.507042</td>\n",
       "    </tr>\n",
       "    <tr>\n",
       "      <th>3</th>\n",
       "      <td>13.173673</td>\n",
       "      <td>3.349388</td>\n",
       "      <td>2.443265</td>\n",
       "      <td>21.479592</td>\n",
       "      <td>99.244898</td>\n",
       "      <td>1.686327</td>\n",
       "      <td>0.781020</td>\n",
       "      <td>0.449796</td>\n",
       "      <td>1.157551</td>\n",
       "      <td>7.433061</td>\n",
       "      <td>0.681224</td>\n",
       "      <td>1.681837</td>\n",
       "      <td>628.469388</td>\n",
       "    </tr>\n",
       "  </tbody>\n",
       "</table>\n",
       "</div>"
      ],
      "text/plain": [
       "              Alcohol  Acido Malico   Cenizas  Alcalinidad Cenizas  \\\n",
       "Clase Vino                                                           \n",
       "1           13.744746      2.010678  2.455593            17.037288   \n",
       "2           12.278732      1.932676  2.244789            20.238028   \n",
       "3           13.173673      3.349388  2.443265            21.479592   \n",
       "\n",
       "              Magnesio  Fenoles Totales  Flavanoides  Fenoles No Flavanoides  \\\n",
       "Clase Vino                                                                     \n",
       "1           106.338983         2.840169     2.982373                0.290000   \n",
       "2            94.549296         2.258873     2.080845                0.363662   \n",
       "3            99.244898         1.686327     0.781020                0.449796   \n",
       "\n",
       "            Protoantocianinas  Intensidad Color     Matiz  \\\n",
       "Clase Vino                                                  \n",
       "1                    1.899322          5.528305  1.062034   \n",
       "2                    1.630282          3.086620  1.056282   \n",
       "3                    1.157551          7.433061  0.681224   \n",
       "\n",
       "            OD280_OD315 de lso vinos diluidos      Prolina  \n",
       "Clase Vino                                                  \n",
       "1                                    3.157797  1115.711864  \n",
       "2                                    2.785352   519.507042  \n",
       "3                                    1.681837   628.469388  "
      ]
     },
     "execution_count": 25,
     "metadata": {},
     "output_type": "execute_result"
    }
   ],
   "source": [
    "#Obtenemos el promedio desde y hasta la columna seleccionadas agrupado por la columna seleccionada\n",
    "df.loc[:,\"Clase Vino\":\"Prolina\"].groupby(\"Clase Vino\").mean()"
   ]
  },
  {
   "cell_type": "code",
   "execution_count": 27,
   "metadata": {},
   "outputs": [
    {
     "data": {
      "text/html": [
       "<div>\n",
       "<style scoped>\n",
       "    .dataframe tbody tr th:only-of-type {\n",
       "        vertical-align: middle;\n",
       "    }\n",
       "\n",
       "    .dataframe tbody tr th {\n",
       "        vertical-align: top;\n",
       "    }\n",
       "\n",
       "    .dataframe thead th {\n",
       "        text-align: right;\n",
       "    }\n",
       "</style>\n",
       "<table border=\"1\" class=\"dataframe\">\n",
       "  <thead>\n",
       "    <tr style=\"text-align: right;\">\n",
       "      <th></th>\n",
       "      <th></th>\n",
       "      <th>Acido Malico</th>\n",
       "      <th>Alcohol</th>\n",
       "      <th>Cenizas</th>\n",
       "    </tr>\n",
       "    <tr>\n",
       "      <th>Clase Vino</th>\n",
       "      <th></th>\n",
       "      <th></th>\n",
       "      <th></th>\n",
       "      <th></th>\n",
       "    </tr>\n",
       "  </thead>\n",
       "  <tbody>\n",
       "    <tr>\n",
       "      <th rowspan=\"3\" valign=\"top\">1</th>\n",
       "      <th>Acido Malico</th>\n",
       "      <td>1.000000</td>\n",
       "      <td>-0.040513</td>\n",
       "      <td>0.026221</td>\n",
       "    </tr>\n",
       "    <tr>\n",
       "      <th>Alcohol</th>\n",
       "      <td>-0.040513</td>\n",
       "      <td>1.000000</td>\n",
       "      <td>-0.148595</td>\n",
       "    </tr>\n",
       "    <tr>\n",
       "      <th>Cenizas</th>\n",
       "      <td>0.026221</td>\n",
       "      <td>-0.148595</td>\n",
       "      <td>1.000000</td>\n",
       "    </tr>\n",
       "    <tr>\n",
       "      <th rowspan=\"3\" valign=\"top\">2</th>\n",
       "      <th>Acido Malico</th>\n",
       "      <td>1.000000</td>\n",
       "      <td>-0.021362</td>\n",
       "      <td>0.148708</td>\n",
       "    </tr>\n",
       "    <tr>\n",
       "      <th>Alcohol</th>\n",
       "      <td>-0.021362</td>\n",
       "      <td>1.000000</td>\n",
       "      <td>-0.214851</td>\n",
       "    </tr>\n",
       "    <tr>\n",
       "      <th>Cenizas</th>\n",
       "      <td>0.148708</td>\n",
       "      <td>-0.214851</td>\n",
       "      <td>1.000000</td>\n",
       "    </tr>\n",
       "    <tr>\n",
       "      <th rowspan=\"3\" valign=\"top\">3</th>\n",
       "      <th>Acido Malico</th>\n",
       "      <td>1.000000</td>\n",
       "      <td>0.132197</td>\n",
       "      <td>0.040791</td>\n",
       "    </tr>\n",
       "    <tr>\n",
       "      <th>Alcohol</th>\n",
       "      <td>0.132197</td>\n",
       "      <td>1.000000</td>\n",
       "      <td>0.289670</td>\n",
       "    </tr>\n",
       "    <tr>\n",
       "      <th>Cenizas</th>\n",
       "      <td>0.040791</td>\n",
       "      <td>0.289670</td>\n",
       "      <td>1.000000</td>\n",
       "    </tr>\n",
       "  </tbody>\n",
       "</table>\n",
       "</div>"
      ],
      "text/plain": [
       "                         Acido Malico   Alcohol   Cenizas\n",
       "Clase Vino                                               \n",
       "1          Acido Malico      1.000000 -0.040513  0.026221\n",
       "           Alcohol          -0.040513  1.000000 -0.148595\n",
       "           Cenizas           0.026221 -0.148595  1.000000\n",
       "2          Acido Malico      1.000000 -0.021362  0.148708\n",
       "           Alcohol          -0.021362  1.000000 -0.214851\n",
       "           Cenizas           0.148708 -0.214851  1.000000\n",
       "3          Acido Malico      1.000000  0.132197  0.040791\n",
       "           Alcohol           0.132197  1.000000  0.289670\n",
       "           Cenizas           0.040791  0.289670  1.000000"
      ]
     },
     "execution_count": 27,
     "metadata": {},
     "output_type": "execute_result"
    }
   ],
   "source": [
    "#matriz de correlaciones desde y hasta las columnas seleccionadas agrupadas por tipo de vino\n",
    "df.loc[:,\"Clase Vino\":\"Cenizas\"].groupby(\"Clase Vino\").corr()"
   ]
  },
  {
   "cell_type": "code",
   "execution_count": 23,
   "metadata": {},
   "outputs": [],
   "source": [
    "# la matriz de relación muestra el nivel de interacción entre las diferentes variables."
   ]
  },
  {
   "cell_type": "markdown",
   "metadata": {},
   "source": [
    "# Gráficos"
   ]
  },
  {
   "cell_type": "markdown",
   "metadata": {},
   "source": [
    "## Histograma\n"
   ]
  },
  {
   "cell_type": "code",
   "execution_count": 24,
   "metadata": {},
   "outputs": [],
   "source": [
    "#muestra la acumulación ó tendencia, \n",
    "#la variabilidad o dispersión y la forma de la distribución de una variable dada. "
   ]
  },
  {
   "cell_type": "markdown",
   "metadata": {},
   "source": [
    "### Frencuencia de porcentaje de alcohol\n"
   ]
  },
  {
   "cell_type": "code",
   "execution_count": 25,
   "metadata": {},
   "outputs": [
    {
     "data": {
      "text/plain": [
       "count    179.000000\n",
       "mean      13.006927\n",
       "std        0.813932\n",
       "min       11.030000\n",
       "25%       12.365000\n",
       "50%       13.050000\n",
       "75%       13.685000\n",
       "max       14.830000\n",
       "Name: Alcohol, dtype: float64"
      ]
     },
     "execution_count": 25,
     "metadata": {},
     "output_type": "execute_result"
    }
   ],
   "source": [
    "df[\"Alcohol\"].describe()"
   ]
  },
  {
   "cell_type": "code",
   "execution_count": 26,
   "metadata": {},
   "outputs": [
    {
     "data": {
      "image/png": "[encoded data removed]",
      "text/plain": [
       "<Figure size 432x288 with 1 Axes>"
      ]
     },
     "metadata": {
      "needs_background": "light"
     },
     "output_type": "display_data"
    }
   ],
   "source": [
    "plt.hist(df[\"Alcohol\"])\n",
    "plt.title(\"Frencuencia del alcohol en los Vinos\")\n",
    "plt.xlabel(\"Etiqueta para el eje X\")\n",
    "plt.ylabel(\"Etiqueta para el eje Y\")\n",
    "plt.show()"
   ]
  },
  {
   "cell_type": "code",
   "execution_count": 27,
   "metadata": {},
   "outputs": [
    {
     "data": {
      "image/png": "[encoded data removed]",
      "text/plain": [
       "<Figure size 432x288 with 1 Axes>"
      ]
     },
     "metadata": {
      "needs_background": "light"
     },
     "output_type": "display_data"
    },
    {
     "data": {
      "image/png": "[encoded data removed]",
      "text/plain": [
       "<Figure size 432x288 with 1 Axes>"
      ]
     },
     "metadata": {
      "needs_background": "light"
     },
     "output_type": "display_data"
    }
   ],
   "source": [
    "# Cambiando el número de barras o contenedores\n",
    "plt.hist(df[\"Alcohol\"], bins=8)\n",
    "plt.title(\"Frencuencia del alcohol en los Vinos con 8 buckets\")\n",
    "plt.xlabel(\"Etiqueta para el eje X\")\n",
    "plt.ylabel(\"Etiqueta para el eje Y\")\n",
    "plt.show()\n",
    "\n",
    "plt.hist(df[\"Alcohol\"], bins=12)\n",
    "plt.title(\"Frencuencia del alcohol en los Vinos con 12 buckets\")\n",
    "plt.xlabel(\"Etiqueta para el eje X\")\n",
    "plt.ylabel(\"Etiqueta para el eje Y\")\n",
    "plt.show()"
   ]
  },
  {
   "cell_type": "markdown",
   "metadata": {},
   "source": [
    "### Frecuencia de porcentaje de Magnesio"
   ]
  },
  {
   "cell_type": "code",
   "execution_count": 28,
   "metadata": {},
   "outputs": [
    {
     "data": {
      "image/png": "[encoded data removed]",
      "text/plain": [
       "<Figure size 432x288 with 1 Axes>"
      ]
     },
     "metadata": {
      "needs_background": "light"
     },
     "output_type": "display_data"
    }
   ],
   "source": [
    "plt.hist(df[\"Magnesio\"])\n",
    "plt.title(\"Vinos\")\n",
    "plt.xlabel(\"Etiqueta para el eje X\")\n",
    "plt.ylabel(\"Etiqueta para el eje Y\")\n",
    "plt.show()"
   ]
  },
  {
   "cell_type": "code",
   "execution_count": 29,
   "metadata": {},
   "outputs": [
    {
     "data": {
      "image/png": "[encoded data removed]",
      "text/plain": [
       "<Figure size 432x288 with 1 Axes>"
      ]
     },
     "metadata": {
      "needs_background": "light"
     },
     "output_type": "display_data"
    }
   ],
   "source": [
    "plt.hist(df[\"Magnesio\"], bins = 8)\n",
    "plt.title(\"Vinos\")\n",
    "plt.xlabel(\"Etiqueta para el eje X\")\n",
    "plt.ylabel(\"Etiqueta para el eje Y\")\n",
    "plt.show()"
   ]
  },
  {
   "cell_type": "code",
   "execution_count": 30,
   "metadata": {},
   "outputs": [
    {
     "data": {
      "image/png": "[encoded data removed]",
      "text/plain": [
       "<Figure size 432x288 with 1 Axes>"
      ]
     },
     "metadata": {
      "needs_background": "light"
     },
     "output_type": "display_data"
    }
   ],
   "source": [
    "plt.hist(df[\"Magnesio\"], bins = 12)\n",
    "plt.title(\"Vinos\")\n",
    "plt.xlabel(\"Etiqueta para el eje X\")\n",
    "plt.ylabel(\"Etiqueta para el eje Y\")\n",
    "plt.show()"
   ]
  },
  {
   "cell_type": "markdown",
   "metadata": {},
   "source": [
    "## Boxplot"
   ]
  },
  {
   "cell_type": "code",
   "execution_count": 31,
   "metadata": {},
   "outputs": [
    {
     "data": {
      "text/plain": [
       "<matplotlib.axes._subplots.AxesSubplot at 0x2b35c9f8ac8>"
      ]
     },
     "execution_count": 31,
     "metadata": {},
     "output_type": "execute_result"
    },
    {
     "data": {
      "image/png": "[encoded data removed]",
      "text/plain": [
       "<Figure size 432x288 with 1 Axes>"
      ]
     },
     "metadata": {
      "needs_background": "light"
     },
     "output_type": "display_data"
    }
   ],
   "source": [
    "# Analizar medidas de tendencia y dispersión\n",
    "#epresentar gráficamente una serie de datos numéricos a través de sus cuartiles. \n",
    "#De esta manera, el diagrama de caja muestra a simple vista la mediana y los cuartiles de los datos\n",
    "#pudiendo también representar los valores atípicos de estos.\n",
    "df[\"Alcalinidad Cenizas\"].plot(kind=\"box\",title=\"BoxPlot\")\n"
   ]
  },
  {
   "cell_type": "code",
   "execution_count": 32,
   "metadata": {},
   "outputs": [],
   "source": [
    "# hay tres valores atípicos, dos por encima del 4 cuartil y uno por debajo del 1 cuartil"
   ]
  },
  {
   "cell_type": "code",
   "execution_count": 33,
   "metadata": {},
   "outputs": [
    {
     "data": {
      "text/plain": [
       "<matplotlib.axes._subplots.AxesSubplot at 0x2b35ca840b8>"
      ]
     },
     "execution_count": 33,
     "metadata": {},
     "output_type": "execute_result"
    },
    {
     "data": {
      "image/png": "[encoded data removed]",
      "text/plain": [
       "<Figure size 432x288 with 1 Axes>"
      ]
     },
     "metadata": {
      "needs_background": "light"
     },
     "output_type": "display_data"
    }
   ],
   "source": [
    "# Graficar para varias variables simultáneamente\n",
    "df.loc[:,[\"Alcohol\",\"Alcalinidad Cenizas\"]].plot.box()\n",
    "# El alcohol tiene una desciación mucho menor hacia el primedio y no tiene valores atípicos"
   ]
  },
  {
   "cell_type": "code",
   "execution_count": 34,
   "metadata": {},
   "outputs": [
    {
     "data": {
      "image/png": "[encoded data removed]",
      "text/plain": [
       "<Figure size 432x288 with 1 Axes>"
      ]
     },
     "metadata": {
      "needs_background": "light"
     },
     "output_type": "display_data"
    },
    {
     "data": {
      "image/png": "[encoded data removed]",
      "text/plain": [
       "<Figure size 432x288 with 1 Axes>"
      ]
     },
     "metadata": {
      "needs_background": "light"
     },
     "output_type": "display_data"
    }
   ],
   "source": [
    "# En efecto, las variables se encuentran más relacinadas entre 11 y 15\n",
    "plt.scatter(df[\"Alcohol\"],df[\"ID Caso\"])\n",
    "plt.title(\"Alcohol\")\n",
    "plt.show()\n",
    "# Las variables se encuentran más dispersas, y hay dos valores atípicos\n",
    "plt.scatter(df[\"Alcalinidad Cenizas\"],df[\"ID Caso\"])\n",
    "plt.title(\"Alcalinidad Cenizas\")\n",
    "plt.show()"
   ]
  },
  {
   "cell_type": "markdown",
   "metadata": {},
   "source": [
    "## Diagrama de dispersión"
   ]
  },
  {
   "cell_type": "code",
   "execution_count": 35,
   "metadata": {},
   "outputs": [
    {
     "data": {
      "image/png": "[encoded data removed]",
      "text/plain": [
       "<Figure size 432x288 with 1 Axes>"
      ]
     },
     "metadata": {
      "needs_background": "light"
     },
     "output_type": "display_data"
    }
   ],
   "source": [
    "#Permite ver la relación simultánea de variables continuas\n",
    "plt.scatter(df[\"Alcohol\"],df[\"Matiz\"])\n",
    "plt.show()"
   ]
  },
  {
   "cell_type": "markdown",
   "metadata": {},
   "source": [
    "## Gráfico de barras"
   ]
  },
  {
   "cell_type": "code",
   "execution_count": 36,
   "metadata": {},
   "outputs": [
    {
     "data": {
      "text/plain": [
       "<matplotlib.axes._subplots.AxesSubplot at 0x2b35cc37eb8>"
      ]
     },
     "execution_count": 36,
     "metadata": {},
     "output_type": "execute_result"
    },
    {
     "data": {
      "image/png": "[encoded data removed]",
      "text/plain": [
       "<Figure size 432x288 with 1 Axes>"
      ]
     },
     "metadata": {
      "needs_background": "light"
     },
     "output_type": "display_data"
    }
   ],
   "source": [
    "# Permite comparar la relación de valores entre variables, \n",
    "#en este caso, el promedio desde la columna \"alcohol\" hasta la columna \"Matiz\"\n",
    "df.loc[:,\"Alcohol\":\"Matiz\"].mean().plot(kind=\"bar\", title=\"Índice de contenido por ración\")"
   ]
  },
  {
   "cell_type": "code",
   "execution_count": 37,
   "metadata": {},
   "outputs": [
    {
     "data": {
      "text/plain": [
       "<matplotlib.axes._subplots.AxesSubplot at 0x2b35cca45c0>"
      ]
     },
     "execution_count": 37,
     "metadata": {},
     "output_type": "execute_result"
    },
    {
     "data": {
      "image/png": "[encoded data removed]",
      "text/plain": [
       "<Figure size 432x288 with 1 Axes>"
      ]
     },
     "metadata": {
      "needs_background": "light"
     },
     "output_type": "display_data"
    }
   ],
   "source": [
    "# Con líneas\n",
    "df.loc[:,\"Alcohol\":\"Matiz\"].mean().plot(kind=\"line\")"
   ]
  },
  {
   "cell_type": "code",
   "execution_count": 38,
   "metadata": {
    "scrolled": true
   },
   "outputs": [
    {
     "data": {
      "text/plain": [
       "<matplotlib.axes._subplots.AxesSubplot at 0x2b35ca3fa90>"
      ]
     },
     "execution_count": 38,
     "metadata": {},
     "output_type": "execute_result"
    },
    {
     "data": {
      "image/png": "[encoded data removed]",
      "text/plain": [
       "<Figure size 432x288 with 1 Axes>"
      ]
     },
     "metadata": {
      "needs_background": "light"
     },
     "output_type": "display_data"
    }
   ],
   "source": [
    "#valor máximo para una variable entre las distintas clases de vino\n",
    "df.groupby(\"Clase Vino\")[\"Alcalinidad Cenizas\"].max().plot(kind=\"bar\")"
   ]
  },
  {
   "cell_type": "code",
   "execution_count": 39,
   "metadata": {},
   "outputs": [
    {
     "data": {
      "text/plain": [
       "<matplotlib.axes._subplots.AxesSubplot at 0x2b35c9e59e8>"
      ]
     },
     "execution_count": 39,
     "metadata": {},
     "output_type": "execute_result"
    },
    {
     "data": {
      "image/png": "[encoded data removed]",
      "text/plain": [
       "<Figure size 432x288 with 1 Axes>"
      ]
     },
     "metadata": {
      "needs_background": "light"
     },
     "output_type": "display_data"
    }
   ],
   "source": [
    "#Distribución de la clase de vino en el dataset\n",
    "df.groupby(\"Clase Vino\")[\"Clase Vino\"].count().plot(kind=\"bar\")"
   ]
  },
  {
   "cell_type": "markdown",
   "metadata": {},
   "source": [
    "## Diagramas de pie"
   ]
  },
  {
   "cell_type": "code",
   "execution_count": 40,
   "metadata": {},
   "outputs": [
    {
     "data": {
      "text/plain": [
       "<matplotlib.axes._subplots.AxesSubplot at 0x2b35cb9c2e8>"
      ]
     },
     "execution_count": 40,
     "metadata": {},
     "output_type": "execute_result"
    },
    {
     "data": {
      "image/png": "[encoded data removed]",
      "text/plain": [
       "<Figure size 432x288 with 1 Axes>"
      ]
     },
     "metadata": {},
     "output_type": "display_data"
    }
   ],
   "source": [
    "#Visualizar los datos en forma circular\n",
    "df.groupby(\"Clase Vino\")[\"Clase Vino\"].count().plot(kind=\"pie\", label=\"clase de vino\", legend=\"true\")"
   ]
  },
  {
   "cell_type": "code",
   "execution_count": 41,
   "metadata": {},
   "outputs": [
    {
     "data": {
      "text/plain": [
       "Clase Vino\n",
       "1    59\n",
       "2    71\n",
       "3    49\n",
       "Name: Clase Vino, dtype: int64"
      ]
     },
     "execution_count": 41,
     "metadata": {},
     "output_type": "execute_result"
    }
   ],
   "source": [
    "df.groupby(\"Clase Vino\")[\"Clase Vino\"].count()"
   ]
  },
  {
   "cell_type": "markdown",
   "metadata": {},
   "source": [
    "## Tablas de confusión"
   ]
  },
  {
   "cell_type": "code",
   "execution_count": 42,
   "metadata": {},
   "outputs": [
    {
     "data": {
      "text/html": [
       "<div>\n",
       "<style scoped>\n",
       "    .dataframe tbody tr th:only-of-type {\n",
       "        vertical-align: middle;\n",
       "    }\n",
       "\n",
       "    .dataframe tbody tr th {\n",
       "        vertical-align: top;\n",
       "    }\n",
       "\n",
       "    .dataframe thead th {\n",
       "        text-align: right;\n",
       "    }\n",
       "</style>\n",
       "<table border=\"1\" class=\"dataframe\">\n",
       "  <thead>\n",
       "    <tr style=\"text-align: right;\">\n",
       "      <th>col_0</th>\n",
       "      <th>count</th>\n",
       "    </tr>\n",
       "    <tr>\n",
       "      <th>Clase Vino</th>\n",
       "      <th></th>\n",
       "    </tr>\n",
       "  </thead>\n",
       "  <tbody>\n",
       "    <tr>\n",
       "      <th>1</th>\n",
       "      <td>59</td>\n",
       "    </tr>\n",
       "    <tr>\n",
       "      <th>2</th>\n",
       "      <td>71</td>\n",
       "    </tr>\n",
       "    <tr>\n",
       "      <th>3</th>\n",
       "      <td>49</td>\n",
       "    </tr>\n",
       "  </tbody>\n",
       "</table>\n",
       "</div>"
      ],
      "text/plain": [
       "col_0       count\n",
       "Clase Vino       \n",
       "1              59\n",
       "2              71\n",
       "3              49"
      ]
     },
     "execution_count": 42,
     "metadata": {},
     "output_type": "execute_result"
    }
   ],
   "source": [
    "#Resume el numero de ocurrencias de cada valor para una variable dada.\n",
    "pd.crosstab(index=df[\"Clase Vino\"],columns=\"count\")      \n"
   ]
  },
  {
   "cell_type": "code",
   "execution_count": 43,
   "metadata": {
    "scrolled": true
   },
   "outputs": [
    {
     "name": "stdout",
     "output_type": "stream",
     "text": [
      "ID Caso\n",
      "Clase Vino\n",
      "Alcohol\n",
      "Acido Malico\n",
      "Cenizas\n",
      "Alcalinidad Cenizas\n",
      "Magnesio\n",
      "Fenoles Totales\n",
      "Flavanoides\n",
      "Fenoles No Flavanoides\n",
      "Protoantocianinas\n",
      "Intensidad Color\n",
      "Matiz\n",
      "OD280_OD315 de lso vinos diluidos\n",
      "Prolina\n"
     ]
    }
   ],
   "source": [
    "for co in df.columns:\n",
    "    print(co)"
   ]
  },
  {
   "cell_type": "code",
   "execution_count": 30,
   "metadata": {},
   "outputs": [
    {
     "data": {
      "text/html": [
       "<div>\n",
       "<style scoped>\n",
       "    .dataframe tbody tr th:only-of-type {\n",
       "        vertical-align: middle;\n",
       "    }\n",
       "\n",
       "    .dataframe tbody tr th {\n",
       "        vertical-align: top;\n",
       "    }\n",
       "\n",
       "    .dataframe thead th {\n",
       "        text-align: right;\n",
       "    }\n",
       "</style>\n",
       "<table border=\"1\" class=\"dataframe\">\n",
       "  <thead>\n",
       "    <tr style=\"text-align: right;\">\n",
       "      <th>Alcohol</th>\n",
       "      <th>11.03</th>\n",
       "      <th>11.41</th>\n",
       "      <th>11.45</th>\n",
       "      <th>11.46</th>\n",
       "      <th>11.56</th>\n",
       "      <th>11.61</th>\n",
       "      <th>11.62</th>\n",
       "      <th>11.64</th>\n",
       "      <th>11.65</th>\n",
       "      <th>11.66</th>\n",
       "      <th>...</th>\n",
       "      <th>14.21</th>\n",
       "      <th>14.22</th>\n",
       "      <th>14.23</th>\n",
       "      <th>14.3</th>\n",
       "      <th>14.34</th>\n",
       "      <th>14.37</th>\n",
       "      <th>14.38</th>\n",
       "      <th>14.39</th>\n",
       "      <th>14.75</th>\n",
       "      <th>14.83</th>\n",
       "    </tr>\n",
       "  </thead>\n",
       "  <tbody>\n",
       "    <tr>\n",
       "      <th>Vino 1</th>\n",
       "      <td>0</td>\n",
       "      <td>0</td>\n",
       "      <td>0</td>\n",
       "      <td>0</td>\n",
       "      <td>0</td>\n",
       "      <td>0</td>\n",
       "      <td>0</td>\n",
       "      <td>0</td>\n",
       "      <td>0</td>\n",
       "      <td>0</td>\n",
       "      <td>...</td>\n",
       "      <td>1</td>\n",
       "      <td>2</td>\n",
       "      <td>1</td>\n",
       "      <td>1</td>\n",
       "      <td>0</td>\n",
       "      <td>1</td>\n",
       "      <td>2</td>\n",
       "      <td>1</td>\n",
       "      <td>1</td>\n",
       "      <td>1</td>\n",
       "    </tr>\n",
       "    <tr>\n",
       "      <th>Vino 2</th>\n",
       "      <td>1</td>\n",
       "      <td>1</td>\n",
       "      <td>1</td>\n",
       "      <td>1</td>\n",
       "      <td>1</td>\n",
       "      <td>1</td>\n",
       "      <td>1</td>\n",
       "      <td>1</td>\n",
       "      <td>1</td>\n",
       "      <td>1</td>\n",
       "      <td>...</td>\n",
       "      <td>0</td>\n",
       "      <td>0</td>\n",
       "      <td>0</td>\n",
       "      <td>0</td>\n",
       "      <td>0</td>\n",
       "      <td>0</td>\n",
       "      <td>0</td>\n",
       "      <td>0</td>\n",
       "      <td>0</td>\n",
       "      <td>0</td>\n",
       "    </tr>\n",
       "    <tr>\n",
       "      <th>Vino 3</th>\n",
       "      <td>0</td>\n",
       "      <td>0</td>\n",
       "      <td>0</td>\n",
       "      <td>0</td>\n",
       "      <td>0</td>\n",
       "      <td>0</td>\n",
       "      <td>0</td>\n",
       "      <td>0</td>\n",
       "      <td>0</td>\n",
       "      <td>0</td>\n",
       "      <td>...</td>\n",
       "      <td>0</td>\n",
       "      <td>0</td>\n",
       "      <td>0</td>\n",
       "      <td>0</td>\n",
       "      <td>1</td>\n",
       "      <td>0</td>\n",
       "      <td>0</td>\n",
       "      <td>0</td>\n",
       "      <td>0</td>\n",
       "      <td>0</td>\n",
       "    </tr>\n",
       "  </tbody>\n",
       "</table>\n",
       "<p>3 rows × 126 columns</p>\n",
       "</div>"
      ],
      "text/plain": [
       "Alcohol  11.03  11.41  11.45  11.46  11.56  11.61  11.62  11.64  11.65  11.66  \\\n",
       "Vino 1       0      0      0      0      0      0      0      0      0      0   \n",
       "Vino 2       1      1      1      1      1      1      1      1      1      1   \n",
       "Vino 3       0      0      0      0      0      0      0      0      0      0   \n",
       "\n",
       "Alcohol  ...    14.21  14.22  14.23  14.30  14.34  14.37  14.38  14.39  14.75  \\\n",
       "Vino 1   ...        1      2      1      1      0      1      2      1      1   \n",
       "Vino 2   ...        0      0      0      0      0      0      0      0      0   \n",
       "Vino 3   ...        0      0      0      0      1      0      0      0      0   \n",
       "\n",
       "Alcohol  14.83  \n",
       "Vino 1       1  \n",
       "Vino 2       0  \n",
       "Vino 3       0  \n",
       "\n",
       "[3 rows x 126 columns]"
      ]
     },
     "execution_count": 30,
     "metadata": {},
     "output_type": "execute_result"
    }
   ],
   "source": [
    "#Muestra el número de ocurrencias del dato en cada valor\n",
    "tcruzada = pd.crosstab(index=df[\"Clase Vino\"], columns=df[\"Alcohol\"])\n",
    "tcruzada.index= [\"Vino 1\",\"Vino 2\",\"Vino 3\"] #Cambia el nombre de los índices de agrupación\n",
    "tcruzada"
   ]
  },
  {
   "cell_type": "markdown",
   "metadata": {},
   "source": [
    "# Análisis, Comprensión y preprocesamiento de los Datos\n",
    "## Parte 1"
   ]
  },
  {
   "cell_type": "raw",
   "metadata": {},
   "source": [
    "Selecciones 5 variables y de acuerdo a los histogramas y las medidas vistas en clase (media, varianza, skew, kurtosis) \n",
    "indique si se trata de frecuencias unimodales, bimodales simétricas o asimétricas(desequilibradas), \n",
    "y su apreciación de la distribución de los datos de esa variable en el contexto vinos."
   ]
  },
  {
   "cell_type": "code",
   "execution_count": 31,
   "metadata": {},
   "outputs": [],
   "source": [
    "# Hacemos una separación de los dataset por clase de vino\n",
    "dfc1 = df[df[\"Clase Vino\"] == 1]\n",
    "dfc2 = df[df[\"Clase Vino\"] == 2]\n",
    "dfc3 = df[df[\"Clase Vino\"] == 3]"
   ]
  },
  {
   "cell_type": "markdown",
   "metadata": {},
   "source": [
    "Basados en el ínidice de correlación de los puntos anteriores, se optó por escoger las variables más correlacionadas en alguna de las clases de vino, para compararla se toman las tres clases de vino y la medida general"
   ]
  },
  {
   "cell_type": "markdown",
   "metadata": {},
   "source": [
    "#### Alcalinidad Cenizas\n",
    "\n",
    "La alcalinidad de las cenizas trata de la suma de los cationes de amonio que se encuentran mezclados en los ácidos orgánicos del vino.\tEs una variable de tipo Cuantitativo continuo, lo que podría interpretarse como el porcenje."
   ]
  },
  {
   "cell_type": "code",
   "execution_count": 52,
   "metadata": {},
   "outputs": [
    {
     "name": "stdout",
     "output_type": "stream",
     "text": [
      "******* Alcalinidad Cenizas ********\n",
      "Media =  19.52290502793296\n",
      "varianza =  11.167240722823875\n",
      "Desviación =  3.341742168813129\n",
      "sknew =  0.20155959494723427\n",
      "kurtosis =  0.9993166570687904\n",
      "(array([ 3.,  2.,  1.,  2.,  6., 18., 15., 17., 23., 24., 18., 16., 11.,\n",
      "        7.,  9.,  2.,  2.,  0.,  2.,  1.]), array([10.6 , 11.57, 12.54, 13.51, 14.48, 15.45, 16.42, 17.39, 18.36,\n",
      "       19.33, 20.3 , 21.27, 22.24, 23.21, 24.18, 25.15, 26.12, 27.09,\n",
      "       28.06, 29.03, 30.  ]), <a list of 20 Patch objects>)\n"
     ]
    },
    {
     "data": {
      "image/png": "[encoded data removed]",
      "text/plain": [
       "<Figure size 432x288 with 1 Axes>"
      ]
     },
     "metadata": {
      "needs_background": "light"
     },
     "output_type": "display_data"
    }
   ],
   "source": [
    "print('******* Alcalinidad Cenizas ********')\n",
    "print(\"Media = \", df[\"Alcalinidad Cenizas\"].mean())\n",
    "print(\"varianza = \", np.var(df[\"Alcalinidad Cenizas\"]))\n",
    "print(\"Desviación = \", np.std(df[\"Alcalinidad Cenizas\"]))\n",
    "print(\"sknew = \", sp.skew(df[\"Alcalinidad Cenizas\"]))\n",
    "print(\"kurtosis = \", sp.kurtosis(dfc1[\"Alcalinidad Cenizas\"]))\n",
    "print(plt.hist(df[\"Alcalinidad Cenizas\"],bins=20))"
   ]
  },
  {
   "cell_type": "markdown",
   "metadata": {},
   "source": [
    "Como se observa en el histograma, la función unimodal positiva (0,2) muestra una alta concentración de Alcalinidad de Cenizas fe forma general en los vinos, el promedio es 19.52 con una desviación de 3.3%."
   ]
  },
  {
   "cell_type": "code",
   "execution_count": 43,
   "metadata": {},
   "outputs": [
    {
     "name": "stdout",
     "output_type": "stream",
     "text": [
      "******* Alcalinidad Cenizas Vino 1 ********\n",
      "Media =  17.037288135593222\n",
      "varianza =  6.373863832232119\n",
      "Desviación =  2.524651229820095\n",
      "sknew =  0.20061132209769655\n",
      "kurtosis =  0.9993166570687904\n",
      "(array([ 2.,  2.,  1.,  0.,  3.,  3.,  9.,  7., 10.,  5.,  2.,  6.,  4.,\n",
      "        2.,  1.,  0.,  1.,  0.,  0.,  1.]), array([11.2 , 11.89, 12.58, 13.27, 13.96, 14.65, 15.34, 16.03, 16.72,\n",
      "       17.41, 18.1 , 18.79, 19.48, 20.17, 20.86, 21.55, 22.24, 22.93,\n",
      "       23.62, 24.31, 25.  ]), <a list of 20 Patch objects>)\n"
     ]
    },
    {
     "data": {
      "image/png": "[encoded data removed]",
      "text/plain": [
       "<Figure size 432x288 with 1 Axes>"
      ]
     },
     "metadata": {
      "needs_background": "light"
     },
     "output_type": "display_data"
    }
   ],
   "source": [
    "print('******* Alcalinidad Cenizas Vino 1 ********')\n",
    "print(\"Media = \", dfc1[\"Alcalinidad Cenizas\"].mean())\n",
    "print(\"varianza = \", np.var(dfc1[\"Alcalinidad Cenizas\"]))\n",
    "print(\"Desviación = \", np.std(dfc1[\"Alcalinidad Cenizas\"]))\n",
    "print(\"sknew = \", sp.skew(dfc1[\"Alcalinidad Cenizas\"]))\n",
    "print(\"kurtosis = \", sp.kurtosis(dfc1[\"Alcalinidad Cenizas\"]))\n",
    "print(plt.hist(dfc1[\"Alcalinidad Cenizas\"],bins=20))"
   ]
  },
  {
   "cell_type": "markdown",
   "metadata": {},
   "source": [
    "En el Vino clase 1 se observa una función unimodal positiva (0,2) con una kurtosis o grosor de curva de 0.99. Se observa una acumulación de Alcalinidad hacia el 17%, como lo marca el promedio, con una desviación estandar de 2,52%."
   ]
  },
  {
   "cell_type": "code",
   "execution_count": 47,
   "metadata": {},
   "outputs": [
    {
     "name": "stdout",
     "output_type": "stream",
     "text": [
      "******* Alcalinidad Cenizas Vino 2 ********\n",
      "Media =  20.238028169014086\n",
      "varianza =  11.062920055544541\n",
      "Desviación =  3.326096819929411\n",
      "sknew =  0.421628487093137\n",
      "kurtosis =  1.0535213097801348\n",
      "(array([ 1.,  0.,  7., 12., 17., 18.,  9.,  3.,  1.,  3.]), array([10.6 , 12.54, 14.48, 16.42, 18.36, 20.3 , 22.24, 24.18, 26.12,\n",
      "       28.06, 30.  ]), <a list of 10 Patch objects>)\n"
     ]
    },
    {
     "data": {
      "image/png": "[encoded data removed]",
      "text/plain": [
       "<Figure size 432x288 with 1 Axes>"
      ]
     },
     "metadata": {
      "needs_background": "light"
     },
     "output_type": "display_data"
    }
   ],
   "source": [
    "print('******* Alcalinidad Cenizas Vino 2 ********')\n",
    "print(\"Media = \", dfc2[\"Alcalinidad Cenizas\"].mean())\n",
    "print(\"varianza = \", np.var(dfc2[\"Alcalinidad Cenizas\"]))\n",
    "print(\"Desviación = \", np.std(dfc2[\"Alcalinidad Cenizas\"]))\n",
    "print(\"sknew = \", sp.skew(dfc2[\"Alcalinidad Cenizas\"]))\n",
    "print(\"kurtosis = \", sp.kurtosis(dfc2[\"Alcalinidad Cenizas\"]))\n",
    "print(plt.hist(dfc2[\"Alcalinidad Cenizas\"]))"
   ]
  },
  {
   "cell_type": "markdown",
   "metadata": {},
   "source": [
    "En el Vino clase 2 se observa una función unimodal positiva (0,42) con una kurtosis o grosor de curva de 1.5. Se observa el promedio en el pico más alto, hacia los 20,2 con una desviación estandar de 3,3."
   ]
  },
  {
   "cell_type": "code",
   "execution_count": 47,
   "metadata": {},
   "outputs": [
    {
     "name": "stdout",
     "output_type": "stream",
     "text": [
      "******* Alcalinidad Cenizas Vino 3 ********\n",
      "Media =  21.479591836734695\n",
      "varianza =  5.081216159933362\n",
      "Desviación =  2.2541553096300535\n",
      "sknew =  0.40088838747080563\n",
      "kurtosis =  -0.7018016678984154\n",
      "(array([1., 1., 4., 1., 4., 9., 1., 4., 4., 4., 2., 2., 1., 3., 3., 3., 1.,\n",
      "       0., 0., 1.]), array([17.5  , 17.975, 18.45 , 18.925, 19.4  , 19.875, 20.35 , 20.825,\n",
      "       21.3  , 21.775, 22.25 , 22.725, 23.2  , 23.675, 24.15 , 24.625,\n",
      "       25.1  , 25.575, 26.05 , 26.525, 27.   ]), <a list of 20 Patch objects>)\n"
     ]
    },
    {
     "data": {
      "image/png": "[encoded data removed]",
      "text/plain": [
       "<Figure size 432x288 with 1 Axes>"
      ]
     },
     "metadata": {
      "needs_background": "light"
     },
     "output_type": "display_data"
    }
   ],
   "source": [
    "print('******* Alcalinidad Cenizas Vino 3 ********')\n",
    "print(\"Media = \", dfc3[\"Alcalinidad Cenizas\"].mean())\n",
    "print(\"varianza = \", np.var(dfc3[\"Alcalinidad Cenizas\"]))\n",
    "print(\"Desviación = \", np.std(dfc3[\"Alcalinidad Cenizas\"]))\n",
    "print(\"sknew = \", sp.skew(dfc3[\"Alcalinidad Cenizas\"]))\n",
    "print(\"kurtosis = \", sp.kurtosis(dfc3[\"Alcalinidad Cenizas\"]))\n",
    "print(plt.hist(dfc3[\"Alcalinidad Cenizas\"], bins=20))"
   ]
  },
  {
   "cell_type": "markdown",
   "metadata": {},
   "source": [
    "En el Vino clase 3 se observa una función unimodal positiva (0.4). El promedio de Alcalinidad se encuentra hacia los 21.47 con una desviación estandar de 2.25."
   ]
  },
  {
   "cell_type": "markdown",
   "metadata": {},
   "source": [
    "#### Conclusión sobre la alcalinidad \n",
    "De las tres clases de vino, el dos es quien posee una más amplia concentración de Alcalinidad de Cenizas, que es la suma de cationes presentes en los ácidos del vino. El Vino 1 y el vino 3, por el contrario, tienen de forma más reducida el grado de alcalinidad. A continuación el el siguiente diagrama, se observa con mayor detalle la acumulación de alcalinidad por clase de vino."
   ]
  },
  {
   "cell_type": "code",
   "execution_count": 51,
   "metadata": {},
   "outputs": [
    {
     "data": {
      "text/plain": [
       "<matplotlib.collections.PathCollection at 0x2401c842b70>"
      ]
     },
     "execution_count": 51,
     "metadata": {},
     "output_type": "execute_result"
    },
    {
     "data": {
      "image/png": "[encoded data removed]",
      "text/plain": [
       "<Figure size 432x288 with 1 Axes>"
      ]
     },
     "metadata": {
      "needs_background": "light"
     },
     "output_type": "display_data"
    }
   ],
   "source": [
    "plt.scatter(df[\"Alcalinidad Cenizas\"],df[\"Clase Vino\"])"
   ]
  },
  {
   "cell_type": "markdown",
   "metadata": {},
   "source": [
    "#### Cenizas\n",
    "Las cenizas son un conjunto de productos obtenidos como el resultado de la incineración de residuos de evaporación del vino, llevada a cabo esta incineración para la obtención de la totalidad de los cationes. Esta es una variable cuantitativa continua, lo que podría interpretarse como una medida de porcentaje."
   ]
  },
  {
   "cell_type": "code",
   "execution_count": 49,
   "metadata": {},
   "outputs": [
    {
     "name": "stdout",
     "output_type": "stream",
     "text": [
      "******* Cenizas ********\n",
      "Media =  2.3686033519553082\n",
      "varianza =  0.07519860803345718\n",
      "Desviación =  0.2742236460144478\n",
      "sknew =  -0.18170224181554073\n",
      "kurtosis =  1.0417989982637899\n",
      "(array([ 1.,  3.,  7., 14., 43., 54., 31., 21.,  3.,  2.]), array([1.36 , 1.547, 1.734, 1.921, 2.108, 2.295, 2.482, 2.669, 2.856,\n",
      "       3.043, 3.23 ]), <a list of 10 Patch objects>)\n"
     ]
    },
    {
     "data": {
      "image/png": "[encoded data removed]",
      "text/plain": [
       "<Figure size 432x288 with 1 Axes>"
      ]
     },
     "metadata": {
      "needs_background": "light"
     },
     "output_type": "display_data"
    }
   ],
   "source": [
    "print('******* Cenizas ********')\n",
    "print(\"Media = \", df[\"Cenizas\"].mean())\n",
    "print(\"varianza = \", np.var(df[\"Cenizas\"]))\n",
    "print(\"Desviación = \", np.std(df[\"Cenizas\"]))\n",
    "print(\"sknew = \", sp.skew(df[\"Cenizas\"]))\n",
    "print(\"kurtosis = \", sp.kurtosis(df[\"Cenizas\"]))\n",
    "print(plt.hist(df[\"Cenizas\"]))"
   ]
  },
  {
   "cell_type": "markdown",
   "metadata": {},
   "source": [
    "Por el contrario, en cuanto a la cantidad de Cenizas, se observa una función unimodal negativa (0,18) y un grosor de columna de (1.4). El promedio de cenizas en las tres clases de vino es de 2,37 con una desviación de 0.2. Lo que muestra una concentración mayor de cenizas."
   ]
  },
  {
   "cell_type": "code",
   "execution_count": 50,
   "metadata": {},
   "outputs": [
    {
     "name": "stdout",
     "output_type": "stream",
     "text": [
      "******* Cenizas Clase 1 ********\n",
      "Media =  2.455593220338984\n",
      "varianza =  0.05072973283539215\n",
      "Desviación =  0.22523261938580777\n",
      "sknew =  0.5298835756421636\n",
      "kurtosis =  0.7043188473937296\n",
      "(array([ 7.,  5., 12., 13.,  9.,  9.,  2.,  1.,  0.,  1.]), array([2.04 , 2.158, 2.276, 2.394, 2.512, 2.63 , 2.748, 2.866, 2.984,\n",
      "       3.102, 3.22 ]), <a list of 10 Patch objects>)\n"
     ]
    },
    {
     "data": {
      "image/png": "[encoded data removed]",
      "text/plain": [
       "<Figure size 432x288 with 1 Axes>"
      ]
     },
     "metadata": {
      "needs_background": "light"
     },
     "output_type": "display_data"
    }
   ],
   "source": [
    "print('******* Cenizas Clase 1 ********')\n",
    "print(\"Media = \", dfc1[\"Cenizas\"].mean())\n",
    "print(\"varianza = \", np.var(dfc1[\"Cenizas\"]))\n",
    "print(\"Desviación = \", np.std(dfc1[\"Cenizas\"]))\n",
    "print(\"sknew = \", sp.skew(dfc1[\"Cenizas\"]))\n",
    "print(\"kurtosis = \", sp.kurtosis(dfc1[\"Cenizas\"]))\n",
    "print(plt.hist(dfc1[\"Cenizas\"]))"
   ]
  },
  {
   "cell_type": "markdown",
   "metadata": {},
   "source": [
    "Para el Vino de clase 1, se muestra una función unimodal positiva (0.5). El promedio para la clase 1 se encuentra sobre el 2.45c on una desviación de 0.22."
   ]
  },
  {
   "cell_type": "code",
   "execution_count": 51,
   "metadata": {},
   "outputs": [
    {
     "name": "stdout",
     "output_type": "stream",
     "text": [
      "******* Cenizas Clase 2 ********\n",
      "Media =  2.244788732394365\n",
      "varianza =  0.09811791311247767\n",
      "Desviación =  0.3132377900453227\n",
      "sknew =  0.17184850315027558\n",
      "kurtosis =  0.7800797821458438\n",
      "(array([ 1.,  3.,  7., 10., 21., 14.,  8.,  5.,  1.,  1.]), array([1.36 , 1.547, 1.734, 1.921, 2.108, 2.295, 2.482, 2.669, 2.856,\n",
      "       3.043, 3.23 ]), <a list of 10 Patch objects>)\n"
     ]
    },
    {
     "data": {
      "image/png": "[encoded data removed]",
      "text/plain": [
       "<Figure size 432x288 with 1 Axes>"
      ]
     },
     "metadata": {
      "needs_background": "light"
     },
     "output_type": "display_data"
    }
   ],
   "source": [
    "print('******* Cenizas Clase 2 ********')\n",
    "print(\"Media = \", dfc2[\"Cenizas\"].mean())\n",
    "print(\"varianza = \", np.var(dfc2[\"Cenizas\"]))\n",
    "print(\"Desviación = \", np.std(dfc2[\"Cenizas\"]))\n",
    "print(\"sknew = \", sp.skew(dfc2[\"Cenizas\"]))\n",
    "print(\"kurtosis = \", sp.kurtosis(dfc2[\"Cenizas\"]))\n",
    "print(plt.hist(dfc2[\"Cenizas\"]))"
   ]
  },
  {
   "cell_type": "markdown",
   "metadata": {},
   "source": [
    "Para el Vino de clase 2, se muestra una función unimodal positiva (0.17). El promedio para la clase 2 se encuentra sobre el 2.24 on una desviación de 0.31. Hasta el momento, se puede decir que hay más cocentración de Cenizas en esta clase que en la anterior."
   ]
  },
  {
   "cell_type": "code",
   "execution_count": 52,
   "metadata": {},
   "outputs": [
    {
     "name": "stdout",
     "output_type": "stream",
     "text": [
      "******* Cenizas Clase 3 ********\n",
      "Media =  2.4432653061224485\n",
      "varianza =  0.03455260308204915\n",
      "Desviación =  0.1858833050116367\n",
      "sknew =  0.3174907199419924\n",
      "kurtosis =  -0.9207055461949838\n",
      "(array([ 2.,  5.,  9., 11.,  1.,  6.,  4.,  6.,  4.,  1.]), array([2.1  , 2.176, 2.252, 2.328, 2.404, 2.48 , 2.556, 2.632, 2.708,\n",
      "       2.784, 2.86 ]), <a list of 10 Patch objects>)\n"
     ]
    },
    {
     "data": {
      "image/png": "[encoded data removed]",
      "text/plain": [
       "<Figure size 432x288 with 1 Axes>"
      ]
     },
     "metadata": {
      "needs_background": "light"
     },
     "output_type": "display_data"
    }
   ],
   "source": [
    "print('******* Cenizas Clase 3 ********')\n",
    "print(\"Media = \", dfc3[\"Cenizas\"].mean())\n",
    "print(\"varianza = \", np.var(dfc3[\"Cenizas\"]))\n",
    "print(\"Desviación = \", np.std(dfc3[\"Cenizas\"]))\n",
    "print(\"sknew = \", sp.skew(dfc3[\"Cenizas\"]))\n",
    "print(\"kurtosis = \", sp.kurtosis(dfc3[\"Cenizas\"]))\n",
    "print(plt.hist(dfc3[\"Cenizas\"]))"
   ]
  },
  {
   "cell_type": "markdown",
   "metadata": {},
   "source": [
    "Para el Vino de clase 3, se muestra una función unimodal positiva (0.3). El promedio para la clase 3 se encuentra sobre el 2.44 on una desviación de 0.18."
   ]
  },
  {
   "cell_type": "markdown",
   "metadata": {},
   "source": [
    "#### Conclusión sobre la ceniza\n",
    "Con respecto a la variable anterior, se puede decir que la cantidad de cenizas es más relevante en el sabor del vino que la alcalinidad, definiendo esta última como la acumulación de cationes resultantes de la mezcla, mientras que la ceniza en si muestra el grado de evaporación de los ingredientes en el proceso de preparación.   Lo que se observa con más detalle en la siguiente gráfica:"
   ]
  },
  {
   "cell_type": "code",
   "execution_count": 54,
   "metadata": {},
   "outputs": [
    {
     "data": {
      "text/plain": [
       "<matplotlib.collections.PathCollection at 0x2401ca87278>"
      ]
     },
     "execution_count": 54,
     "metadata": {},
     "output_type": "execute_result"
    },
    {
     "data": {
      "image/png": "[encoded data removed]",
      "text/plain": [
       "<Figure size 432x288 with 1 Axes>"
      ]
     },
     "metadata": {
      "needs_background": "light"
     },
     "output_type": "display_data"
    }
   ],
   "source": [
    "plt.scatter(df[\"Cenizas\"], df[\"Clase Vino\"])"
   ]
  },
  {
   "cell_type": "markdown",
   "metadata": {},
   "source": [
    "#### Alcohol\n",
    "El alchohol del vino depende del que produzca su fermentación. El máximo grado de alcohol que suelen tener los vinos es de 15 grados, a excepción de los vinos de Jerez y de Oporto, que como vinos licorosos, generososos o fortalecidos tienen una graduación más elevada."
   ]
  },
  {
   "cell_type": "code",
   "execution_count": 53,
   "metadata": {},
   "outputs": [
    {
     "name": "stdout",
     "output_type": "stream",
     "text": [
      "******* Alcohol ********\n",
      "Media =  13.00692737430167\n",
      "varianza =  0.6587844137199215\n",
      "Desviación =  0.8116553540265237\n",
      "sknew =  -0.058637293968574894\n",
      "kurtosis =  -0.8738442242026108\n",
      "(array([ 1., 10., 19., 31., 21., 27., 25., 25., 18.,  2.]), array([11.03, 11.41, 11.79, 12.17, 12.55, 12.93, 13.31, 13.69, 14.07,\n",
      "       14.45, 14.83]), <a list of 10 Patch objects>)\n"
     ]
    },
    {
     "data": {
      "image/png": "[encoded data removed]",
      "text/plain": [
       "<Figure size 432x288 with 1 Axes>"
      ]
     },
     "metadata": {
      "needs_background": "light"
     },
     "output_type": "display_data"
    }
   ],
   "source": [
    "print('******* Alcohol ********')\n",
    "print(\"Media = \", df[\"Alcohol\"].mean())\n",
    "print(\"varianza = \", np.var(df[\"Alcohol\"]))\n",
    "print(\"Desviación = \", np.std(df[\"Alcohol\"]))\n",
    "print(\"sknew = \", sp.skew(df[\"Alcohol\"]))\n",
    "print(\"kurtosis = \", sp.kurtosis(df[\"Alcohol\"]))\n",
    "print(plt.hist(df[\"Alcohol\"]))"
   ]
  },
  {
   "cell_type": "markdown",
   "metadata": {},
   "source": [
    "De forma general, en las tres clases de vino se observa un contenido de alcohol muy variante sin ser un factor diferenciador entre uno y otro. Aunque se muestra un promedio de 13, hay una gran desviación de 0.8 indicando que el grado de alcohol es muy diverso y poco desicivo entre uno 1 otro. La función unimodal es negativa con una inclinación hacia la izquierda de -0.05.\n"
   ]
  },
  {
   "cell_type": "code",
   "execution_count": 54,
   "metadata": {},
   "outputs": [
    {
     "name": "stdout",
     "output_type": "stream",
     "text": [
      "******* Alcohol Clase 1 ********\n",
      "Media =  13.744745762711865\n",
      "varianza =  0.20994018960068944\n",
      "Desviación =  0.4581923063525723\n",
      "sknew =  0.06923898186233954\n",
      "kurtosis =  -0.5967909626181376\n",
      "(array([ 2.,  9.,  5.,  8., 11.,  6., 11.,  5.,  0.,  2.]), array([12.85 , 13.048, 13.246, 13.444, 13.642, 13.84 , 14.038, 14.236,\n",
      "       14.434, 14.632, 14.83 ]), <a list of 10 Patch objects>)\n"
     ]
    },
    {
     "data": {
      "image/png": "[encoded data removed]",
      "text/plain": [
       "<Figure size 432x288 with 1 Axes>"
      ]
     },
     "metadata": {
      "needs_background": "light"
     },
     "output_type": "display_data"
    }
   ],
   "source": [
    "print('******* Alcohol Clase 1 ********')\n",
    "print(\"Media = \", dfc1[\"Alcohol\"].mean())\n",
    "print(\"varianza = \", np.var(dfc1[\"Alcohol\"]))\n",
    "print(\"Desviación = \", np.std(dfc1[\"Alcohol\"]))\n",
    "print(\"sknew = \", sp.skew(dfc1[\"Alcohol\"]))\n",
    "print(\"kurtosis = \", sp.kurtosis(dfc1[\"Alcohol\"]))\n",
    "print(plt.hist(dfc1[\"Alcohol\"]))"
   ]
  },
  {
   "cell_type": "markdown",
   "metadata": {},
   "source": [
    "De la misma forma que la descripción general, en el Vino clase uno no se percibe una importancia relevante de alchohol en su preparación pues los registros sobre esta clase y en esta varible tienen una dispersión de 0.45. La función descrita es casi bimodal, con una inlcinación positiva de 0.07"
   ]
  },
  {
   "cell_type": "code",
   "execution_count": 55,
   "metadata": {},
   "outputs": [
    {
     "name": "stdout",
     "output_type": "stream",
     "text": [
      "******* Alcohol Clase 2 ********\n",
      "Media =  12.278732394366198\n",
      "varianza =  0.2853293790914501\n",
      "Desviación =  0.534162315304487\n",
      "sknew =  0.567868111960227\n",
      "kurtosis =  0.6141811846879026\n",
      "(array([ 1.,  4., 13., 12., 21., 10.,  2.,  4.,  2.,  2.]), array([11.03 , 11.313, 11.596, 11.879, 12.162, 12.445, 12.728, 13.011,\n",
      "       13.294, 13.577, 13.86 ]), <a list of 10 Patch objects>)\n"
     ]
    },
    {
     "data": {
      "image/png": "[encoded data removed]",
      "text/plain": [
       "<Figure size 432x288 with 1 Axes>"
      ]
     },
     "metadata": {
      "needs_background": "light"
     },
     "output_type": "display_data"
    }
   ],
   "source": [
    "print('******* Alcohol Clase 2 ********')\n",
    "print(\"Media = \", dfc2[\"Alcohol\"].mean())\n",
    "print(\"varianza = \", np.var(dfc2[\"Alcohol\"]))\n",
    "print(\"Desviación = \", np.std(dfc2[\"Alcohol\"]))\n",
    "print(\"sknew = \", sp.skew(dfc2[\"Alcohol\"]))\n",
    "print(\"kurtosis = \", sp.kurtosis(dfc2[\"Alcohol\"]))\n",
    "print(plt.hist(dfc2[\"Alcohol\"]))"
   ]
  },
  {
   "cell_type": "markdown",
   "metadata": {},
   "source": [
    "En la clase 2, por ejemplo, si se observa un promedio más recogido de Alcohol en 12.27 con una desviación de 0.5, menor que en la anterior. Por tanto, se puede decir que en el vino de clase 2 el nivel de alcohol está mas concentrado en los diferentes registros.La función unimodal es positia con un desequilibrio de 0.56."
   ]
  },
  {
   "cell_type": "code",
   "execution_count": 56,
   "metadata": {},
   "outputs": [
    {
     "name": "stdout",
     "output_type": "stream",
     "text": [
      "******* Alcohol Clase 3 ********\n",
      "Media =  13.173673469387753\n",
      "varianza =  0.2887334443981676\n",
      "Desviación =  0.5373392265582028\n",
      "sknew =  0.14507160407994793\n",
      "kurtosis =  -0.7290966099985621\n",
      "(array([4., 5., 6., 6., 6., 7., 6., 5., 0., 4.]), array([12.2  , 12.414, 12.628, 12.842, 13.056, 13.27 , 13.484, 13.698,\n",
      "       13.912, 14.126, 14.34 ]), <a list of 10 Patch objects>)\n"
     ]
    },
    {
     "data": {
      "image/png": "[encoded data removed]",
      "text/plain": [
       "<Figure size 432x288 with 1 Axes>"
      ]
     },
     "metadata": {
      "needs_background": "light"
     },
     "output_type": "display_data"
    }
   ],
   "source": [
    "print('******* Alcohol Clase 3 ********')\n",
    "print(\"Media = \", dfc3[\"Alcohol\"].mean())\n",
    "print(\"varianza = \", np.var(dfc3[\"Alcohol\"]))\n",
    "print(\"Desviación = \", np.std(dfc3[\"Alcohol\"]))\n",
    "print(\"sknew = \", sp.skew(dfc3[\"Alcohol\"]))\n",
    "print(\"kurtosis = \", sp.kurtosis(dfc3[\"Alcohol\"]))\n",
    "print(plt.hist(dfc3[\"Alcohol\"]))"
   ]
  },
  {
   "cell_type": "markdown",
   "metadata": {},
   "source": [
    "En el vino de clase 3, al igual que en el uno, no se observa una concentración de registros en cuanto al nivel de alcohol, los datos están mas dispersos (0.53) con respectoa a la media que es de 13.17."
   ]
  },
  {
   "cell_type": "markdown",
   "metadata": {},
   "source": [
    "#### Conclusión sobre el alcohol\n",
    "En general, se observa una dispersión mayor en la variable del alcohol según los registros. En promedio, el nivel de alcohol en cada vino no es una variable revelante. "
   ]
  },
  {
   "cell_type": "code",
   "execution_count": 55,
   "metadata": {},
   "outputs": [
    {
     "data": {
      "text/plain": [
       "<matplotlib.collections.PathCollection at 0x2401b0201d0>"
      ]
     },
     "execution_count": 55,
     "metadata": {},
     "output_type": "execute_result"
    },
    {
     "data": {
      "image/png": "[encoded data removed]",
      "text/plain": [
       "<Figure size 432x288 with 1 Axes>"
      ]
     },
     "metadata": {
      "needs_background": "light"
     },
     "output_type": "display_data"
    }
   ],
   "source": [
    "plt.scatter(df[\"Alcohol\"], df[\"Clase Vino\"])"
   ]
  },
  {
   "cell_type": "code",
   "execution_count": 57,
   "metadata": {},
   "outputs": [
    {
     "name": "stdout",
     "output_type": "stream",
     "text": [
      "******* Magnesio ********\n",
      "Media =  99.72067039106145\n",
      "varianza =  201.78789675727955\n",
      "Desviación =  14.20520667773896\n",
      "sknew =  1.0956504732726644\n",
      "kurtosis =  2.0435456692033416\n",
      "(array([ 4., 43., 41., 43., 24., 15.,  5.,  2.,  1.,  1.]), array([ 70. ,  79.2,  88.4,  97.6, 106.8, 116. , 125.2, 134.4, 143.6,\n",
      "       152.8, 162. ]), <a list of 10 Patch objects>)\n"
     ]
    },
    {
     "data": {
      "image/png": "[encoded data removed]",
      "text/plain": [
       "<Figure size 432x288 with 1 Axes>"
      ]
     },
     "metadata": {
      "needs_background": "light"
     },
     "output_type": "display_data"
    }
   ],
   "source": [
    "print('******* Magnesio ********')\n",
    "print(\"Media = \", df[\"Magnesio\"].mean())\n",
    "print(\"varianza = \", np.var(df[\"Magnesio\"]))\n",
    "print(\"Desviación = \", np.std(df[\"Magnesio\"]))\n",
    "print(\"sknew = \", sp.skew(df[\"Magnesio\"]))\n",
    "print(\"kurtosis = \", sp.kurtosis(df[\"Magnesio\"]))\n",
    "print(plt.hist(df[\"Magnesio\"]))"
   ]
  },
  {
   "cell_type": "markdown",
   "metadata": {},
   "source": [
    "En forma general, la cantidad de magnesio en la muestra, tiene un promedio de 99,7 con una desviación de 14.2. La función mostrada para la muestra es unimodal positiva con una inclinación de 1.09 y un grosor de 2.04."
   ]
  },
  {
   "cell_type": "code",
   "execution_count": 58,
   "metadata": {},
   "outputs": [
    {
     "name": "stdout",
     "output_type": "stream",
     "text": [
      "******* Magnesio Clase 1********\n",
      "Media =  106.33898305084746\n",
      "varianza =  108.35966676242458\n",
      "Desviación =  10.409594937480737\n",
      "sknew =  0.48083727648064734\n",
      "kurtosis =  -0.5433460015698639\n",
      "(array([ 5.,  8., 10.,  9.,  7.,  5.,  8.,  2.,  3.,  2.]), array([ 89. ,  93.3,  97.6, 101.9, 106.2, 110.5, 114.8, 119.1, 123.4,\n",
      "       127.7, 132. ]), <a list of 10 Patch objects>)\n"
     ]
    },
    {
     "data": {
      "image/png": "[encoded data removed]",
      "text/plain": [
       "<Figure size 432x288 with 1 Axes>"
      ]
     },
     "metadata": {
      "needs_background": "light"
     },
     "output_type": "display_data"
    }
   ],
   "source": [
    "print('******* Magnesio Clase 1********')\n",
    "print(\"Media = \", dfc1[\"Magnesio\"].mean())\n",
    "print(\"varianza = \", np.var(dfc1[\"Magnesio\"]))\n",
    "print(\"Desviación = \", np.std(dfc1[\"Magnesio\"]))\n",
    "print(\"sknew = \", sp.skew(dfc1[\"Magnesio\"]))\n",
    "print(\"kurtosis = \", sp.kurtosis(dfc1[\"Magnesio\"]))\n",
    "print(plt.hist(dfc1[\"Magnesio\"]))"
   ]
  },
  {
   "cell_type": "markdown",
   "metadata": {},
   "source": [
    "Para el vino de clase 1, se muestra una dispersión mayor en el contenido de magnesio, los vinos de esta clase cuentan entre 90 y 131 mg de magnesio, resaltando una media de 106 con una desviación de 10.4. La función es unimodal con una desviación de 0.5."
   ]
  },
  {
   "cell_type": "code",
   "execution_count": 59,
   "metadata": {},
   "outputs": [
    {
     "name": "stdout",
     "output_type": "stream",
     "text": [
      "******* Magnesio Clase 2********\n",
      "Media =  94.54929577464789\n",
      "varianza =  276.7264431660386\n",
      "Desviación =  16.635096728484587\n",
      "sknew =  2.068766308330599\n",
      "kurtosis =  4.670458404091595\n",
      "(array([ 4., 35., 10., 12.,  4.,  1.,  1.,  2.,  1.,  1.]), array([ 70. ,  79.2,  88.4,  97.6, 106.8, 116. , 125.2, 134.4, 143.6,\n",
      "       152.8, 162. ]), <a list of 10 Patch objects>)\n"
     ]
    },
    {
     "data": {
      "image/png": "[encoded data removed]",
      "text/plain": [
       "<Figure size 432x288 with 1 Axes>"
      ]
     },
     "metadata": {
      "needs_background": "light"
     },
     "output_type": "display_data"
    }
   ],
   "source": [
    "print('******* Magnesio Clase 2********')\n",
    "print(\"Media = \", dfc2[\"Magnesio\"].mean())\n",
    "print(\"varianza = \", np.var(dfc2[\"Magnesio\"]))\n",
    "print(\"Desviación = \", np.std(dfc2[\"Magnesio\"]))\n",
    "print(\"sknew = \", sp.skew(dfc2[\"Magnesio\"]))\n",
    "print(\"kurtosis = \", sp.kurtosis(dfc2[\"Magnesio\"]))\n",
    "print(plt.hist(dfc2[\"Magnesio\"]))"
   ]
  },
  {
   "cell_type": "markdown",
   "metadata": {},
   "source": [
    "A diferencia de la clase anterior, en los vinos de clase 2, existe una concentración mayor de mg de magnesio, aunque se encuentran desde los 70 hasta los 160, sobresaliendo una media de 94.55 y una desviación de 16. Claramente es una desviación positiva de 2.06"
   ]
  },
  {
   "cell_type": "code",
   "execution_count": 60,
   "metadata": {},
   "outputs": [
    {
     "name": "stdout",
     "output_type": "stream",
     "text": [
      "******* Magnesio Clase 3********\n",
      "Media =  99.24489795918367\n",
      "varianza =  113.98084131611832\n",
      "Desviación =  10.676181026758506\n",
      "sknew =  0.5464957464973637\n",
      "kurtosis =  -0.5633341011787278\n",
      "(array([ 1.,  7.,  8., 10.,  4.,  5.,  4.,  5.,  1.,  4.]), array([ 80. ,  84.3,  88.6,  92.9,  97.2, 101.5, 105.8, 110.1, 114.4,\n",
      "       118.7, 123. ]), <a list of 10 Patch objects>)\n"
     ]
    },
    {
     "data": {
      "image/png": "[encoded data removed]",
      "text/plain": [
       "<Figure size 432x288 with 1 Axes>"
      ]
     },
     "metadata": {
      "needs_background": "light"
     },
     "output_type": "display_data"
    }
   ],
   "source": [
    "print('******* Magnesio Clase 3********')\n",
    "print(\"Media = \", dfc3[\"Magnesio\"].mean())\n",
    "print(\"varianza = \", np.var(dfc3[\"Magnesio\"]))\n",
    "print(\"Desviación = \", np.std(dfc3[\"Magnesio\"]))\n",
    "print(\"sknew = \", sp.skew(dfc3[\"Magnesio\"]))\n",
    "print(\"kurtosis = \", sp.kurtosis(dfc3[\"Magnesio\"]))\n",
    "print(plt.hist(dfc3[\"Magnesio\"]))"
   ]
  },
  {
   "cell_type": "markdown",
   "metadata": {},
   "source": [
    "La clase 3, por el contrario, tiene una dispersión mayor, de forma similar a la clase 1. El promedio mostrado en la función es de 99.25. La función unimodal es positiva 0.55"
   ]
  },
  {
   "cell_type": "markdown",
   "metadata": {},
   "source": [
    "#### Conclusión\n",
    "El magnesio, definitivamente, es un factor diferenciador en las tres clases de vino, en particular resalta la cantidad de magnesio mostrada en el vino de clase 2. A continuación se muestra el grado de dispersión sobre esta variable para los tres vinos:\n"
   ]
  },
  {
   "cell_type": "code",
   "execution_count": 62,
   "metadata": {},
   "outputs": [
    {
     "data": {
      "text/plain": [
       "<matplotlib.collections.PathCollection at 0x2401c6778d0>"
      ]
     },
     "execution_count": 62,
     "metadata": {},
     "output_type": "execute_result"
    },
    {
     "data": {
      "image/png": "[encoded data removed]",
      "text/plain": [
       "<Figure size 432x288 with 1 Axes>"
      ]
     },
     "metadata": {
      "needs_background": "light"
     },
     "output_type": "display_data"
    }
   ],
   "source": [
    "plt.scatter(df[\"Alcohol\"], df[\"Clase Vino\"])"
   ]
  },
  {
   "cell_type": "markdown",
   "metadata": {},
   "source": [
    "### Intensidad Color\n",
    "La intensidad de color de un vino hace referencia al grado en que la luz lo puede atravesar, al grado de opacidad del vino, cuando se observa el centro de la elipse que forma el vino en una copa inclinada."
   ]
  },
  {
   "cell_type": "code",
   "execution_count": 61,
   "metadata": {},
   "outputs": [
    {
     "name": "stdout",
     "output_type": "stream",
     "text": [
      "******* Intensidad Color ********\n",
      "Media =  5.081229044692739\n",
      "varianza =  5.409704580845796\n",
      "Desviación =  2.325877163748291\n",
      "sknew =  0.8426439704843415\n",
      "kurtosis =  0.2609649250665993\n",
      "(array([16., 42., 32., 38., 17., 13., 11.,  6.,  3.,  1.]), array([ 1.28 ,  2.452,  3.624,  4.796,  5.968,  7.14 ,  8.312,  9.484,\n",
      "       10.656, 11.828, 13.   ]), <a list of 10 Patch objects>)\n"
     ]
    },
    {
     "data": {
      "image/png": "[encoded data removed]",
      "text/plain": [
       "<Figure size 432x288 with 1 Axes>"
      ]
     },
     "metadata": {
      "needs_background": "light"
     },
     "output_type": "display_data"
    }
   ],
   "source": [
    "#Intensidad Color\n",
    "print('******* Intensidad Color ********')\n",
    "print(\"Media = \", df[\"Intensidad Color\"].mean())\n",
    "print(\"varianza = \", np.var(df[\"Intensidad Color\"]))\n",
    "print(\"Desviación = \", np.std(df[\"Intensidad Color\"]))\n",
    "print(\"sknew = \", sp.skew(df[\"Intensidad Color\"]))\n",
    "print(\"kurtosis = \", sp.kurtosis(df[\"Intensidad Color\"]))\n",
    "print(plt.hist(df[\"Intensidad Color\"]))"
   ]
  },
  {
   "cell_type": "markdown",
   "metadata": {},
   "source": [
    "Para toda la muesta, el los vinos muestran una intensidad de color presentada desde 1 hasta 13 puntos. La media general está mostrada sobre 5.08 y una desviación de 5.5. La función es unimodal positiva (0.8)"
   ]
  },
  {
   "cell_type": "code",
   "execution_count": 65,
   "metadata": {},
   "outputs": [
    {
     "name": "stdout",
     "output_type": "stream",
     "text": [
      "******* Intensidad Color Vino 1********\n",
      "Media =  5.528305084745763\n",
      "varianza =  1.5080615340419419\n",
      "Desviación =  1.2280315688295402\n",
      "sknew =  0.5749398979172918\n",
      "kurtosis =  0.01631563579778339\n",
      "(array([ 7.,  8., 10., 10.,  9.,  4.,  6.,  3.,  0.,  2.]), array([3.52 , 4.058, 4.596, 5.134, 5.672, 6.21 , 6.748, 7.286, 7.824,\n",
      "       8.362, 8.9  ]), <a list of 10 Patch objects>)\n"
     ]
    },
    {
     "data": {
      "image/png": "[encoded data removed]",
      "text/plain": [
       "<Figure size 432x288 with 1 Axes>"
      ]
     },
     "metadata": {
      "needs_background": "light"
     },
     "output_type": "display_data"
    }
   ],
   "source": [
    "print('******* Intensidad Color Vino 1********')\n",
    "print(\"Media = \", dfc1[\"Intensidad Color\"].mean())\n",
    "print(\"varianza = \", np.var(dfc1[\"Intensidad Color\"]))\n",
    "print(\"Desviación = \", np.std(dfc1[\"Intensidad Color\"]))\n",
    "print(\"sknew = \", sp.skew(dfc1[\"Intensidad Color\"]))\n",
    "print(\"kurtosis = \", sp.kurtosis(dfc1[\"Intensidad Color\"]))\n",
    "print(plt.hist(dfc1[\"Intensidad Color\"]))"
   ]
  },
  {
   "cell_type": "markdown",
   "metadata": {},
   "source": [
    "Para el vino 1, la intensidad de color está entre 3 y 8, con un promedio de 5.5 y una desviación de 1.2."
   ]
  },
  {
   "cell_type": "code",
   "execution_count": 63,
   "metadata": {},
   "outputs": [
    {
     "name": "stdout",
     "output_type": "stream",
     "text": [
      "******* Intensidad Color Vino 2********\n",
      "Media =  3.08661971830986\n",
      "varianza =  0.8434449117238643\n",
      "Desviación =  0.918392569506017\n",
      "sknew =  1.0177366365997242\n",
      "kurtosis =  1.142659869202645\n",
      "(array([ 2., 10., 14., 17., 13.,  6.,  2.,  4.,  1.,  2.]), array([1.28 , 1.752, 2.224, 2.696, 3.168, 3.64 , 4.112, 4.584, 5.056,\n",
      "       5.528, 6.   ]), <a list of 10 Patch objects>)\n"
     ]
    },
    {
     "data": {
      "image/png": "[encoded data removed]",
      "text/plain": [
       "<Figure size 432x288 with 1 Axes>"
      ]
     },
     "metadata": {
      "needs_background": "light"
     },
     "output_type": "display_data"
    }
   ],
   "source": [
    "print('******* Intensidad Color Vino 2********')\n",
    "print(\"Media = \", dfc2[\"Intensidad Color\"].mean())\n",
    "print(\"varianza = \", np.var(dfc2[\"Intensidad Color\"]))\n",
    "print(\"Desviación = \", np.std(dfc2[\"Intensidad Color\"]))\n",
    "print(\"sknew = \", sp.skew(dfc2[\"Intensidad Color\"]))\n",
    "print(\"kurtosis = \", sp.kurtosis(dfc2[\"Intensidad Color\"]))\n",
    "print(plt.hist(dfc2[\"Intensidad Color\"]))"
   ]
  },
  {
   "cell_type": "markdown",
   "metadata": {},
   "source": [
    "Para el vino de clase 2, la intensidad de color está entre 1 y 6. El promedio mostrado por la función es de 3,08 y una desviación de 0.9. La función es unimodal 1.02"
   ]
  },
  {
   "cell_type": "code",
   "execution_count": 64,
   "metadata": {},
   "outputs": [
    {
     "name": "stdout",
     "output_type": "stream",
     "text": [
      "******* Intensidad Color Vino 3********\n",
      "Media =  7.433061204081633\n",
      "varianza =  5.187519099641835\n",
      "Desviación =  2.2776125876983193\n",
      "sknew =  0.2510725826044246\n",
      "kurtosis =  -0.8476976039002846\n",
      "(array([ 6., 10.,  3.,  5.,  7.,  7.,  5.,  4.,  1.,  1.]), array([ 3.85 ,  4.765,  5.68 ,  6.595,  7.51 ,  8.425,  9.34 , 10.255,\n",
      "       11.17 , 12.085, 13.   ]), <a list of 10 Patch objects>)\n"
     ]
    },
    {
     "data": {
      "image/png": "[encoded data removed]",
      "text/plain": [
       "<Figure size 432x288 with 1 Axes>"
      ]
     },
     "metadata": {
      "needs_background": "light"
     },
     "output_type": "display_data"
    }
   ],
   "source": [
    "print('******* Intensidad Color Vino 3********')\n",
    "print(\"Media = \", dfc3[\"Intensidad Color\"].mean())\n",
    "print(\"varianza = \", np.var(dfc3[\"Intensidad Color\"]))\n",
    "print(\"Desviación = \", np.std(dfc3[\"Intensidad Color\"]))\n",
    "print(\"sknew = \", sp.skew(dfc3[\"Intensidad Color\"]))\n",
    "print(\"kurtosis = \", sp.kurtosis(dfc3[\"Intensidad Color\"]))\n",
    "print(plt.hist(dfc3[\"Intensidad Color\"]))"
   ]
  },
  {
   "cell_type": "markdown",
   "metadata": {},
   "source": [
    "La intensidad de color en el vino de clase 3 es mayor con respecto a los dos anteriores. Para este vino está entre 4 y 13, con un promedio de 7.5 y una desviación de 5. La función es unimodal positiva de 0.2. "
   ]
  },
  {
   "cell_type": "markdown",
   "metadata": {},
   "source": [
    "#### Conclusión\n",
    "De los tres vinos, el 3 es el más oscuro. Su nivel de color es más intenso, lo que puede darse como resultado de la combinación de ingredientes. "
   ]
  },
  {
   "cell_type": "markdown",
   "metadata": {},
   "source": [
    "# Parte 2\n",
    "A partir de matrices de correlación y scatterplot indique su análisis (correlaciones fuertes principalmente)"
   ]
  },
  {
   "cell_type": "code",
   "execution_count": 66,
   "metadata": {},
   "outputs": [
    {
     "data": {
      "text/html": [
       "<div>\n",
       "<style scoped>\n",
       "    .dataframe tbody tr th:only-of-type {\n",
       "        vertical-align: middle;\n",
       "    }\n",
       "\n",
       "    .dataframe tbody tr th {\n",
       "        vertical-align: top;\n",
       "    }\n",
       "\n",
       "    .dataframe thead th {\n",
       "        text-align: right;\n",
       "    }\n",
       "</style>\n",
       "<table border=\"1\" class=\"dataframe\">\n",
       "  <thead>\n",
       "    <tr style=\"text-align: right;\">\n",
       "      <th></th>\n",
       "      <th></th>\n",
       "      <th>Acido Malico</th>\n",
       "      <th>Alcalinidad Cenizas</th>\n",
       "      <th>Alcohol</th>\n",
       "      <th>Cenizas</th>\n",
       "      <th>Fenoles No Flavanoides</th>\n",
       "      <th>Fenoles Totales</th>\n",
       "      <th>Flavanoides</th>\n",
       "      <th>Intensidad Color</th>\n",
       "      <th>Magnesio</th>\n",
       "      <th>Matiz</th>\n",
       "      <th>OD280_OD315 de lso vinos diluidos</th>\n",
       "      <th>Prolina</th>\n",
       "      <th>Protoantocianinas</th>\n",
       "    </tr>\n",
       "    <tr>\n",
       "      <th>Clase Vino</th>\n",
       "      <th></th>\n",
       "      <th></th>\n",
       "      <th></th>\n",
       "      <th></th>\n",
       "      <th></th>\n",
       "      <th></th>\n",
       "      <th></th>\n",
       "      <th></th>\n",
       "      <th></th>\n",
       "      <th></th>\n",
       "      <th></th>\n",
       "      <th></th>\n",
       "      <th></th>\n",
       "      <th></th>\n",
       "    </tr>\n",
       "  </thead>\n",
       "  <tbody>\n",
       "    <tr>\n",
       "      <th rowspan=\"13\" valign=\"top\">1</th>\n",
       "      <th>Acido Malico</th>\n",
       "      <td>1.000000</td>\n",
       "      <td>0.060031</td>\n",
       "      <td>-0.040513</td>\n",
       "      <td>0.026221</td>\n",
       "      <td>-0.089366</td>\n",
       "      <td>-0.083514</td>\n",
       "      <td>-0.191278</td>\n",
       "      <td>-0.257587</td>\n",
       "      <td>0.079317</td>\n",
       "      <td>-0.419981</td>\n",
       "      <td>0.173244</td>\n",
       "      <td>-0.372629</td>\n",
       "      <td>-0.080798</td>\n",
       "    </tr>\n",
       "    <tr>\n",
       "      <th>Alcalinidad Cenizas</th>\n",
       "      <td>0.060031</td>\n",
       "      <td>1.000000</td>\n",
       "      <td>-0.318367</td>\n",
       "      <td>0.549330</td>\n",
       "      <td>0.302262</td>\n",
       "      <td>-0.222999</td>\n",
       "      <td>-0.287103</td>\n",
       "      <td>-0.210951</td>\n",
       "      <td>0.238337</td>\n",
       "      <td>0.092980</td>\n",
       "      <td>-0.117704</td>\n",
       "      <td>-0.122436</td>\n",
       "      <td>-0.173628</td>\n",
       "    </tr>\n",
       "    <tr>\n",
       "      <th>Alcohol</th>\n",
       "      <td>-0.040513</td>\n",
       "      <td>-0.318367</td>\n",
       "      <td>1.000000</td>\n",
       "      <td>-0.148595</td>\n",
       "      <td>0.015659</td>\n",
       "      <td>0.420687</td>\n",
       "      <td>0.414904</td>\n",
       "      <td>0.408291</td>\n",
       "      <td>0.159361</td>\n",
       "      <td>0.080020</td>\n",
       "      <td>0.069818</td>\n",
       "      <td>0.360646</td>\n",
       "      <td>0.307571</td>\n",
       "    </tr>\n",
       "    <tr>\n",
       "      <th>Cenizas</th>\n",
       "      <td>0.026221</td>\n",
       "      <td>0.549330</td>\n",
       "      <td>-0.148595</td>\n",
       "      <td>1.000000</td>\n",
       "      <td>0.465901</td>\n",
       "      <td>0.004802</td>\n",
       "      <td>-0.070454</td>\n",
       "      <td>-0.124220</td>\n",
       "      <td>0.382549</td>\n",
       "      <td>0.239214</td>\n",
       "      <td>-0.081593</td>\n",
       "      <td>-0.029525</td>\n",
       "      <td>-0.145471</td>\n",
       "    </tr>\n",
       "    <tr>\n",
       "      <th>Fenoles No Flavanoides</th>\n",
       "      <td>-0.089366</td>\n",
       "      <td>0.302262</td>\n",
       "      <td>0.015659</td>\n",
       "      <td>0.465901</td>\n",
       "      <td>1.000000</td>\n",
       "      <td>-0.016992</td>\n",
       "      <td>-0.089538</td>\n",
       "      <td>-0.152460</td>\n",
       "      <td>0.237248</td>\n",
       "      <td>0.411831</td>\n",
       "      <td>-0.323488</td>\n",
       "      <td>-0.015333</td>\n",
       "      <td>-0.144535</td>\n",
       "    </tr>\n",
       "    <tr>\n",
       "      <th>Fenoles Totales</th>\n",
       "      <td>-0.083514</td>\n",
       "      <td>-0.222999</td>\n",
       "      <td>0.420687</td>\n",
       "      <td>0.004802</td>\n",
       "      <td>-0.016992</td>\n",
       "      <td>1.000000</td>\n",
       "      <td>0.803784</td>\n",
       "      <td>0.650086</td>\n",
       "      <td>0.307241</td>\n",
       "      <td>-0.224330</td>\n",
       "      <td>0.053165</td>\n",
       "      <td>0.294994</td>\n",
       "      <td>0.373601</td>\n",
       "    </tr>\n",
       "    <tr>\n",
       "      <th>Flavanoides</th>\n",
       "      <td>-0.191278</td>\n",
       "      <td>-0.287103</td>\n",
       "      <td>0.414904</td>\n",
       "      <td>-0.070454</td>\n",
       "      <td>-0.089538</td>\n",
       "      <td>0.803784</td>\n",
       "      <td>1.000000</td>\n",
       "      <td>0.741560</td>\n",
       "      <td>0.123332</td>\n",
       "      <td>0.007863</td>\n",
       "      <td>-0.088529</td>\n",
       "      <td>0.380446</td>\n",
       "      <td>0.548624</td>\n",
       "    </tr>\n",
       "    <tr>\n",
       "      <th>Intensidad Color</th>\n",
       "      <td>-0.257587</td>\n",
       "      <td>-0.210951</td>\n",
       "      <td>0.408291</td>\n",
       "      <td>-0.124220</td>\n",
       "      <td>-0.152460</td>\n",
       "      <td>0.650086</td>\n",
       "      <td>0.741560</td>\n",
       "      <td>1.000000</td>\n",
       "      <td>0.184661</td>\n",
       "      <td>0.028228</td>\n",
       "      <td>-0.186899</td>\n",
       "      <td>0.588770</td>\n",
       "      <td>0.424696</td>\n",
       "    </tr>\n",
       "    <tr>\n",
       "      <th>Magnesio</th>\n",
       "      <td>0.079317</td>\n",
       "      <td>0.238337</td>\n",
       "      <td>0.159361</td>\n",
       "      <td>0.382549</td>\n",
       "      <td>0.237248</td>\n",
       "      <td>0.307241</td>\n",
       "      <td>0.123332</td>\n",
       "      <td>0.184661</td>\n",
       "      <td>1.000000</td>\n",
       "      <td>-0.111386</td>\n",
       "      <td>0.120651</td>\n",
       "      <td>-0.147912</td>\n",
       "      <td>-0.059042</td>\n",
       "    </tr>\n",
       "    <tr>\n",
       "      <th>Matiz</th>\n",
       "      <td>-0.419981</td>\n",
       "      <td>0.092980</td>\n",
       "      <td>0.080020</td>\n",
       "      <td>0.239214</td>\n",
       "      <td>0.411831</td>\n",
       "      <td>-0.224330</td>\n",
       "      <td>0.007863</td>\n",
       "      <td>0.028228</td>\n",
       "      <td>-0.111386</td>\n",
       "      <td>1.000000</td>\n",
       "      <td>-0.310659</td>\n",
       "      <td>0.353366</td>\n",
       "      <td>0.103937</td>\n",
       "    </tr>\n",
       "    <tr>\n",
       "      <th>OD280_OD315 de lso vinos diluidos</th>\n",
       "      <td>0.173244</td>\n",
       "      <td>-0.117704</td>\n",
       "      <td>0.069818</td>\n",
       "      <td>-0.081593</td>\n",
       "      <td>-0.323488</td>\n",
       "      <td>0.053165</td>\n",
       "      <td>-0.088529</td>\n",
       "      <td>-0.186899</td>\n",
       "      <td>0.120651</td>\n",
       "      <td>-0.310659</td>\n",
       "      <td>1.000000</td>\n",
       "      <td>-0.348169</td>\n",
       "      <td>0.003106</td>\n",
       "    </tr>\n",
       "    <tr>\n",
       "      <th>Prolina</th>\n",
       "      <td>-0.372629</td>\n",
       "      <td>-0.122436</td>\n",
       "      <td>0.360646</td>\n",
       "      <td>-0.029525</td>\n",
       "      <td>-0.015333</td>\n",
       "      <td>0.294994</td>\n",
       "      <td>0.380446</td>\n",
       "      <td>0.588770</td>\n",
       "      <td>-0.147912</td>\n",
       "      <td>0.353366</td>\n",
       "      <td>-0.348169</td>\n",
       "      <td>1.000000</td>\n",
       "      <td>0.142166</td>\n",
       "    </tr>\n",
       "    <tr>\n",
       "      <th>Protoantocianinas</th>\n",
       "      <td>-0.080798</td>\n",
       "      <td>-0.173628</td>\n",
       "      <td>0.307571</td>\n",
       "      <td>-0.145471</td>\n",
       "      <td>-0.144535</td>\n",
       "      <td>0.373601</td>\n",
       "      <td>0.548624</td>\n",
       "      <td>0.424696</td>\n",
       "      <td>-0.059042</td>\n",
       "      <td>0.103937</td>\n",
       "      <td>0.003106</td>\n",
       "      <td>0.142166</td>\n",
       "      <td>1.000000</td>\n",
       "    </tr>\n",
       "    <tr>\n",
       "      <th rowspan=\"13\" valign=\"top\">2</th>\n",
       "      <th>Acido Malico</th>\n",
       "      <td>1.000000</td>\n",
       "      <td>0.237923</td>\n",
       "      <td>-0.021362</td>\n",
       "      <td>0.148708</td>\n",
       "      <td>0.127605</td>\n",
       "      <td>0.039441</td>\n",
       "      <td>0.111932</td>\n",
       "      <td>-0.203258</td>\n",
       "      <td>-0.076788</td>\n",
       "      <td>-0.407986</td>\n",
       "      <td>0.157838</td>\n",
       "      <td>-0.224214</td>\n",
       "      <td>0.210541</td>\n",
       "    </tr>\n",
       "    <tr>\n",
       "      <th>Alcalinidad Cenizas</th>\n",
       "      <td>0.237923</td>\n",
       "      <td>1.000000</td>\n",
       "      <td>-0.056282</td>\n",
       "      <td>0.695264</td>\n",
       "      <td>0.182617</td>\n",
       "      <td>0.127942</td>\n",
       "      <td>0.311356</td>\n",
       "      <td>-0.085862</td>\n",
       "      <td>0.003263</td>\n",
       "      <td>-0.076825</td>\n",
       "      <td>0.382078</td>\n",
       "      <td>-0.014507</td>\n",
       "      <td>0.108838</td>\n",
       "    </tr>\n",
       "    <tr>\n",
       "      <th>Alcohol</th>\n",
       "      <td>-0.021362</td>\n",
       "      <td>-0.056282</td>\n",
       "      <td>1.000000</td>\n",
       "      <td>-0.214851</td>\n",
       "      <td>-0.068159</td>\n",
       "      <td>-0.046321</td>\n",
       "      <td>-0.038247</td>\n",
       "      <td>0.269789</td>\n",
       "      <td>-0.029911</td>\n",
       "      <td>-0.002038</td>\n",
       "      <td>-0.130313</td>\n",
       "      <td>0.043174</td>\n",
       "      <td>-0.189617</td>\n",
       "    </tr>\n",
       "    <tr>\n",
       "      <th>Cenizas</th>\n",
       "      <td>0.148708</td>\n",
       "      <td>0.695264</td>\n",
       "      <td>-0.214851</td>\n",
       "      <td>1.000000</td>\n",
       "      <td>0.299757</td>\n",
       "      <td>0.112146</td>\n",
       "      <td>0.314937</td>\n",
       "      <td>0.060247</td>\n",
       "      <td>0.129130</td>\n",
       "      <td>-0.031244</td>\n",
       "      <td>0.160590</td>\n",
       "      <td>0.041959</td>\n",
       "      <td>0.042955</td>\n",
       "    </tr>\n",
       "    <tr>\n",
       "      <th>Fenoles No Flavanoides</th>\n",
       "      <td>0.127605</td>\n",
       "      <td>0.182617</td>\n",
       "      <td>-0.068159</td>\n",
       "      <td>0.299757</td>\n",
       "      <td>1.000000</td>\n",
       "      <td>-0.424746</td>\n",
       "      <td>-0.235258</td>\n",
       "      <td>0.018537</td>\n",
       "      <td>-0.194138</td>\n",
       "      <td>-0.033717</td>\n",
       "      <td>-0.413119</td>\n",
       "      <td>-0.152688</td>\n",
       "      <td>-0.321587</td>\n",
       "    </tr>\n",
       "    <tr>\n",
       "      <th>Fenoles Totales</th>\n",
       "      <td>0.039441</td>\n",
       "      <td>0.127942</td>\n",
       "      <td>-0.046321</td>\n",
       "      <td>0.112146</td>\n",
       "      <td>-0.424746</td>\n",
       "      <td>1.000000</td>\n",
       "      <td>0.770999</td>\n",
       "      <td>0.169072</td>\n",
       "      <td>0.070085</td>\n",
       "      <td>0.039685</td>\n",
       "      <td>0.484666</td>\n",
       "      <td>0.016927</td>\n",
       "      <td>0.382578</td>\n",
       "    </tr>\n",
       "    <tr>\n",
       "      <th>Flavanoides</th>\n",
       "      <td>0.111932</td>\n",
       "      <td>0.311356</td>\n",
       "      <td>-0.038247</td>\n",
       "      <td>0.314937</td>\n",
       "      <td>-0.235258</td>\n",
       "      <td>0.770999</td>\n",
       "      <td>1.000000</td>\n",
       "      <td>0.378563</td>\n",
       "      <td>0.001688</td>\n",
       "      <td>-0.029381</td>\n",
       "      <td>0.579593</td>\n",
       "      <td>-0.122608</td>\n",
       "      <td>0.499311</td>\n",
       "    </tr>\n",
       "    <tr>\n",
       "      <th>Intensidad Color</th>\n",
       "      <td>-0.203258</td>\n",
       "      <td>-0.085862</td>\n",
       "      <td>0.269789</td>\n",
       "      <td>0.060247</td>\n",
       "      <td>0.018537</td>\n",
       "      <td>0.169072</td>\n",
       "      <td>0.378563</td>\n",
       "      <td>1.000000</td>\n",
       "      <td>0.043931</td>\n",
       "      <td>-0.026077</td>\n",
       "      <td>-0.117099</td>\n",
       "      <td>0.102366</td>\n",
       "      <td>-0.073763</td>\n",
       "    </tr>\n",
       "    <tr>\n",
       "      <th>Magnesio</th>\n",
       "      <td>-0.076788</td>\n",
       "      <td>0.003263</td>\n",
       "      <td>-0.029911</td>\n",
       "      <td>0.129130</td>\n",
       "      <td>-0.194138</td>\n",
       "      <td>0.070085</td>\n",
       "      <td>0.001688</td>\n",
       "      <td>0.043931</td>\n",
       "      <td>1.000000</td>\n",
       "      <td>0.124831</td>\n",
       "      <td>-0.076189</td>\n",
       "      <td>0.499593</td>\n",
       "      <td>0.297787</td>\n",
       "    </tr>\n",
       "    <tr>\n",
       "      <th>Matiz</th>\n",
       "      <td>-0.407986</td>\n",
       "      <td>-0.076825</td>\n",
       "      <td>-0.002038</td>\n",
       "      <td>-0.031244</td>\n",
       "      <td>-0.033717</td>\n",
       "      <td>0.039685</td>\n",
       "      <td>-0.029381</td>\n",
       "      <td>-0.026077</td>\n",
       "      <td>0.124831</td>\n",
       "      <td>1.000000</td>\n",
       "      <td>-0.052373</td>\n",
       "      <td>0.114460</td>\n",
       "      <td>-0.054409</td>\n",
       "    </tr>\n",
       "    <tr>\n",
       "      <th>OD280_OD315 de lso vinos diluidos</th>\n",
       "      <td>0.157838</td>\n",
       "      <td>0.382078</td>\n",
       "      <td>-0.130313</td>\n",
       "      <td>0.160590</td>\n",
       "      <td>-0.413119</td>\n",
       "      <td>0.484666</td>\n",
       "      <td>0.579593</td>\n",
       "      <td>-0.117099</td>\n",
       "      <td>-0.076189</td>\n",
       "      <td>-0.052373</td>\n",
       "      <td>1.000000</td>\n",
       "      <td>-0.110812</td>\n",
       "      <td>0.385771</td>\n",
       "    </tr>\n",
       "    <tr>\n",
       "      <th>Prolina</th>\n",
       "      <td>-0.224214</td>\n",
       "      <td>-0.014507</td>\n",
       "      <td>0.043174</td>\n",
       "      <td>0.041959</td>\n",
       "      <td>-0.152688</td>\n",
       "      <td>0.016927</td>\n",
       "      <td>-0.122608</td>\n",
       "      <td>0.102366</td>\n",
       "      <td>0.499593</td>\n",
       "      <td>0.114460</td>\n",
       "      <td>-0.110812</td>\n",
       "      <td>1.000000</td>\n",
       "      <td>0.124417</td>\n",
       "    </tr>\n",
       "    <tr>\n",
       "      <th>Protoantocianinas</th>\n",
       "      <td>0.210541</td>\n",
       "      <td>0.108838</td>\n",
       "      <td>-0.189617</td>\n",
       "      <td>0.042955</td>\n",
       "      <td>-0.321587</td>\n",
       "      <td>0.382578</td>\n",
       "      <td>0.499311</td>\n",
       "      <td>-0.073763</td>\n",
       "      <td>0.297787</td>\n",
       "      <td>-0.054409</td>\n",
       "      <td>0.385771</td>\n",
       "      <td>0.124417</td>\n",
       "      <td>1.000000</td>\n",
       "    </tr>\n",
       "    <tr>\n",
       "      <th rowspan=\"13\" valign=\"top\">3</th>\n",
       "      <th>Acido Malico</th>\n",
       "      <td>1.000000</td>\n",
       "      <td>0.102580</td>\n",
       "      <td>0.132197</td>\n",
       "      <td>0.040791</td>\n",
       "      <td>0.153949</td>\n",
       "      <td>-0.143099</td>\n",
       "      <td>-0.281181</td>\n",
       "      <td>-0.149031</td>\n",
       "      <td>-0.178351</td>\n",
       "      <td>0.069727</td>\n",
       "      <td>0.002683</td>\n",
       "      <td>-0.005952</td>\n",
       "      <td>-0.214767</td>\n",
       "    </tr>\n",
       "    <tr>\n",
       "      <th>Alcalinidad Cenizas</th>\n",
       "      <td>0.102580</td>\n",
       "      <td>1.000000</td>\n",
       "      <td>0.248752</td>\n",
       "      <td>0.768735</td>\n",
       "      <td>0.008476</td>\n",
       "      <td>0.382379</td>\n",
       "      <td>0.264269</td>\n",
       "      <td>0.178252</td>\n",
       "      <td>0.147762</td>\n",
       "      <td>0.009349</td>\n",
       "      <td>0.032304</td>\n",
       "      <td>-0.113336</td>\n",
       "      <td>0.271190</td>\n",
       "    </tr>\n",
       "    <tr>\n",
       "      <th>Alcohol</th>\n",
       "      <td>0.132197</td>\n",
       "      <td>0.248752</td>\n",
       "      <td>1.000000</td>\n",
       "      <td>0.289670</td>\n",
       "      <td>0.069891</td>\n",
       "      <td>0.239192</td>\n",
       "      <td>0.070818</td>\n",
       "      <td>0.365255</td>\n",
       "      <td>-0.092508</td>\n",
       "      <td>-0.056326</td>\n",
       "      <td>0.116216</td>\n",
       "      <td>-0.108169</td>\n",
       "      <td>0.380828</td>\n",
       "    </tr>\n",
       "    <tr>\n",
       "      <th>Cenizas</th>\n",
       "      <td>0.040791</td>\n",
       "      <td>0.768735</td>\n",
       "      <td>0.289670</td>\n",
       "      <td>1.000000</td>\n",
       "      <td>0.010237</td>\n",
       "      <td>0.486916</td>\n",
       "      <td>0.267206</td>\n",
       "      <td>0.146820</td>\n",
       "      <td>0.195295</td>\n",
       "      <td>0.153835</td>\n",
       "      <td>0.208914</td>\n",
       "      <td>-0.162911</td>\n",
       "      <td>0.204113</td>\n",
       "    </tr>\n",
       "    <tr>\n",
       "      <th>Fenoles No Flavanoides</th>\n",
       "      <td>0.153949</td>\n",
       "      <td>0.008476</td>\n",
       "      <td>0.069891</td>\n",
       "      <td>0.010237</td>\n",
       "      <td>1.000000</td>\n",
       "      <td>0.339238</td>\n",
       "      <td>-0.630452</td>\n",
       "      <td>0.040399</td>\n",
       "      <td>-0.506631</td>\n",
       "      <td>0.139320</td>\n",
       "      <td>0.297999</td>\n",
       "      <td>0.188398</td>\n",
       "      <td>0.178966</td>\n",
       "    </tr>\n",
       "    <tr>\n",
       "      <th>Fenoles Totales</th>\n",
       "      <td>-0.143099</td>\n",
       "      <td>0.382379</td>\n",
       "      <td>0.239192</td>\n",
       "      <td>0.486916</td>\n",
       "      <td>0.339238</td>\n",
       "      <td>1.000000</td>\n",
       "      <td>0.234686</td>\n",
       "      <td>0.346686</td>\n",
       "      <td>-0.045668</td>\n",
       "      <td>-0.039277</td>\n",
       "      <td>0.191455</td>\n",
       "      <td>0.029321</td>\n",
       "      <td>0.621897</td>\n",
       "    </tr>\n",
       "    <tr>\n",
       "      <th>Flavanoides</th>\n",
       "      <td>-0.281181</td>\n",
       "      <td>0.264269</td>\n",
       "      <td>0.070818</td>\n",
       "      <td>0.267206</td>\n",
       "      <td>-0.630452</td>\n",
       "      <td>0.234686</td>\n",
       "      <td>1.000000</td>\n",
       "      <td>0.363405</td>\n",
       "      <td>0.568663</td>\n",
       "      <td>-0.290881</td>\n",
       "      <td>-0.428784</td>\n",
       "      <td>-0.244571</td>\n",
       "      <td>0.406274</td>\n",
       "    </tr>\n",
       "    <tr>\n",
       "      <th>Intensidad Color</th>\n",
       "      <td>-0.149031</td>\n",
       "      <td>0.178252</td>\n",
       "      <td>0.365255</td>\n",
       "      <td>0.146820</td>\n",
       "      <td>0.040399</td>\n",
       "      <td>0.346686</td>\n",
       "      <td>0.363405</td>\n",
       "      <td>1.000000</td>\n",
       "      <td>0.098526</td>\n",
       "      <td>-0.572910</td>\n",
       "      <td>-0.107216</td>\n",
       "      <td>0.109401</td>\n",
       "      <td>0.686716</td>\n",
       "    </tr>\n",
       "    <tr>\n",
       "      <th>Magnesio</th>\n",
       "      <td>-0.178351</td>\n",
       "      <td>0.147762</td>\n",
       "      <td>-0.092508</td>\n",
       "      <td>0.195295</td>\n",
       "      <td>-0.506631</td>\n",
       "      <td>-0.045668</td>\n",
       "      <td>0.568663</td>\n",
       "      <td>0.098526</td>\n",
       "      <td>1.000000</td>\n",
       "      <td>0.008582</td>\n",
       "      <td>-0.220649</td>\n",
       "      <td>0.192808</td>\n",
       "      <td>0.149972</td>\n",
       "    </tr>\n",
       "    <tr>\n",
       "      <th>Matiz</th>\n",
       "      <td>0.069727</td>\n",
       "      <td>0.009349</td>\n",
       "      <td>-0.056326</td>\n",
       "      <td>0.153835</td>\n",
       "      <td>0.139320</td>\n",
       "      <td>-0.039277</td>\n",
       "      <td>-0.290881</td>\n",
       "      <td>-0.572910</td>\n",
       "      <td>0.008582</td>\n",
       "      <td>1.000000</td>\n",
       "      <td>0.366428</td>\n",
       "      <td>0.010322</td>\n",
       "      <td>-0.425358</td>\n",
       "    </tr>\n",
       "    <tr>\n",
       "      <th>OD280_OD315 de lso vinos diluidos</th>\n",
       "      <td>0.002683</td>\n",
       "      <td>0.032304</td>\n",
       "      <td>0.116216</td>\n",
       "      <td>0.208914</td>\n",
       "      <td>0.297999</td>\n",
       "      <td>0.191455</td>\n",
       "      <td>-0.428784</td>\n",
       "      <td>-0.107216</td>\n",
       "      <td>-0.220649</td>\n",
       "      <td>0.366428</td>\n",
       "      <td>1.000000</td>\n",
       "      <td>0.198525</td>\n",
       "      <td>-0.131267</td>\n",
       "    </tr>\n",
       "    <tr>\n",
       "      <th>Prolina</th>\n",
       "      <td>-0.005952</td>\n",
       "      <td>-0.113336</td>\n",
       "      <td>-0.108169</td>\n",
       "      <td>-0.162911</td>\n",
       "      <td>0.188398</td>\n",
       "      <td>0.029321</td>\n",
       "      <td>-0.244571</td>\n",
       "      <td>0.109401</td>\n",
       "      <td>0.192808</td>\n",
       "      <td>0.010322</td>\n",
       "      <td>0.198525</td>\n",
       "      <td>1.000000</td>\n",
       "      <td>0.188217</td>\n",
       "    </tr>\n",
       "    <tr>\n",
       "      <th>Protoantocianinas</th>\n",
       "      <td>-0.214767</td>\n",
       "      <td>0.271190</td>\n",
       "      <td>0.380828</td>\n",
       "      <td>0.204113</td>\n",
       "      <td>0.178966</td>\n",
       "      <td>0.621897</td>\n",
       "      <td>0.406274</td>\n",
       "      <td>0.686716</td>\n",
       "      <td>0.149972</td>\n",
       "      <td>-0.425358</td>\n",
       "      <td>-0.131267</td>\n",
       "      <td>0.188217</td>\n",
       "      <td>1.000000</td>\n",
       "    </tr>\n",
       "  </tbody>\n",
       "</table>\n",
       "</div>"
      ],
      "text/plain": [
       "                                              Acido Malico  \\\n",
       "Clase Vino                                                   \n",
       "1          Acido Malico                           1.000000   \n",
       "           Alcalinidad Cenizas                    0.060031   \n",
       "           Alcohol                               -0.040513   \n",
       "           Cenizas                                0.026221   \n",
       "           Fenoles No Flavanoides                -0.089366   \n",
       "           Fenoles Totales                       -0.083514   \n",
       "           Flavanoides                           -0.191278   \n",
       "           Intensidad Color                      -0.257587   \n",
       "           Magnesio                               0.079317   \n",
       "           Matiz                                 -0.419981   \n",
       "           OD280_OD315 de lso vinos diluidos      0.173244   \n",
       "           Prolina                               -0.372629   \n",
       "           Protoantocianinas                     -0.080798   \n",
       "2          Acido Malico                           1.000000   \n",
       "           Alcalinidad Cenizas                    0.237923   \n",
       "           Alcohol                               -0.021362   \n",
       "           Cenizas                                0.148708   \n",
       "           Fenoles No Flavanoides                 0.127605   \n",
       "           Fenoles Totales                        0.039441   \n",
       "           Flavanoides                            0.111932   \n",
       "           Intensidad Color                      -0.203258   \n",
       "           Magnesio                              -0.076788   \n",
       "           Matiz                                 -0.407986   \n",
       "           OD280_OD315 de lso vinos diluidos      0.157838   \n",
       "           Prolina                               -0.224214   \n",
       "           Protoantocianinas                      0.210541   \n",
       "3          Acido Malico                           1.000000   \n",
       "           Alcalinidad Cenizas                    0.102580   \n",
       "           Alcohol                                0.132197   \n",
       "           Cenizas                                0.040791   \n",
       "           Fenoles No Flavanoides                 0.153949   \n",
       "           Fenoles Totales                       -0.143099   \n",
       "           Flavanoides                           -0.281181   \n",
       "           Intensidad Color                      -0.149031   \n",
       "           Magnesio                              -0.178351   \n",
       "           Matiz                                  0.069727   \n",
       "           OD280_OD315 de lso vinos diluidos      0.002683   \n",
       "           Prolina                               -0.005952   \n",
       "           Protoantocianinas                     -0.214767   \n",
       "\n",
       "                                              Alcalinidad Cenizas   Alcohol  \\\n",
       "Clase Vino                                                                    \n",
       "1          Acido Malico                                  0.060031 -0.040513   \n",
       "           Alcalinidad Cenizas                           1.000000 -0.318367   \n",
       "           Alcohol                                      -0.318367  1.000000   \n",
       "           Cenizas                                       0.549330 -0.148595   \n",
       "           Fenoles No Flavanoides                        0.302262  0.015659   \n",
       "           Fenoles Totales                              -0.222999  0.420687   \n",
       "           Flavanoides                                  -0.287103  0.414904   \n",
       "           Intensidad Color                             -0.210951  0.408291   \n",
       "           Magnesio                                      0.238337  0.159361   \n",
       "           Matiz                                         0.092980  0.080020   \n",
       "           OD280_OD315 de lso vinos diluidos            -0.117704  0.069818   \n",
       "           Prolina                                      -0.122436  0.360646   \n",
       "           Protoantocianinas                            -0.173628  0.307571   \n",
       "2          Acido Malico                                  0.237923 -0.021362   \n",
       "           Alcalinidad Cenizas                           1.000000 -0.056282   \n",
       "           Alcohol                                      -0.056282  1.000000   \n",
       "           Cenizas                                       0.695264 -0.214851   \n",
       "           Fenoles No Flavanoides                        0.182617 -0.068159   \n",
       "           Fenoles Totales                               0.127942 -0.046321   \n",
       "           Flavanoides                                   0.311356 -0.038247   \n",
       "           Intensidad Color                             -0.085862  0.269789   \n",
       "           Magnesio                                      0.003263 -0.029911   \n",
       "           Matiz                                        -0.076825 -0.002038   \n",
       "           OD280_OD315 de lso vinos diluidos             0.382078 -0.130313   \n",
       "           Prolina                                      -0.014507  0.043174   \n",
       "           Protoantocianinas                             0.108838 -0.189617   \n",
       "3          Acido Malico                                  0.102580  0.132197   \n",
       "           Alcalinidad Cenizas                           1.000000  0.248752   \n",
       "           Alcohol                                       0.248752  1.000000   \n",
       "           Cenizas                                       0.768735  0.289670   \n",
       "           Fenoles No Flavanoides                        0.008476  0.069891   \n",
       "           Fenoles Totales                               0.382379  0.239192   \n",
       "           Flavanoides                                   0.264269  0.070818   \n",
       "           Intensidad Color                              0.178252  0.365255   \n",
       "           Magnesio                                      0.147762 -0.092508   \n",
       "           Matiz                                         0.009349 -0.056326   \n",
       "           OD280_OD315 de lso vinos diluidos             0.032304  0.116216   \n",
       "           Prolina                                      -0.113336 -0.108169   \n",
       "           Protoantocianinas                             0.271190  0.380828   \n",
       "\n",
       "                                               Cenizas  \\\n",
       "Clase Vino                                               \n",
       "1          Acido Malico                       0.026221   \n",
       "           Alcalinidad Cenizas                0.549330   \n",
       "           Alcohol                           -0.148595   \n",
       "           Cenizas                            1.000000   \n",
       "           Fenoles No Flavanoides             0.465901   \n",
       "           Fenoles Totales                    0.004802   \n",
       "           Flavanoides                       -0.070454   \n",
       "           Intensidad Color                  -0.124220   \n",
       "           Magnesio                           0.382549   \n",
       "           Matiz                              0.239214   \n",
       "           OD280_OD315 de lso vinos diluidos -0.081593   \n",
       "           Prolina                           -0.029525   \n",
       "           Protoantocianinas                 -0.145471   \n",
       "2          Acido Malico                       0.148708   \n",
       "           Alcalinidad Cenizas                0.695264   \n",
       "           Alcohol                           -0.214851   \n",
       "           Cenizas                            1.000000   \n",
       "           Fenoles No Flavanoides             0.299757   \n",
       "           Fenoles Totales                    0.112146   \n",
       "           Flavanoides                        0.314937   \n",
       "           Intensidad Color                   0.060247   \n",
       "           Magnesio                           0.129130   \n",
       "           Matiz                             -0.031244   \n",
       "           OD280_OD315 de lso vinos diluidos  0.160590   \n",
       "           Prolina                            0.041959   \n",
       "           Protoantocianinas                  0.042955   \n",
       "3          Acido Malico                       0.040791   \n",
       "           Alcalinidad Cenizas                0.768735   \n",
       "           Alcohol                            0.289670   \n",
       "           Cenizas                            1.000000   \n",
       "           Fenoles No Flavanoides             0.010237   \n",
       "           Fenoles Totales                    0.486916   \n",
       "           Flavanoides                        0.267206   \n",
       "           Intensidad Color                   0.146820   \n",
       "           Magnesio                           0.195295   \n",
       "           Matiz                              0.153835   \n",
       "           OD280_OD315 de lso vinos diluidos  0.208914   \n",
       "           Prolina                           -0.162911   \n",
       "           Protoantocianinas                  0.204113   \n",
       "\n",
       "                                              Fenoles No Flavanoides  \\\n",
       "Clase Vino                                                             \n",
       "1          Acido Malico                                    -0.089366   \n",
       "           Alcalinidad Cenizas                              0.302262   \n",
       "           Alcohol                                          0.015659   \n",
       "           Cenizas                                          0.465901   \n",
       "           Fenoles No Flavanoides                           1.000000   \n",
       "           Fenoles Totales                                 -0.016992   \n",
       "           Flavanoides                                     -0.089538   \n",
       "           Intensidad Color                                -0.152460   \n",
       "           Magnesio                                         0.237248   \n",
       "           Matiz                                            0.411831   \n",
       "           OD280_OD315 de lso vinos diluidos               -0.323488   \n",
       "           Prolina                                         -0.015333   \n",
       "           Protoantocianinas                               -0.144535   \n",
       "2          Acido Malico                                     0.127605   \n",
       "           Alcalinidad Cenizas                              0.182617   \n",
       "           Alcohol                                         -0.068159   \n",
       "           Cenizas                                          0.299757   \n",
       "           Fenoles No Flavanoides                           1.000000   \n",
       "           Fenoles Totales                                 -0.424746   \n",
       "           Flavanoides                                     -0.235258   \n",
       "           Intensidad Color                                 0.018537   \n",
       "           Magnesio                                        -0.194138   \n",
       "           Matiz                                           -0.033717   \n",
       "           OD280_OD315 de lso vinos diluidos               -0.413119   \n",
       "           Prolina                                         -0.152688   \n",
       "           Protoantocianinas                               -0.321587   \n",
       "3          Acido Malico                                     0.153949   \n",
       "           Alcalinidad Cenizas                              0.008476   \n",
       "           Alcohol                                          0.069891   \n",
       "           Cenizas                                          0.010237   \n",
       "           Fenoles No Flavanoides                           1.000000   \n",
       "           Fenoles Totales                                  0.339238   \n",
       "           Flavanoides                                     -0.630452   \n",
       "           Intensidad Color                                 0.040399   \n",
       "           Magnesio                                        -0.506631   \n",
       "           Matiz                                            0.139320   \n",
       "           OD280_OD315 de lso vinos diluidos                0.297999   \n",
       "           Prolina                                          0.188398   \n",
       "           Protoantocianinas                                0.178966   \n",
       "\n",
       "                                              Fenoles Totales  Flavanoides  \\\n",
       "Clase Vino                                                                   \n",
       "1          Acido Malico                             -0.083514    -0.191278   \n",
       "           Alcalinidad Cenizas                      -0.222999    -0.287103   \n",
       "           Alcohol                                   0.420687     0.414904   \n",
       "           Cenizas                                   0.004802    -0.070454   \n",
       "           Fenoles No Flavanoides                   -0.016992    -0.089538   \n",
       "           Fenoles Totales                           1.000000     0.803784   \n",
       "           Flavanoides                               0.803784     1.000000   \n",
       "           Intensidad Color                          0.650086     0.741560   \n",
       "           Magnesio                                  0.307241     0.123332   \n",
       "           Matiz                                    -0.224330     0.007863   \n",
       "           OD280_OD315 de lso vinos diluidos         0.053165    -0.088529   \n",
       "           Prolina                                   0.294994     0.380446   \n",
       "           Protoantocianinas                         0.373601     0.548624   \n",
       "2          Acido Malico                              0.039441     0.111932   \n",
       "           Alcalinidad Cenizas                       0.127942     0.311356   \n",
       "           Alcohol                                  -0.046321    -0.038247   \n",
       "           Cenizas                                   0.112146     0.314937   \n",
       "           Fenoles No Flavanoides                   -0.424746    -0.235258   \n",
       "           Fenoles Totales                           1.000000     0.770999   \n",
       "           Flavanoides                               0.770999     1.000000   \n",
       "           Intensidad Color                          0.169072     0.378563   \n",
       "           Magnesio                                  0.070085     0.001688   \n",
       "           Matiz                                     0.039685    -0.029381   \n",
       "           OD280_OD315 de lso vinos diluidos         0.484666     0.579593   \n",
       "           Prolina                                   0.016927    -0.122608   \n",
       "           Protoantocianinas                         0.382578     0.499311   \n",
       "3          Acido Malico                             -0.143099    -0.281181   \n",
       "           Alcalinidad Cenizas                       0.382379     0.264269   \n",
       "           Alcohol                                   0.239192     0.070818   \n",
       "           Cenizas                                   0.486916     0.267206   \n",
       "           Fenoles No Flavanoides                    0.339238    -0.630452   \n",
       "           Fenoles Totales                           1.000000     0.234686   \n",
       "           Flavanoides                               0.234686     1.000000   \n",
       "           Intensidad Color                          0.346686     0.363405   \n",
       "           Magnesio                                 -0.045668     0.568663   \n",
       "           Matiz                                    -0.039277    -0.290881   \n",
       "           OD280_OD315 de lso vinos diluidos         0.191455    -0.428784   \n",
       "           Prolina                                   0.029321    -0.244571   \n",
       "           Protoantocianinas                         0.621897     0.406274   \n",
       "\n",
       "                                              Intensidad Color  Magnesio  \\\n",
       "Clase Vino                                                                 \n",
       "1          Acido Malico                              -0.257587  0.079317   \n",
       "           Alcalinidad Cenizas                       -0.210951  0.238337   \n",
       "           Alcohol                                    0.408291  0.159361   \n",
       "           Cenizas                                   -0.124220  0.382549   \n",
       "           Fenoles No Flavanoides                    -0.152460  0.237248   \n",
       "           Fenoles Totales                            0.650086  0.307241   \n",
       "           Flavanoides                                0.741560  0.123332   \n",
       "           Intensidad Color                           1.000000  0.184661   \n",
       "           Magnesio                                   0.184661  1.000000   \n",
       "           Matiz                                      0.028228 -0.111386   \n",
       "           OD280_OD315 de lso vinos diluidos         -0.186899  0.120651   \n",
       "           Prolina                                    0.588770 -0.147912   \n",
       "           Protoantocianinas                          0.424696 -0.059042   \n",
       "2          Acido Malico                              -0.203258 -0.076788   \n",
       "           Alcalinidad Cenizas                       -0.085862  0.003263   \n",
       "           Alcohol                                    0.269789 -0.029911   \n",
       "           Cenizas                                    0.060247  0.129130   \n",
       "           Fenoles No Flavanoides                     0.018537 -0.194138   \n",
       "           Fenoles Totales                            0.169072  0.070085   \n",
       "           Flavanoides                                0.378563  0.001688   \n",
       "           Intensidad Color                           1.000000  0.043931   \n",
       "           Magnesio                                   0.043931  1.000000   \n",
       "           Matiz                                     -0.026077  0.124831   \n",
       "           OD280_OD315 de lso vinos diluidos         -0.117099 -0.076189   \n",
       "           Prolina                                    0.102366  0.499593   \n",
       "           Protoantocianinas                         -0.073763  0.297787   \n",
       "3          Acido Malico                              -0.149031 -0.178351   \n",
       "           Alcalinidad Cenizas                        0.178252  0.147762   \n",
       "           Alcohol                                    0.365255 -0.092508   \n",
       "           Cenizas                                    0.146820  0.195295   \n",
       "           Fenoles No Flavanoides                     0.040399 -0.506631   \n",
       "           Fenoles Totales                            0.346686 -0.045668   \n",
       "           Flavanoides                                0.363405  0.568663   \n",
       "           Intensidad Color                           1.000000  0.098526   \n",
       "           Magnesio                                   0.098526  1.000000   \n",
       "           Matiz                                     -0.572910  0.008582   \n",
       "           OD280_OD315 de lso vinos diluidos         -0.107216 -0.220649   \n",
       "           Prolina                                    0.109401  0.192808   \n",
       "           Protoantocianinas                          0.686716  0.149972   \n",
       "\n",
       "                                                 Matiz  \\\n",
       "Clase Vino                                               \n",
       "1          Acido Malico                      -0.419981   \n",
       "           Alcalinidad Cenizas                0.092980   \n",
       "           Alcohol                            0.080020   \n",
       "           Cenizas                            0.239214   \n",
       "           Fenoles No Flavanoides             0.411831   \n",
       "           Fenoles Totales                   -0.224330   \n",
       "           Flavanoides                        0.007863   \n",
       "           Intensidad Color                   0.028228   \n",
       "           Magnesio                          -0.111386   \n",
       "           Matiz                              1.000000   \n",
       "           OD280_OD315 de lso vinos diluidos -0.310659   \n",
       "           Prolina                            0.353366   \n",
       "           Protoantocianinas                  0.103937   \n",
       "2          Acido Malico                      -0.407986   \n",
       "           Alcalinidad Cenizas               -0.076825   \n",
       "           Alcohol                           -0.002038   \n",
       "           Cenizas                           -0.031244   \n",
       "           Fenoles No Flavanoides            -0.033717   \n",
       "           Fenoles Totales                    0.039685   \n",
       "           Flavanoides                       -0.029381   \n",
       "           Intensidad Color                  -0.026077   \n",
       "           Magnesio                           0.124831   \n",
       "           Matiz                              1.000000   \n",
       "           OD280_OD315 de lso vinos diluidos -0.052373   \n",
       "           Prolina                            0.114460   \n",
       "           Protoantocianinas                 -0.054409   \n",
       "3          Acido Malico                       0.069727   \n",
       "           Alcalinidad Cenizas                0.009349   \n",
       "           Alcohol                           -0.056326   \n",
       "           Cenizas                            0.153835   \n",
       "           Fenoles No Flavanoides             0.139320   \n",
       "           Fenoles Totales                   -0.039277   \n",
       "           Flavanoides                       -0.290881   \n",
       "           Intensidad Color                  -0.572910   \n",
       "           Magnesio                           0.008582   \n",
       "           Matiz                              1.000000   \n",
       "           OD280_OD315 de lso vinos diluidos  0.366428   \n",
       "           Prolina                            0.010322   \n",
       "           Protoantocianinas                 -0.425358   \n",
       "\n",
       "                                              OD280_OD315 de lso vinos diluidos  \\\n",
       "Clase Vino                                                                        \n",
       "1          Acido Malico                                                0.173244   \n",
       "           Alcalinidad Cenizas                                        -0.117704   \n",
       "           Alcohol                                                     0.069818   \n",
       "           Cenizas                                                    -0.081593   \n",
       "           Fenoles No Flavanoides                                     -0.323488   \n",
       "           Fenoles Totales                                             0.053165   \n",
       "           Flavanoides                                                -0.088529   \n",
       "           Intensidad Color                                           -0.186899   \n",
       "           Magnesio                                                    0.120651   \n",
       "           Matiz                                                      -0.310659   \n",
       "           OD280_OD315 de lso vinos diluidos                           1.000000   \n",
       "           Prolina                                                    -0.348169   \n",
       "           Protoantocianinas                                           0.003106   \n",
       "2          Acido Malico                                                0.157838   \n",
       "           Alcalinidad Cenizas                                         0.382078   \n",
       "           Alcohol                                                    -0.130313   \n",
       "           Cenizas                                                     0.160590   \n",
       "           Fenoles No Flavanoides                                     -0.413119   \n",
       "           Fenoles Totales                                             0.484666   \n",
       "           Flavanoides                                                 0.579593   \n",
       "           Intensidad Color                                           -0.117099   \n",
       "           Magnesio                                                   -0.076189   \n",
       "           Matiz                                                      -0.052373   \n",
       "           OD280_OD315 de lso vinos diluidos                           1.000000   \n",
       "           Prolina                                                    -0.110812   \n",
       "           Protoantocianinas                                           0.385771   \n",
       "3          Acido Malico                                                0.002683   \n",
       "           Alcalinidad Cenizas                                         0.032304   \n",
       "           Alcohol                                                     0.116216   \n",
       "           Cenizas                                                     0.208914   \n",
       "           Fenoles No Flavanoides                                      0.297999   \n",
       "           Fenoles Totales                                             0.191455   \n",
       "           Flavanoides                                                -0.428784   \n",
       "           Intensidad Color                                           -0.107216   \n",
       "           Magnesio                                                   -0.220649   \n",
       "           Matiz                                                       0.366428   \n",
       "           OD280_OD315 de lso vinos diluidos                           1.000000   \n",
       "           Prolina                                                     0.198525   \n",
       "           Protoantocianinas                                          -0.131267   \n",
       "\n",
       "                                               Prolina  Protoantocianinas  \n",
       "Clase Vino                                                                 \n",
       "1          Acido Malico                      -0.372629          -0.080798  \n",
       "           Alcalinidad Cenizas               -0.122436          -0.173628  \n",
       "           Alcohol                            0.360646           0.307571  \n",
       "           Cenizas                           -0.029525          -0.145471  \n",
       "           Fenoles No Flavanoides            -0.015333          -0.144535  \n",
       "           Fenoles Totales                    0.294994           0.373601  \n",
       "           Flavanoides                        0.380446           0.548624  \n",
       "           Intensidad Color                   0.588770           0.424696  \n",
       "           Magnesio                          -0.147912          -0.059042  \n",
       "           Matiz                              0.353366           0.103937  \n",
       "           OD280_OD315 de lso vinos diluidos -0.348169           0.003106  \n",
       "           Prolina                            1.000000           0.142166  \n",
       "           Protoantocianinas                  0.142166           1.000000  \n",
       "2          Acido Malico                      -0.224214           0.210541  \n",
       "           Alcalinidad Cenizas               -0.014507           0.108838  \n",
       "           Alcohol                            0.043174          -0.189617  \n",
       "           Cenizas                            0.041959           0.042955  \n",
       "           Fenoles No Flavanoides            -0.152688          -0.321587  \n",
       "           Fenoles Totales                    0.016927           0.382578  \n",
       "           Flavanoides                       -0.122608           0.499311  \n",
       "           Intensidad Color                   0.102366          -0.073763  \n",
       "           Magnesio                           0.499593           0.297787  \n",
       "           Matiz                              0.114460          -0.054409  \n",
       "           OD280_OD315 de lso vinos diluidos -0.110812           0.385771  \n",
       "           Prolina                            1.000000           0.124417  \n",
       "           Protoantocianinas                  0.124417           1.000000  \n",
       "3          Acido Malico                      -0.005952          -0.214767  \n",
       "           Alcalinidad Cenizas               -0.113336           0.271190  \n",
       "           Alcohol                           -0.108169           0.380828  \n",
       "           Cenizas                           -0.162911           0.204113  \n",
       "           Fenoles No Flavanoides             0.188398           0.178966  \n",
       "           Fenoles Totales                    0.029321           0.621897  \n",
       "           Flavanoides                       -0.244571           0.406274  \n",
       "           Intensidad Color                   0.109401           0.686716  \n",
       "           Magnesio                           0.192808           0.149972  \n",
       "           Matiz                              0.010322          -0.425358  \n",
       "           OD280_OD315 de lso vinos diluidos  0.198525          -0.131267  \n",
       "           Prolina                            1.000000           0.188217  \n",
       "           Protoantocianinas                  0.188217           1.000000  "
      ]
     },
     "execution_count": 66,
     "metadata": {},
     "output_type": "execute_result"
    }
   ],
   "source": [
    "#matriz de correlaciones por tipo de vino\n",
    "df.loc[:,\"Clase Vino\":\"Prolina\"].groupby(\"Clase Vino\").corr()"
   ]
  },
  {
   "cell_type": "markdown",
   "metadata": {},
   "source": [
    "Para el análisis, se toman aquellos ingredientes que muestran una relación superor a los 0.7. De la tabla de correlaciones se observa una relación de Flavanoides con Intensidad de Color, Flavanoides con Fenoles Totales y Cenizascon Intensidad Color. Por tanto, el análisis se realiza sobre estas 3 correlaciones, de forma separada para cada clase de vino."
   ]
  },
  {
   "cell_type": "markdown",
   "metadata": {},
   "source": [
    "### Relación Flavanoides - Intensidad de Color"
   ]
  },
  {
   "cell_type": "code",
   "execution_count": 66,
   "metadata": {},
   "outputs": [
    {
     "data": {
      "image/png": "[encoded data removed]",
      "text/plain": [
       "<Figure size 432x288 with 1 Axes>"
      ]
     },
     "metadata": {
      "needs_background": "light"
     },
     "output_type": "display_data"
    },
    {
     "data": {
      "image/png": "[encoded data removed]",
      "text/plain": [
       "<Figure size 432x288 with 1 Axes>"
      ]
     },
     "metadata": {
      "needs_background": "light"
     },
     "output_type": "display_data"
    },
    {
     "data": {
      "image/png": "[encoded data removed]",
      "text/plain": [
       "<Figure size 432x288 with 1 Axes>"
      ]
     },
     "metadata": {
      "needs_background": "light"
     },
     "output_type": "display_data"
    }
   ],
   "source": [
    "#Obtenemos la dispersión para los vinos de clase 1\n",
    "plt.scatter(dfc1[\"Flavanoides\"],dfc1[\"Intensidad Color\"])\n",
    "plt.title(\"Correlación Vino Clase 1\")\n",
    "plt.xlabel(\"Flavanoides\")\n",
    "plt.ylabel(\"Intensidad Color\")\n",
    "plt.show()\n",
    "\n",
    "plt.scatter(dfc2[\"Flavanoides\"],dfc2[\"Intensidad Color\"])\n",
    "plt.title(\"Correlación Vino Clase 2\")\n",
    "plt.xlabel(\"Flavanoides\")\n",
    "plt.ylabel(\"Intensidad Color\")\n",
    "plt.show()\n",
    "\n",
    "plt.scatter(dfc3[\"Flavanoides\"],dfc3[\"Intensidad Color\"])\n",
    "plt.title(\"Correlación Vino Clase 3\")\n",
    "plt.xlabel(\"Flavanoides\")\n",
    "plt.ylabel(\"Intensidad Color\")\n",
    "plt.show()"
   ]
  },
  {
   "cell_type": "markdown",
   "metadata": {},
   "source": [
    "#### Conclusión\n",
    "En el vino de clase 1, existe una mayor relación entre los flavanoides y la intensidad de color. El vino 1 y 3 pueden ser los más oscuros y parte de esa intensidad de color puede darse gracias a los flavanoides."
   ]
  },
  {
   "cell_type": "markdown",
   "metadata": {},
   "source": [
    "### Relación Flavanoides - Fenoles Totales"
   ]
  },
  {
   "cell_type": "code",
   "execution_count": 67,
   "metadata": {},
   "outputs": [
    {
     "data": {
      "image/png": "[encoded data removed]",
      "text/plain": [
       "<Figure size 432x288 with 1 Axes>"
      ]
     },
     "metadata": {
      "needs_background": "light"
     },
     "output_type": "display_data"
    },
    {
     "data": {
      "image/png": "[encoded data removed]",
      "text/plain": [
       "<Figure size 432x288 with 1 Axes>"
      ]
     },
     "metadata": {
      "needs_background": "light"
     },
     "output_type": "display_data"
    },
    {
     "data": {
      "image/png": "[encoded data removed]",
      "text/plain": [
       "<Figure size 432x288 with 1 Axes>"
      ]
     },
     "metadata": {
      "needs_background": "light"
     },
     "output_type": "display_data"
    }
   ],
   "source": [
    "plt.scatter(dfc1[\"Flavanoides\"],dfc1[\"Fenoles Totales\"])\n",
    "plt.title(\"Correlación Vino Clase 1\")\n",
    "plt.xlabel(\"Flavanoides\")\n",
    "plt.ylabel(\"Fenoles Totales\")\n",
    "plt.show()\n",
    "\n",
    "plt.scatter(dfc2[\"Flavanoides\"],dfc2[\"Fenoles Totales\"])\n",
    "plt.title(\"Correlación Vino Clase 2\")\n",
    "plt.xlabel(\"Flavanoides\")\n",
    "plt.ylabel(\"Fenoles Totales\")\n",
    "plt.show()\n",
    "\n",
    "plt.scatter(dfc3[\"Flavanoides\"],dfc3[\"Fenoles Totales\"])\n",
    "plt.title(\"Correlación Vino Clase 3\")\n",
    "plt.xlabel(\"Flavanoides\")\n",
    "plt.ylabel(\"Fenoles Totales\")\n",
    "plt.show()"
   ]
  },
  {
   "cell_type": "markdown",
   "metadata": {},
   "source": [
    "#### Conclusión\n",
    "Tanto en el vino de clase 1 y el de clase 2, se observa una mayor relación entre los Flavaniodes y los Fenoles totales."
   ]
  },
  {
   "cell_type": "markdown",
   "metadata": {},
   "source": [
    "### Relación Cenizas- Alcalinidad Cenizas"
   ]
  },
  {
   "cell_type": "code",
   "execution_count": 67,
   "metadata": {},
   "outputs": [
    {
     "data": {
      "image/png": "[encoded data removed]",
      "text/plain": [
       "<Figure size 432x288 with 1 Axes>"
      ]
     },
     "metadata": {
      "needs_background": "light"
     },
     "output_type": "display_data"
    },
    {
     "data": {
      "image/png": "[encoded data removed]",
      "text/plain": [
       "<Figure size 432x288 with 1 Axes>"
      ]
     },
     "metadata": {
      "needs_background": "light"
     },
     "output_type": "display_data"
    },
    {
     "data": {
      "image/png": "[encoded data removed]",
      "text/plain": [
       "<Figure size 432x288 with 1 Axes>"
      ]
     },
     "metadata": {
      "needs_background": "light"
     },
     "output_type": "display_data"
    }
   ],
   "source": [
    "#Obtenemos la dispersión para los vinos de clase 1,\n",
    "plt.scatter(dfc1[\"Cenizas\"],dfc1[\"Alcalinidad Cenizas\"])\n",
    "plt.title(\"Correlación Vino Clase 3\")\n",
    "plt.xlabel(\"Cenizas\")\n",
    "plt.ylabel(\"Alcalinidad Cenizas\")\n",
    "plt.show()\n",
    "\n",
    "#Obtenemos la dispersión para los vinos de clase 2\n",
    "plt.scatter(dfc2[\"Cenizas\"],dfc2[\"Alcalinidad Cenizas\"])\n",
    "plt.title(\"Correlación Vino Clase 3\")\n",
    "plt.xlabel(\"Cenizas\")\n",
    "plt.ylabel(\"Alcalinidad Cenizas\")\n",
    "plt.show()\n",
    "\n",
    "#Obtenemos la dispersión para los vinos de clase 3\n",
    "plt.scatter(dfc3[\"Cenizas\"],dfc3[\"Alcalinidad Cenizas\"])\n",
    "plt.title(\"Correlación Vino Clase 3\")\n",
    "plt.xlabel(\"Cenizas\")\n",
    "plt.ylabel(\"Alcalinidad Cenizas\")\n",
    "plt.show()"
   ]
  },
  {
   "cell_type": "markdown",
   "metadata": {},
   "source": [
    "#### Conclusión\n",
    "Se muestra una relación mayor de cenizas y alcalinidad cenizas en los vinos de clase 2 y 3."
   ]
  },
  {
   "cell_type": "markdown",
   "metadata": {},
   "source": [
    "### Identificación de Ruido\n"
   ]
  },
  {
   "cell_type": "code",
   "execution_count": 72,
   "metadata": {},
   "outputs": [],
   "source": [
    "#Utilizamos la siguiente función para identificar los niveles de ruido en el data set\n",
    "def detect_outlier(data_1):\n",
    "    outliers=[]\n",
    "    threshold=3\n",
    "    mean_1 = np.mean(data_1)\n",
    "    std_1 =np.std(data_1)\n",
    "    \n",
    "    \n",
    "    for y in data_1:\n",
    "        z_score= (y - mean_1)/std_1 \n",
    "        if np.abs(z_score) > threshold:\n",
    "            outliers.append(y)\n",
    "    return outliers"
   ]
  },
  {
   "cell_type": "markdown",
   "metadata": {},
   "source": [
    "Para conocer las variables con mayor ruido, utilizamos un ciclo e invocamos la función por cada dataset"
   ]
  },
  {
   "cell_type": "code",
   "execution_count": 83,
   "metadata": {},
   "outputs": [
    {
     "name": "stdout",
     "output_type": "stream",
     "text": [
      "ID Caso -> []\n",
      "Clase Vino -> []\n",
      "Alcohol -> []\n",
      "Acido Malico -> [5.8]\n",
      "Cenizas -> [3.22, 1.36, 3.23]\n",
      "Alcalinidad Cenizas -> [30.0]\n",
      "Magnesio -> [151, 162]\n",
      "Fenoles Totales -> []\n",
      "Flavanoides -> [5.08]\n",
      "Fenoles No Flavanoides -> []\n",
      "Protoantocianinas -> [3.58]\n",
      "Intensidad Color -> [13.0]\n",
      "Matiz -> [1.71]\n",
      "OD280_OD315 de lso vinos diluidos -> []\n",
      "Prolina -> []\n"
     ]
    }
   ],
   "source": [
    "for column in df.columns:\n",
    "    print(column + ' -> '+ str(detect_outlier(df[column])))"
   ]
  },
  {
   "cell_type": "markdown",
   "metadata": {},
   "source": [
    "De acuerdo a lo anterior se elige: Alcalinidad Cenizas, Cenizas, Alcohol, Magnesio e Intensidad Color"
   ]
  },
  {
   "cell_type": "code",
   "execution_count": 89,
   "metadata": {},
   "outputs": [
    {
     "data": {
      "text/plain": [
       "<matplotlib.axes._subplots.AxesSubplot at 0x2401d184978>"
      ]
     },
     "execution_count": 89,
     "metadata": {},
     "output_type": "execute_result"
    },
    {
     "data": {
      "image/png": "[encoded data removed]",
      "text/plain": [
       "<Figure size 432x288 with 1 Axes>"
      ]
     },
     "metadata": {
      "needs_background": "light"
     },
     "output_type": "display_data"
    },
    {
     "data": {
      "image/png": "[encoded data removed]",
      "text/plain": [
       "<Figure size 432x288 with 1 Axes>"
      ]
     },
     "metadata": {
      "needs_background": "light"
     },
     "output_type": "display_data"
    },
    {
     "data": {
      "image/png": "[encoded data removed]",
      "text/plain": [
       "<Figure size 432x288 with 1 Axes>"
      ]
     },
     "metadata": {
      "needs_background": "light"
     },
     "output_type": "display_data"
    }
   ],
   "source": [
    "# Conayuda del boxplot también podemos identificar las variables con mator ruido\n",
    "dfc1.loc[:,[\"Alcalinidad Cenizas\", \"Cenizas\", \"Alcohol\", \"Magnesio\", \"Intensidad Color\"]].plot.box()\n",
    "dfc2.loc[:,[\"Alcalinidad Cenizas\", \"Cenizas\", \"Alcohol\", \"Magnesio\", \"Intensidad Color\"]].plot.box()\n",
    "dfc3.loc[:,[\"Alcalinidad Cenizas\", \"Cenizas\", \"Alcohol\", \"Magnesio\", \"Intensidad Color\"]].plot.box()"
   ]
  },
  {
   "cell_type": "markdown",
   "metadata": {},
   "source": [
    "#### Conclusión\n",
    "De los cinco ingredientes elegidos anteriormente,  el Magnesio muestra un mayor nivel de ruido seguido por Alcalinidad Cenizas, en cambio, Alcohol no presenta ruido. Usamos la función “detect_outlier(data)” para encontrar el nivel exacto de ruido. "
   ]
  },
  {
   "cell_type": "markdown",
   "metadata": {},
   "source": [
    "### Indique que variables tienen valores faltantes\n",
    "Recordamos que la cantidad de registros en el dataset es de 179, para buscar los valores faltantes usamos la siguiente función."
   ]
  },
  {
   "cell_type": "code",
   "execution_count": 91,
   "metadata": {},
   "outputs": [
    {
     "name": "stdout",
     "output_type": "stream",
     "text": [
      "<class 'pandas.core.frame.DataFrame'>\n",
      "RangeIndex: 179 entries, 0 to 178\n",
      "Data columns (total 15 columns):\n",
      "ID Caso                              179 non-null int64\n",
      "Clase Vino                           179 non-null int64\n",
      "Alcohol                              179 non-null float64\n",
      "Acido Malico                         179 non-null float64\n",
      "Cenizas                              179 non-null float64\n",
      "Alcalinidad Cenizas                  179 non-null float64\n",
      "Magnesio                             179 non-null int64\n",
      "Fenoles Totales                      179 non-null float64\n",
      "Flavanoides                          179 non-null float64\n",
      "Fenoles No Flavanoides               179 non-null float64\n",
      "Protoantocianinas                    179 non-null float64\n",
      "Intensidad Color                     179 non-null float64\n",
      "Matiz                                179 non-null float64\n",
      "OD280_OD315 de lso vinos diluidos    179 non-null float64\n",
      "Prolina                              179 non-null int64\n",
      "dtypes: float64(11), int64(4)\n",
      "memory usage: 21.1 KB\n"
     ]
    }
   ],
   "source": [
    "df.info()"
   ]
  },
  {
   "cell_type": "markdown",
   "metadata": {},
   "source": [
    "Como se observa, el data set no tiene datos faltantes."
   ]
  },
  {
   "cell_type": "markdown",
   "metadata": {},
   "source": [
    "## Operaciones básicas de datos\n",
    "### Discretizar variables (bining)"
   ]
  },
  {
   "cell_type": "markdown",
   "metadata": {},
   "source": [
    "Se eligen las variables: Magnesio, Alcalinidad Cenizas e Intensidad Color pues, como se observó en el punto anterior, presentan mayor nivel de outliers. A continuación se describe cada uno:"
   ]
  },
  {
   "cell_type": "code",
   "execution_count": 94,
   "metadata": {},
   "outputs": [
    {
     "data": {
      "text/plain": [
       "Magnesio_3bin\n",
       "good      101\n",
       "medium     72\n",
       "bad         6\n",
       "dtype: int64"
      ]
     },
     "execution_count": 94,
     "metadata": {},
     "output_type": "execute_result"
    }
   ],
   "source": [
    "# Discretice 3 variables usando le método cut. Explique porqué discretizó estas variables.\n",
    "df[\"Magnesio_3bin\"] = pd.cut(df.loc[:,\"Magnesio\"], 3, labels=[\"good\", \"medium\", \"bad\"])\n",
    "df.groupby(\"Magnesio_3bin\").size()\n"
   ]
  },
  {
   "cell_type": "code",
   "execution_count": 95,
   "metadata": {},
   "outputs": [
    {
     "data": {
      "text/plain": [
       "Magnesio_cuantiles\n",
       "min    47\n",
       "cu1    50\n",
       "cu2    38\n",
       "cu3    44\n",
       "dtype: int64"
      ]
     },
     "execution_count": 95,
     "metadata": {},
     "output_type": "execute_result"
    }
   ],
   "source": [
    "df[\"Magnesio_cuantiles\"] = pd.qcut(df.loc[:,\"Magnesio\"], [0, .25, .5, .75, 1], labels=[\"min\", \"cu1\", \"cu2\", \"cu3\"])\n",
    "df.groupby(\"Magnesio_cuantiles\").size()"
   ]
  },
  {
   "cell_type": "code",
   "execution_count": 74,
   "metadata": {},
   "outputs": [
    {
     "data": {
      "text/plain": [
       "<matplotlib.axes._subplots.AxesSubplot at 0x2b35cf8ec50>"
      ]
     },
     "execution_count": 74,
     "metadata": {},
     "output_type": "execute_result"
    },
    {
     "data": {
      "image/png": "[encoded data removed]",
      "text/plain": [
       "<Figure size 432x288 with 1 Axes>"
      ]
     },
     "metadata": {
      "needs_background": "light"
     },
     "output_type": "display_data"
    }
   ],
   "source": [
    "df.loc[:,[\"Magnesio\"]].plot.box()"
   ]
  },
  {
   "cell_type": "code",
   "execution_count": 75,
   "metadata": {},
   "outputs": [
    {
     "data": {
      "text/plain": [
       "Alcalinidad_3bin\n",
       "good       43\n",
       "medium    114\n",
       "bad        22\n",
       "dtype: int64"
      ]
     },
     "execution_count": 75,
     "metadata": {},
     "output_type": "execute_result"
    }
   ],
   "source": [
    "df[\"Alcalinidad_3bin\"] = pd.cut(df.loc[:,\"Alcalinidad Cenizas\"], 3, labels=[\"good\", \"medium\", \"bad\"])\n",
    "df.groupby(\"Alcalinidad_3bin\").size()"
   ]
  },
  {
   "cell_type": "code",
   "execution_count": 76,
   "metadata": {},
   "outputs": [
    {
     "data": {
      "text/plain": [
       "Alcalinidad_cuantiles\n",
       "min    47\n",
       "cu1    48\n",
       "cu2    42\n",
       "cu3    42\n",
       "dtype: int64"
      ]
     },
     "execution_count": 76,
     "metadata": {},
     "output_type": "execute_result"
    }
   ],
   "source": [
    "df[\"Alcalinidad_cuantiles\"] = pd.qcut(df.loc[:,\"Alcalinidad Cenizas\"], [0, .25, .5, .75, 1], labels=[\"min\", \"cu1\", \"cu2\", \"cu3\"])\n",
    "df.groupby(\"Alcalinidad_cuantiles\").size()"
   ]
  },
  {
   "cell_type": "code",
   "execution_count": 77,
   "metadata": {},
   "outputs": [
    {
     "data": {
      "text/plain": [
       "<matplotlib.axes._subplots.AxesSubplot at 0x2b35ce3d390>"
      ]
     },
     "execution_count": 77,
     "metadata": {},
     "output_type": "execute_result"
    },
    {
     "data": {
      "image/png": "[encoded data removed]",
      "text/plain": [
       "<Figure size 432x288 with 1 Axes>"
      ]
     },
     "metadata": {
      "needs_background": "light"
     },
     "output_type": "display_data"
    }
   ],
   "source": [
    "df.loc[:,[\"Alcalinidad Cenizas\"]].plot.box()"
   ]
  },
  {
   "cell_type": "code",
   "execution_count": 78,
   "metadata": {},
   "outputs": [
    {
     "data": {
      "text/plain": [
       "Color_3bin\n",
       "good      103\n",
       "medium     62\n",
       "bad        14\n",
       "dtype: int64"
      ]
     },
     "execution_count": 78,
     "metadata": {},
     "output_type": "execute_result"
    }
   ],
   "source": [
    "df[\"Color_3bin\"] = pd.cut(df.loc[:,\"Intensidad Color\"], 3, labels=[\"good\", \"medium\", \"bad\"])\n",
    "df.groupby(\"Color_3bin\").size()"
   ]
  },
  {
   "cell_type": "code",
   "execution_count": 79,
   "metadata": {},
   "outputs": [
    {
     "data": {
      "text/plain": [
       "Color_cuantiles\n",
       "min    45\n",
       "cu1    45\n",
       "cu2    44\n",
       "cu3    45\n",
       "dtype: int64"
      ]
     },
     "execution_count": 79,
     "metadata": {},
     "output_type": "execute_result"
    }
   ],
   "source": [
    "df[\"Color_cuantiles\"] = pd.qcut(df.loc[:,\"Intensidad Color\"], [0, .25, .5, .75, 1], labels=[\"min\", \"cu1\", \"cu2\", \"cu3\"])\n",
    "df.groupby(\"Color_cuantiles\").size()"
   ]
  },
  {
   "cell_type": "code",
   "execution_count": 80,
   "metadata": {},
   "outputs": [
    {
     "data": {
      "text/plain": [
       "<matplotlib.axes._subplots.AxesSubplot at 0x2b35ccf3630>"
      ]
     },
     "execution_count": 80,
     "metadata": {},
     "output_type": "execute_result"
    },
    {
     "data": {
      "image/png": "[encoded data removed]",
      "text/plain": [
       "<Figure size 432x288 with 1 Axes>"
      ]
     },
     "metadata": {
      "needs_background": "light"
     },
     "output_type": "display_data"
    }
   ],
   "source": [
    "df.loc[:,[\"Intensidad Color\"]].plot.box()"
   ]
  },
  {
   "cell_type": "markdown",
   "metadata": {},
   "source": [
    "#### Conclisón\n",
    "Las variables seleccionadas muestran un ruido mayor por fuera de los cuartiles superiores. "
   ]
  },
  {
   "cell_type": "markdown",
   "metadata": {},
   "source": [
    "### Contar los missing\n",
    "Puede con las funciones isna y notna identificar y contar los registros nulos en una fila. Si no aplica la función suma es decir solo con pd.isna(df2['one']) enlistara los vacios con del dataset para la columna indicada\n"
   ]
  },
  {
   "cell_type": "code",
   "execution_count": 81,
   "metadata": {},
   "outputs": [
    {
     "name": "stdout",
     "output_type": "stream",
     "text": [
      "El número de vacios en la columna ID Caso es: 0\n",
      "El número de vacios en la columna Clase Vino es: 0\n",
      "El número de vacios en la columna Alcohol es: 0\n",
      "El número de vacios en la columna Acido Malico es: 0\n",
      "El número de vacios en la columna Cenizas es: 0\n",
      "El número de vacios en la columna Alcalinidad Cenizas es: 0\n",
      "El número de vacios en la columna Magnesio es: 0\n",
      "El número de vacios en la columna Fenoles Totales es: 0\n",
      "El número de vacios en la columna Flavanoides es: 0\n",
      "El número de vacios en la columna Fenoles No Flavanoides es: 0\n",
      "El número de vacios en la columna Protoantocianinas es: 0\n",
      "El número de vacios en la columna Intensidad Color es: 0\n",
      "El número de vacios en la columna Matiz es: 0\n",
      "El número de vacios en la columna OD280_OD315 de lso vinos diluidos es: 0\n",
      "El número de vacios en la columna Prolina es: 0\n",
      "El número de vacios en la columna Magnesio_3bin es: 0\n",
      "El número de vacios en la columna Magnesio_cuantiles es: 0\n",
      "El número de vacios en la columna Alcalinidad_3bin es: 0\n",
      "El número de vacios en la columna Alcalinidad_cuantiles es: 0\n",
      "El número de vacios en la columna Color_3bin es: 0\n",
      "El número de vacios en la columna Color_cuantiles es: 0\n"
     ]
    }
   ],
   "source": [
    "for column in df.columns:\n",
    "    print(\"El número de vacios en la columna \"+column+\" es: \" + str(sum(pd.isna(df[column]))))"
   ]
  },
  {
   "cell_type": "markdown",
   "metadata": {},
   "source": [
    "#### Conclusión\n",
    "El data set no tiene valores null"
   ]
  },
  {
   "cell_type": "markdown",
   "metadata": {},
   "source": [
    "### Normalizar una variable\n",
    "Normalizar una variable continua es redimensionarla en medida de desviaciones estándar conocidas como valores Z por la tabla de puntajes Z de la distribución normal, proceso que se hace con la siguiente formula"
   ]
  },
  {
   "cell_type": "code",
   "execution_count": 82,
   "metadata": {},
   "outputs": [
    {
     "data": {
      "text/html": [
       "<div>\n",
       "<style scoped>\n",
       "    .dataframe tbody tr th:only-of-type {\n",
       "        vertical-align: middle;\n",
       "    }\n",
       "\n",
       "    .dataframe tbody tr th {\n",
       "        vertical-align: top;\n",
       "    }\n",
       "\n",
       "    .dataframe thead th {\n",
       "        text-align: right;\n",
       "    }\n",
       "</style>\n",
       "<table border=\"1\" class=\"dataframe\">\n",
       "  <thead>\n",
       "    <tr style=\"text-align: right;\">\n",
       "      <th></th>\n",
       "      <th>Alcohol</th>\n",
       "      <th>Alcohol_normalized</th>\n",
       "    </tr>\n",
       "  </thead>\n",
       "  <tbody>\n",
       "    <tr>\n",
       "      <th>0</th>\n",
       "      <td>14.23</td>\n",
       "      <td>1.502672</td>\n",
       "    </tr>\n",
       "    <tr>\n",
       "      <th>1</th>\n",
       "      <td>13.20</td>\n",
       "      <td>0.237210</td>\n",
       "    </tr>\n",
       "    <tr>\n",
       "      <th>2</th>\n",
       "      <td>13.16</td>\n",
       "      <td>0.188066</td>\n",
       "    </tr>\n",
       "    <tr>\n",
       "      <th>3</th>\n",
       "      <td>14.37</td>\n",
       "      <td>1.674676</td>\n",
       "    </tr>\n",
       "    <tr>\n",
       "      <th>4</th>\n",
       "      <td>13.24</td>\n",
       "      <td>0.286354</td>\n",
       "    </tr>\n",
       "  </tbody>\n",
       "</table>\n",
       "</div>"
      ],
      "text/plain": [
       "   Alcohol  Alcohol_normalized\n",
       "0    14.23            1.502672\n",
       "1    13.20            0.237210\n",
       "2    13.16            0.188066\n",
       "3    14.37            1.674676\n",
       "4    13.24            0.286354"
      ]
     },
     "execution_count": 82,
     "metadata": {},
     "output_type": "execute_result"
    }
   ],
   "source": [
    "df[\"Alcohol_normalized\"] =(df[\"Alcohol\"] - df[\"Alcohol\"].mean())/df[\"Alcohol\"].std()\n",
    "df.loc[:,[\"Alcohol\", \"Alcohol_normalized\"]].head(5)"
   ]
  },
  {
   "cell_type": "markdown",
   "metadata": {},
   "source": [
    "### Identificar valores atípicos"
   ]
  },
  {
   "cell_type": "code",
   "execution_count": 98,
   "metadata": {},
   "outputs": [],
   "source": [
    "df[\"Alcohol_outlier\"] = np.where((df[\"Alcohol\"] > (df[\"Alcohol\"].mean()) + (2*df[\"Alcohol\"].std())) |\n",
    "                                    (df[\"Alcohol\"] > (df[\"Alcohol\"].mean()) - (2*df[\"Alcohol\"].std())), 'yes', 'no')"
   ]
  },
  {
   "cell_type": "code",
   "execution_count": 99,
   "metadata": {},
   "outputs": [
    {
     "data": {
      "text/html": [
       "<div>\n",
       "<style scoped>\n",
       "    .dataframe tbody tr th:only-of-type {\n",
       "        vertical-align: middle;\n",
       "    }\n",
       "\n",
       "    .dataframe tbody tr th {\n",
       "        vertical-align: top;\n",
       "    }\n",
       "\n",
       "    .dataframe thead th {\n",
       "        text-align: right;\n",
       "    }\n",
       "</style>\n",
       "<table border=\"1\" class=\"dataframe\">\n",
       "  <thead>\n",
       "    <tr style=\"text-align: right;\">\n",
       "      <th></th>\n",
       "      <th>ID Caso</th>\n",
       "      <th>Clase Vino</th>\n",
       "      <th>Alcohol</th>\n",
       "      <th>Acido Malico</th>\n",
       "      <th>Cenizas</th>\n",
       "      <th>Alcalinidad Cenizas</th>\n",
       "      <th>Magnesio</th>\n",
       "      <th>Fenoles Totales</th>\n",
       "      <th>Flavanoides</th>\n",
       "      <th>Fenoles No Flavanoides</th>\n",
       "      <th>Protoantocianinas</th>\n",
       "      <th>Intensidad Color</th>\n",
       "      <th>Matiz</th>\n",
       "      <th>OD280_OD315 de lso vinos diluidos</th>\n",
       "      <th>Prolina</th>\n",
       "      <th>Magnesio_3bin</th>\n",
       "      <th>Magnesio_cuantiles</th>\n",
       "      <th>Alcohol_outlier</th>\n",
       "    </tr>\n",
       "  </thead>\n",
       "  <tbody>\n",
       "    <tr>\n",
       "      <th>0</th>\n",
       "      <td>1</td>\n",
       "      <td>1</td>\n",
       "      <td>14.23</td>\n",
       "      <td>1.71</td>\n",
       "      <td>2.43</td>\n",
       "      <td>15.6</td>\n",
       "      <td>127</td>\n",
       "      <td>2.80</td>\n",
       "      <td>3.06</td>\n",
       "      <td>0.28</td>\n",
       "      <td>2.29</td>\n",
       "      <td>5.64</td>\n",
       "      <td>1.04</td>\n",
       "      <td>3.92</td>\n",
       "      <td>1065</td>\n",
       "      <td>medium</td>\n",
       "      <td>cu3</td>\n",
       "      <td>yes</td>\n",
       "    </tr>\n",
       "    <tr>\n",
       "      <th>1</th>\n",
       "      <td>2</td>\n",
       "      <td>1</td>\n",
       "      <td>13.20</td>\n",
       "      <td>1.78</td>\n",
       "      <td>2.14</td>\n",
       "      <td>11.2</td>\n",
       "      <td>100</td>\n",
       "      <td>2.65</td>\n",
       "      <td>2.76</td>\n",
       "      <td>0.26</td>\n",
       "      <td>1.28</td>\n",
       "      <td>4.38</td>\n",
       "      <td>1.05</td>\n",
       "      <td>3.40</td>\n",
       "      <td>1050</td>\n",
       "      <td>good</td>\n",
       "      <td>cu2</td>\n",
       "      <td>yes</td>\n",
       "    </tr>\n",
       "    <tr>\n",
       "      <th>2</th>\n",
       "      <td>3</td>\n",
       "      <td>1</td>\n",
       "      <td>13.16</td>\n",
       "      <td>2.36</td>\n",
       "      <td>2.67</td>\n",
       "      <td>18.6</td>\n",
       "      <td>101</td>\n",
       "      <td>2.80</td>\n",
       "      <td>3.24</td>\n",
       "      <td>0.30</td>\n",
       "      <td>2.81</td>\n",
       "      <td>5.68</td>\n",
       "      <td>1.03</td>\n",
       "      <td>3.17</td>\n",
       "      <td>1185</td>\n",
       "      <td>medium</td>\n",
       "      <td>cu2</td>\n",
       "      <td>yes</td>\n",
       "    </tr>\n",
       "    <tr>\n",
       "      <th>3</th>\n",
       "      <td>4</td>\n",
       "      <td>1</td>\n",
       "      <td>14.37</td>\n",
       "      <td>1.95</td>\n",
       "      <td>2.50</td>\n",
       "      <td>16.8</td>\n",
       "      <td>113</td>\n",
       "      <td>3.85</td>\n",
       "      <td>3.49</td>\n",
       "      <td>0.24</td>\n",
       "      <td>2.18</td>\n",
       "      <td>7.80</td>\n",
       "      <td>0.86</td>\n",
       "      <td>3.45</td>\n",
       "      <td>1480</td>\n",
       "      <td>medium</td>\n",
       "      <td>cu3</td>\n",
       "      <td>yes</td>\n",
       "    </tr>\n",
       "    <tr>\n",
       "      <th>4</th>\n",
       "      <td>5</td>\n",
       "      <td>1</td>\n",
       "      <td>13.24</td>\n",
       "      <td>2.59</td>\n",
       "      <td>2.87</td>\n",
       "      <td>21.0</td>\n",
       "      <td>118</td>\n",
       "      <td>2.80</td>\n",
       "      <td>2.69</td>\n",
       "      <td>0.39</td>\n",
       "      <td>1.82</td>\n",
       "      <td>4.32</td>\n",
       "      <td>1.04</td>\n",
       "      <td>2.93</td>\n",
       "      <td>735</td>\n",
       "      <td>medium</td>\n",
       "      <td>cu3</td>\n",
       "      <td>yes</td>\n",
       "    </tr>\n",
       "  </tbody>\n",
       "</table>\n",
       "</div>"
      ],
      "text/plain": [
       "   ID Caso  Clase Vino  Alcohol  Acido Malico  Cenizas  Alcalinidad Cenizas  \\\n",
       "0        1           1    14.23          1.71     2.43                 15.6   \n",
       "1        2           1    13.20          1.78     2.14                 11.2   \n",
       "2        3           1    13.16          2.36     2.67                 18.6   \n",
       "3        4           1    14.37          1.95     2.50                 16.8   \n",
       "4        5           1    13.24          2.59     2.87                 21.0   \n",
       "\n",
       "   Magnesio  Fenoles Totales  Flavanoides  Fenoles No Flavanoides  \\\n",
       "0       127             2.80         3.06                    0.28   \n",
       "1       100             2.65         2.76                    0.26   \n",
       "2       101             2.80         3.24                    0.30   \n",
       "3       113             3.85         3.49                    0.24   \n",
       "4       118             2.80         2.69                    0.39   \n",
       "\n",
       "   Protoantocianinas  Intensidad Color  Matiz  \\\n",
       "0               2.29              5.64   1.04   \n",
       "1               1.28              4.38   1.05   \n",
       "2               2.81              5.68   1.03   \n",
       "3               2.18              7.80   0.86   \n",
       "4               1.82              4.32   1.04   \n",
       "\n",
       "   OD280_OD315 de lso vinos diluidos  Prolina Magnesio_3bin  \\\n",
       "0                               3.92     1065        medium   \n",
       "1                               3.40     1050          good   \n",
       "2                               3.17     1185        medium   \n",
       "3                               3.45     1480        medium   \n",
       "4                               2.93      735        medium   \n",
       "\n",
       "  Magnesio_cuantiles Alcohol_outlier  \n",
       "0                cu3             yes  \n",
       "1                cu2             yes  \n",
       "2                cu2             yes  \n",
       "3                cu3             yes  \n",
       "4                cu3             yes  "
      ]
     },
     "execution_count": 99,
     "metadata": {},
     "output_type": "execute_result"
    }
   ],
   "source": [
    "df[df[\"Alcohol_outlier\"] == \"yes\"].head()"
   ]
  },
  {
   "cell_type": "code",
   "execution_count": 85,
   "metadata": {},
   "outputs": [
    {
     "name": "stdout",
     "output_type": "stream",
     "text": [
      "11.379063191082375\n"
     ]
    }
   ],
   "source": [
    "print((df[\"Alcohol\"].mean()) - (2*df[\"Alcohol\"].std()))"
   ]
  },
  {
   "cell_type": "markdown",
   "metadata": {},
   "source": [
    "### Ahora que ya se han valores atípicos, escriba una rutina para suavizar/corregir dichos valores, en una nueva columna, llamada Alcohol_sav."
   ]
  },
  {
   "cell_type": "markdown",
   "metadata": {},
   "source": [
    "Para suavizar los valores atípicos reemplazamos estos valores invirtiendo los datos de la encuación que los detecto"
   ]
  },
  {
   "cell_type": "code",
   "execution_count": 105,
   "metadata": {},
   "outputs": [],
   "source": [
    "df[\"Alcohol_sav\"] = np.where((df[\"Alcohol\"] > (df[\"Alcohol\"].mean()) + (2*df[\"Alcohol\"].std())) |\n",
    "                                    (df[\"Alcohol\"] > (df[\"Alcohol\"].mean()) - (2*df[\"Alcohol\"].std())), \n",
    "                                 ((df[\"Alcohol\"].mean()) - (2*df[\"Alcohol\"].std())),\n",
    "                                ((df[\"Alcohol\"].mean()) + (2*df[\"Alcohol\"].std())))"
   ]
  },
  {
   "cell_type": "code",
   "execution_count": 106,
   "metadata": {},
   "outputs": [
    {
     "data": {
      "text/html": [
       "<div>\n",
       "<style scoped>\n",
       "    .dataframe tbody tr th:only-of-type {\n",
       "        vertical-align: middle;\n",
       "    }\n",
       "\n",
       "    .dataframe tbody tr th {\n",
       "        vertical-align: top;\n",
       "    }\n",
       "\n",
       "    .dataframe thead th {\n",
       "        text-align: right;\n",
       "    }\n",
       "</style>\n",
       "<table border=\"1\" class=\"dataframe\">\n",
       "  <thead>\n",
       "    <tr style=\"text-align: right;\">\n",
       "      <th></th>\n",
       "      <th>ID Caso</th>\n",
       "      <th>Clase Vino</th>\n",
       "      <th>Alcohol</th>\n",
       "      <th>Acido Malico</th>\n",
       "      <th>Cenizas</th>\n",
       "      <th>Alcalinidad Cenizas</th>\n",
       "      <th>Magnesio</th>\n",
       "      <th>Fenoles Totales</th>\n",
       "      <th>Flavanoides</th>\n",
       "      <th>Fenoles No Flavanoides</th>\n",
       "      <th>Protoantocianinas</th>\n",
       "      <th>Intensidad Color</th>\n",
       "      <th>Matiz</th>\n",
       "      <th>OD280_OD315 de lso vinos diluidos</th>\n",
       "      <th>Prolina</th>\n",
       "      <th>Magnesio_3bin</th>\n",
       "      <th>Magnesio_cuantiles</th>\n",
       "      <th>Alcohol_outlier</th>\n",
       "      <th>Alcohol_sav</th>\n",
       "    </tr>\n",
       "  </thead>\n",
       "  <tbody>\n",
       "    <tr>\n",
       "      <th>0</th>\n",
       "      <td>1</td>\n",
       "      <td>1</td>\n",
       "      <td>14.23</td>\n",
       "      <td>1.71</td>\n",
       "      <td>2.43</td>\n",
       "      <td>15.6</td>\n",
       "      <td>127</td>\n",
       "      <td>2.80</td>\n",
       "      <td>3.06</td>\n",
       "      <td>0.28</td>\n",
       "      <td>2.29</td>\n",
       "      <td>5.64</td>\n",
       "      <td>1.04</td>\n",
       "      <td>3.92</td>\n",
       "      <td>1065</td>\n",
       "      <td>medium</td>\n",
       "      <td>cu3</td>\n",
       "      <td>yes</td>\n",
       "      <td>11.379063</td>\n",
       "    </tr>\n",
       "    <tr>\n",
       "      <th>1</th>\n",
       "      <td>2</td>\n",
       "      <td>1</td>\n",
       "      <td>13.20</td>\n",
       "      <td>1.78</td>\n",
       "      <td>2.14</td>\n",
       "      <td>11.2</td>\n",
       "      <td>100</td>\n",
       "      <td>2.65</td>\n",
       "      <td>2.76</td>\n",
       "      <td>0.26</td>\n",
       "      <td>1.28</td>\n",
       "      <td>4.38</td>\n",
       "      <td>1.05</td>\n",
       "      <td>3.40</td>\n",
       "      <td>1050</td>\n",
       "      <td>good</td>\n",
       "      <td>cu2</td>\n",
       "      <td>yes</td>\n",
       "      <td>11.379063</td>\n",
       "    </tr>\n",
       "    <tr>\n",
       "      <th>2</th>\n",
       "      <td>3</td>\n",
       "      <td>1</td>\n",
       "      <td>13.16</td>\n",
       "      <td>2.36</td>\n",
       "      <td>2.67</td>\n",
       "      <td>18.6</td>\n",
       "      <td>101</td>\n",
       "      <td>2.80</td>\n",
       "      <td>3.24</td>\n",
       "      <td>0.30</td>\n",
       "      <td>2.81</td>\n",
       "      <td>5.68</td>\n",
       "      <td>1.03</td>\n",
       "      <td>3.17</td>\n",
       "      <td>1185</td>\n",
       "      <td>medium</td>\n",
       "      <td>cu2</td>\n",
       "      <td>yes</td>\n",
       "      <td>11.379063</td>\n",
       "    </tr>\n",
       "    <tr>\n",
       "      <th>3</th>\n",
       "      <td>4</td>\n",
       "      <td>1</td>\n",
       "      <td>14.37</td>\n",
       "      <td>1.95</td>\n",
       "      <td>2.50</td>\n",
       "      <td>16.8</td>\n",
       "      <td>113</td>\n",
       "      <td>3.85</td>\n",
       "      <td>3.49</td>\n",
       "      <td>0.24</td>\n",
       "      <td>2.18</td>\n",
       "      <td>7.80</td>\n",
       "      <td>0.86</td>\n",
       "      <td>3.45</td>\n",
       "      <td>1480</td>\n",
       "      <td>medium</td>\n",
       "      <td>cu3</td>\n",
       "      <td>yes</td>\n",
       "      <td>11.379063</td>\n",
       "    </tr>\n",
       "    <tr>\n",
       "      <th>4</th>\n",
       "      <td>5</td>\n",
       "      <td>1</td>\n",
       "      <td>13.24</td>\n",
       "      <td>2.59</td>\n",
       "      <td>2.87</td>\n",
       "      <td>21.0</td>\n",
       "      <td>118</td>\n",
       "      <td>2.80</td>\n",
       "      <td>2.69</td>\n",
       "      <td>0.39</td>\n",
       "      <td>1.82</td>\n",
       "      <td>4.32</td>\n",
       "      <td>1.04</td>\n",
       "      <td>2.93</td>\n",
       "      <td>735</td>\n",
       "      <td>medium</td>\n",
       "      <td>cu3</td>\n",
       "      <td>yes</td>\n",
       "      <td>11.379063</td>\n",
       "    </tr>\n",
       "  </tbody>\n",
       "</table>\n",
       "</div>"
      ],
      "text/plain": [
       "   ID Caso  Clase Vino  Alcohol  Acido Malico  Cenizas  Alcalinidad Cenizas  \\\n",
       "0        1           1    14.23          1.71     2.43                 15.6   \n",
       "1        2           1    13.20          1.78     2.14                 11.2   \n",
       "2        3           1    13.16          2.36     2.67                 18.6   \n",
       "3        4           1    14.37          1.95     2.50                 16.8   \n",
       "4        5           1    13.24          2.59     2.87                 21.0   \n",
       "\n",
       "   Magnesio  Fenoles Totales  Flavanoides  Fenoles No Flavanoides  \\\n",
       "0       127             2.80         3.06                    0.28   \n",
       "1       100             2.65         2.76                    0.26   \n",
       "2       101             2.80         3.24                    0.30   \n",
       "3       113             3.85         3.49                    0.24   \n",
       "4       118             2.80         2.69                    0.39   \n",
       "\n",
       "   Protoantocianinas  Intensidad Color  Matiz  \\\n",
       "0               2.29              5.64   1.04   \n",
       "1               1.28              4.38   1.05   \n",
       "2               2.81              5.68   1.03   \n",
       "3               2.18              7.80   0.86   \n",
       "4               1.82              4.32   1.04   \n",
       "\n",
       "   OD280_OD315 de lso vinos diluidos  Prolina Magnesio_3bin  \\\n",
       "0                               3.92     1065        medium   \n",
       "1                               3.40     1050          good   \n",
       "2                               3.17     1185        medium   \n",
       "3                               3.45     1480        medium   \n",
       "4                               2.93      735        medium   \n",
       "\n",
       "  Magnesio_cuantiles Alcohol_outlier  Alcohol_sav  \n",
       "0                cu3             yes    11.379063  \n",
       "1                cu2             yes    11.379063  \n",
       "2                cu2             yes    11.379063  \n",
       "3                cu3             yes    11.379063  \n",
       "4                cu3             yes    11.379063  "
      ]
     },
     "execution_count": 106,
     "metadata": {},
     "output_type": "execute_result"
    }
   ],
   "source": [
    "df.head()"
   ]
  },
  {
   "cell_type": "markdown",
   "metadata": {},
   "source": [
    "# Parte final\n",
    "## Teniendo en cuenta los gráficos generados y las medidas tomadas al dataset Clasificación.csv , podría lanzar alguna hipótesis inicial que discrimine las distintas clase de vino?\n",
    "\n",
    "Cada clase de vino tiene una preparación diferente. La mezcla de sus ingredientes hace que cada vino posea un sabor y una coloración diferente. De su mezcla, resaltan el magnesio y la Intensidad del Color como principales diferenciadores entre clases, seguidos por el la Alcalinidad de Cenizas, y las cenizas, cuyos promedios de concentración varían por cada mezcla. Por el contrario, el nivel de alcohol en las tres clases de vinos es casi similar.  "
   ]
  }
 ],
 "metadata": {
  "kernelspec": {
   "display_name": "Python 3",
   "language": "python",
   "name": "python3"
  },
  "language_info": {
   "codemirror_mode": {
    "name": "ipython",
    "version": 3
   },
   "file_extension": ".py",
   "mimetype": "text/x-python",
   "name": "python",
   "nbconvert_exporter": "python",
   "pygments_lexer": "ipython3",
   "version": "3.7.1"
  },
  "widgets": {
   "application/vnd.jupyter.widget-state+json": {
    "state": {},
    "version_major": 2,
    "version_minor": 0
   }
  }
 },
 "nbformat": 4,
 "nbformat_minor": 2
}
